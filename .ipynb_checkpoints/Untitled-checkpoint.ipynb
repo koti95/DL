{
 "cells": [
  {
   "cell_type": "code",
   "execution_count": 27,
   "id": "640754cd",
   "metadata": {},
   "outputs": [],
   "source": [
    "import pandas as pd\n",
    "import numpy as np\n",
    "from sklearn.preprocessing import LabelEncoder\n",
    "import lightgbm as lgb\n",
    "import gc\n",
    "from os import *"
   ]
  },
  {
   "cell_type": "code",
   "execution_count": 28,
   "id": "08f0b9ea",
   "metadata": {},
   "outputs": [],
   "source": [
    "def csv_to_parquet(csv_path, save_name):\n",
    "    df = pd.read_csv(csv_path)\n",
    "    df.to_parquet(f'./{deep1}.parquet')\n",
    "    del df\n",
    "    gc.collect()\n",
    "    print(save_name, 'Done.')"
   ]
  },
  {
   "cell_type": "code",
   "execution_count": 31,
   "id": "7fa4bc8d",
   "metadata": {},
   "outputs": [
    {
     "data": {
      "text/plain": [
       "'C:\\\\deep1'"
      ]
     },
     "execution_count": 31,
     "metadata": {},
     "output_type": "execute_result"
    }
   ],
   "source": [
    "getcwd()"
   ]
  },
  {
   "cell_type": "code",
   "execution_count": 32,
   "id": "13bbaa23",
   "metadata": {},
   "outputs": [
    {
     "ename": "NameError",
     "evalue": "name 'test' is not defined",
     "output_type": "error",
     "traceback": [
      "\u001b[1;31m---------------------------------------------------------------------------\u001b[0m",
      "\u001b[1;31mNameError\u001b[0m                                 Traceback (most recent call last)",
      "Input \u001b[1;32mIn [32]\u001b[0m, in \u001b[0;36m<cell line: 2>\u001b[1;34m()\u001b[0m\n\u001b[0;32m      1\u001b[0m \u001b[38;5;66;03m## 1. 라이브러리 및 데이터\u001b[39;00m\n\u001b[1;32m----> 2\u001b[0m \u001b[43mtest\u001b[49m \u001b[38;5;241m<\u001b[39m\u001b[38;5;241m-\u001b[39mread\u001b[38;5;241m.\u001b[39mcsv(\u001b[38;5;124m\"\u001b[39m\u001b[38;5;124m./test.csv\u001b[39m\u001b[38;5;124m\"\u001b[39m,  stringsAsFactors\u001b[38;5;241m=\u001b[39mFALSE,fileEncoding \u001b[38;5;241m=\u001b[39m \u001b[38;5;124m\"\u001b[39m\u001b[38;5;124mUTF-8\u001b[39m\u001b[38;5;124m\"\u001b[39m)\n\u001b[0;32m      3\u001b[0m train \u001b[38;5;241m<\u001b[39m\u001b[38;5;241m-\u001b[39mread\u001b[38;5;241m.\u001b[39mcsv(\u001b[38;5;124m\"\u001b[39m\u001b[38;5;124m./train.csv\u001b[39m\u001b[38;5;124m\"\u001b[39m, stringsAsFactors\u001b[38;5;241m=\u001b[39mFALSE,fileEncoding \u001b[38;5;241m=\u001b[39m \u001b[38;5;124m\"\u001b[39m\u001b[38;5;124mUTF-8\u001b[39m\u001b[38;5;124m\"\u001b[39m)\n\u001b[0;32m      4\u001b[0m submission_sample \u001b[38;5;241m<\u001b[39m\u001b[38;5;241m-\u001b[39mread\u001b[38;5;241m.\u001b[39mcsv(\u001b[38;5;124m\"\u001b[39m\u001b[38;5;124m./submission_sample.csv\u001b[39m\u001b[38;5;124m\"\u001b[39m, stringsAsFactors\u001b[38;5;241m=\u001b[39mFALSE\n\u001b[0;32m      5\u001b[0m                              ,fileEncoding \u001b[38;5;241m=\u001b[39m \u001b[38;5;124m\"\u001b[39m\u001b[38;5;124mUTF-8\u001b[39m\u001b[38;5;124m\"\u001b[39m)\n",
      "\u001b[1;31mNameError\u001b[0m: name 'test' is not defined"
     ]
    }
   ],
   "source": [
    "## 1. 라이브러리 및 데이터\n",
    "test <-read.csv(\"./test.csv\",  stringsAsFactors=FALSE,fileEncoding = \"UTF-8\")\n",
    "train <-read.csv(\"./train.csv\", stringsAsFactors=FALSE,fileEncoding = \"UTF-8\")\n",
    "submission_sample <-read.csv(\"./submission_sample.csv\", stringsAsFactors=FALSE\n",
    "                             ,fileEncoding = \"UTF-8\")"
   ]
  },
  {
   "cell_type": "code",
   "execution_count": null,
   "id": "dc0f1f03",
   "metadata": {},
   "outputs": [],
   "source": []
  }
 ],
 "metadata": {
  "kernelspec": {
   "display_name": "Python 3 (ipykernel)",
   "language": "python",
   "name": "python3"
  },
  "language_info": {
   "codemirror_mode": {
    "name": "ipython",
    "version": 3
   },
   "file_extension": ".py",
   "mimetype": "text/x-python",
   "name": "python",
   "nbconvert_exporter": "python",
   "pygments_lexer": "ipython3",
   "version": "3.9.12"
  }
 },
 "nbformat": 4,
 "nbformat_minor": 5
}
