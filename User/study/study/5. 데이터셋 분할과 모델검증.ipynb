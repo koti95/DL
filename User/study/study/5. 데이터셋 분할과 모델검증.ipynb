{
 "cells": [
  {
   "cell_type": "code",
   "execution_count": 1,
   "id": "5768cc27",
   "metadata": {},
   "outputs": [],
   "source": [
    "# 훈련데이터 및 테스트 데이터셋 분할\n",
    "# 홀드아웃과 교차검증\n",
    "# 5-1. 특성치(X), 레이블(y) 나누기"
   ]
  },
  {
   "cell_type": "code",
   "execution_count": 4,
   "id": "172a403f",
   "metadata": {},
   "outputs": [
    {
     "data": {
      "text/html": [
       "<div>\n",
       "<style scoped>\n",
       "    .dataframe tbody tr th:only-of-type {\n",
       "        vertical-align: middle;\n",
       "    }\n",
       "\n",
       "    .dataframe tbody tr th {\n",
       "        vertical-align: top;\n",
       "    }\n",
       "\n",
       "    .dataframe thead th {\n",
       "        text-align: right;\n",
       "    }\n",
       "</style>\n",
       "<table border=\"1\" class=\"dataframe\">\n",
       "  <thead>\n",
       "    <tr style=\"text-align: right;\">\n",
       "      <th></th>\n",
       "      <th>gender_female</th>\n",
       "      <th>gender_male</th>\n",
       "      <th>region_Chungcheung</th>\n",
       "      <th>region_Honam</th>\n",
       "      <th>region_Others</th>\n",
       "      <th>region_Sudo</th>\n",
       "      <th>region_Youngnam</th>\n",
       "      <th>edu</th>\n",
       "      <th>income</th>\n",
       "      <th>age</th>\n",
       "      <th>score_gov</th>\n",
       "      <th>score_progress</th>\n",
       "      <th>score_intention</th>\n",
       "      <th>vote</th>\n",
       "      <th>parties</th>\n",
       "    </tr>\n",
       "  </thead>\n",
       "  <tbody>\n",
       "    <tr>\n",
       "      <th>0</th>\n",
       "      <td>0</td>\n",
       "      <td>1</td>\n",
       "      <td>0</td>\n",
       "      <td>0</td>\n",
       "      <td>0</td>\n",
       "      <td>0</td>\n",
       "      <td>1</td>\n",
       "      <td>3</td>\n",
       "      <td>3</td>\n",
       "      <td>3</td>\n",
       "      <td>2</td>\n",
       "      <td>2</td>\n",
       "      <td>4.0</td>\n",
       "      <td>1</td>\n",
       "      <td>2</td>\n",
       "    </tr>\n",
       "    <tr>\n",
       "      <th>1</th>\n",
       "      <td>0</td>\n",
       "      <td>1</td>\n",
       "      <td>0</td>\n",
       "      <td>0</td>\n",
       "      <td>1</td>\n",
       "      <td>0</td>\n",
       "      <td>0</td>\n",
       "      <td>2</td>\n",
       "      <td>3</td>\n",
       "      <td>3</td>\n",
       "      <td>2</td>\n",
       "      <td>4</td>\n",
       "      <td>3.0</td>\n",
       "      <td>0</td>\n",
       "      <td>3</td>\n",
       "    </tr>\n",
       "    <tr>\n",
       "      <th>2</th>\n",
       "      <td>0</td>\n",
       "      <td>1</td>\n",
       "      <td>0</td>\n",
       "      <td>1</td>\n",
       "      <td>0</td>\n",
       "      <td>0</td>\n",
       "      <td>0</td>\n",
       "      <td>1</td>\n",
       "      <td>2</td>\n",
       "      <td>4</td>\n",
       "      <td>1</td>\n",
       "      <td>3</td>\n",
       "      <td>2.8</td>\n",
       "      <td>1</td>\n",
       "      <td>4</td>\n",
       "    </tr>\n",
       "    <tr>\n",
       "      <th>3</th>\n",
       "      <td>1</td>\n",
       "      <td>0</td>\n",
       "      <td>0</td>\n",
       "      <td>0</td>\n",
       "      <td>0</td>\n",
       "      <td>1</td>\n",
       "      <td>0</td>\n",
       "      <td>2</td>\n",
       "      <td>1</td>\n",
       "      <td>3</td>\n",
       "      <td>5</td>\n",
       "      <td>4</td>\n",
       "      <td>2.6</td>\n",
       "      <td>1</td>\n",
       "      <td>1</td>\n",
       "    </tr>\n",
       "    <tr>\n",
       "      <th>4</th>\n",
       "      <td>0</td>\n",
       "      <td>1</td>\n",
       "      <td>0</td>\n",
       "      <td>0</td>\n",
       "      <td>0</td>\n",
       "      <td>1</td>\n",
       "      <td>0</td>\n",
       "      <td>1</td>\n",
       "      <td>2</td>\n",
       "      <td>4</td>\n",
       "      <td>4</td>\n",
       "      <td>3</td>\n",
       "      <td>2.4</td>\n",
       "      <td>1</td>\n",
       "      <td>1</td>\n",
       "    </tr>\n",
       "  </tbody>\n",
       "</table>\n",
       "</div>"
      ],
      "text/plain": [
       "   gender_female  gender_male  region_Chungcheung  region_Honam  \\\n",
       "0              0            1                   0             0   \n",
       "1              0            1                   0             0   \n",
       "2              0            1                   0             1   \n",
       "3              1            0                   0             0   \n",
       "4              0            1                   0             0   \n",
       "\n",
       "   region_Others  region_Sudo  region_Youngnam  edu  income  age  score_gov  \\\n",
       "0              0            0                1    3       3    3          2   \n",
       "1              1            0                0    2       3    3          2   \n",
       "2              0            0                0    1       2    4          1   \n",
       "3              0            1                0    2       1    3          5   \n",
       "4              0            1                0    1       2    4          4   \n",
       "\n",
       "   score_progress  score_intention  vote  parties  \n",
       "0               2              4.0     1        2  \n",
       "1               4              3.0     0        3  \n",
       "2               3              2.8     1        4  \n",
       "3               4              2.6     1        1  \n",
       "4               3              2.4     1        1  "
      ]
     },
     "execution_count": 4,
     "metadata": {},
     "output_type": "execute_result"
    }
   ],
   "source": [
    "# 데이터셋 불어오기 및 확인\n",
    "import warnings\n",
    "warnings.filterwarnings(\"ignore\")\n",
    "import pandas as pd\n",
    "data=pd.read_csv('D:/user/User/pydata/Fvote.csv', encoding='utf-8')\n",
    "data.head()"
   ]
  },
  {
   "cell_type": "code",
   "execution_count": 5,
   "id": "8e0eec11",
   "metadata": {},
   "outputs": [],
   "source": [
    "# 특성변수 데이터셋 나누기 \n",
    "# 방법1: 특성이름으로 데이터셋 나누기 \n",
    "X=data[['gender_female', 'gender_male', 'region_Chungcheung', 'region_Honam', \n",
    "        'region_Others', 'region_Sudo', 'region_Youngnam', 'edu', 'income', \n",
    "        'age', 'score_gov', 'score_progress', 'score_intention']]\n",
    "# 방법2: 특성 위치값으로 데이터셋 나누기 \n",
    "X=data[data.columns[1:14]]\n",
    "\n",
    "# 방법3: loc 함수로 데이터셋 나누기 (단, 불러올 특성이 연달아 있어야 함)\n",
    "X=data.loc[:, 'gender_female':'score_intention']"
   ]
  },
  {
   "cell_type": "code",
   "execution_count": 6,
   "id": "34c2c59c",
   "metadata": {},
   "outputs": [],
   "source": [
    "# 레이블 변수 중 투표여부(vote) 데이터셋 나누기\n",
    "y=data[[\"vote\"]]"
   ]
  },
  {
   "cell_type": "code",
   "execution_count": 7,
   "id": "6f1805e2",
   "metadata": {},
   "outputs": [],
   "source": [
    "# 5-2. train-test 데이터셋 나누기\n",
    "# 훈련데이터와 테스트 데이터 셋 나누기 및 데이터 확인\n",
    "from sklearn.model_selection import train_test_split\n",
    "X_train, X_test, y_train, y_test = train_test_split(X,y,random_state=42, test_size=0.3)"
   ]
  },
  {
   "cell_type": "code",
   "execution_count": 10,
   "id": "54b2d274",
   "metadata": {},
   "outputs": [
    {
     "data": {
      "text/plain": [
       "((147, 13), (64, 13))"
      ]
     },
     "execution_count": 10,
     "metadata": {},
     "output_type": "execute_result"
    }
   ],
   "source": [
    "X_train.shape , X_test.shape"
   ]
  },
  {
   "cell_type": "code",
   "execution_count": 17,
   "id": "9c8457ae",
   "metadata": {},
   "outputs": [
    {
     "data": {
      "text/plain": [
       "(0.6938775510204082, 0.78125)"
      ]
     },
     "execution_count": 17,
     "metadata": {},
     "output_type": "execute_result"
    }
   ],
   "source": [
    "# 5-3. 모델 적용\n",
    "# LogisticRegression 알고리즘 적용\n",
    "from sklearn.linear_model import LogisticRegression\n",
    "model = LogisticRegression()\n",
    "model.fit(X_train, y_train)\n",
    "model.score(X_train, y_train), model.score(X_test, y_test)\n",
    "\n"
   ]
  },
  {
   "cell_type": "code",
   "execution_count": 22,
   "id": "df0b2c31",
   "metadata": {},
   "outputs": [
    {
     "name": "stdout",
     "output_type": "stream",
     "text": [
      "[0.66666667 0.66666667 0.65517241 0.75862069 0.62068966]\n",
      "0.6735632183908045\n"
     ]
    }
   ],
   "source": [
    "# 랜덤없는 교차검증: cross_val_score\n",
    "from sklearn.model_selection import cross_val_score\n",
    "scores=cross_val_score(model, X_train, y_train, cv=5)\n",
    "print(scores)\n",
    "print(scores.mean())"
   ]
  },
  {
   "cell_type": "code",
   "execution_count": 24,
   "id": "9f0736e8",
   "metadata": {},
   "outputs": [
    {
     "name": "stdout",
     "output_type": "stream",
     "text": [
      "5개 폴드의 정확도: [0.66666667 0.66666667 0.65517241 0.75862069 0.62068966]\n"
     ]
    }
   ],
   "source": [
    "# 랜덤 있는 교차검증: K-Fold\n",
    "from sklearn.model_selection import KFold\n",
    "kfold=KFold(n_splits=5, shuffle=True, random_state=42)\n",
    "score=cross_val_score(model, X_train, y_train, cv=kfold)\n",
    "print(\"5개 폴드의 정확도:\", scores)"
   ]
  },
  {
   "cell_type": "code",
   "execution_count": null,
   "id": "115a9d98",
   "metadata": {},
   "outputs": [],
   "source": []
  }
 ],
 "metadata": {
  "kernelspec": {
   "display_name": "Python 3",
   "language": "python",
   "name": "python3"
  },
  "language_info": {
   "codemirror_mode": {
    "name": "ipython",
    "version": 3
   },
   "file_extension": ".py",
   "mimetype": "text/x-python",
   "name": "python",
   "nbconvert_exporter": "python",
   "pygments_lexer": "ipython3",
   "version": "3.8.8"
  }
 },
 "nbformat": 4,
 "nbformat_minor": 5
}
