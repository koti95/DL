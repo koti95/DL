{
  "nbformat": 4,
  "nbformat_minor": 0,
  "metadata": {
    "colab": {
      "provenance": [],
      "gpuType": "T4"
    },
    "kernelspec": {
      "name": "python3",
      "display_name": "Python 3"
    },
    "language_info": {
      "name": "python"
    },
    "gpuClass": "standard",
    "accelerator": "GPU"
  },
  "cells": [
    {
      "cell_type": "code",
      "source": [
        "# 드라이브 마운트\n",
        "from google.colab import drive\n",
        "drive.mount('/content/drive')"
      ],
      "metadata": {
        "colab": {
          "base_uri": "https://localhost:8080/"
        },
        "id": "pjhUX9p5Zn_P",
        "outputId": "8aae26d1-0ae9-4fe6-eef8-46c7daa856ca"
      },
      "execution_count": 1,
      "outputs": [
        {
          "output_type": "stream",
          "name": "stdout",
          "text": [
            "Drive already mounted at /content/drive; to attempt to forcibly remount, call drive.mount(\"/content/drive\", force_remount=True).\n"
          ]
        }
      ]
    },
    {
      "cell_type": "code",
      "source": [
        "colab_path = '/content/drive/MyDrive/ColabNotebooks/airplane'"
      ],
      "metadata": {
        "id": "lhzIFR8HZl9E"
      },
      "execution_count": 2,
      "outputs": []
    },
    {
      "cell_type": "code",
      "source": [
        "import pandas as pd\n",
        "import numpy as np\n",
        "import random\n",
        "import os\n",
        "import gc\n",
        "from sklearn.model_selection import train_test_split\n",
        "from sklearn.ensemble import RandomForestClassifier\n",
        "from sklearn.preprocessing import LabelEncoder,StandardScaler\n",
        "import seaborn as sns\n",
        "import matplotlib.pyplot as plt\n"
      ],
      "metadata": {
        "id": "sOPTs64SadsM"
      },
      "execution_count": 3,
      "outputs": []
    },
    {
      "cell_type": "code",
      "source": [
        "def seed_everything(seed):\n",
        "    random.seed(seed)\n",
        "    os.environ['PYTHONHASHSEED'] = str(seed)\n",
        "    np.random.seed(seed)\n",
        "seed_everything(42) # Seed 고정"
      ],
      "metadata": {
        "id": "c29LRCnEanfe"
      },
      "execution_count": 4,
      "outputs": []
    },
    {
      "cell_type": "code",
      "source": [
        "def csv_to_parquet(csv_path, save_name):\n",
        "    df = pd.read_csv(csv_path)\n",
        "    df.to_parquet(f'./{save_name}.parquet')\n",
        "    del df\n",
        "    gc.collect()\n",
        "    print(save_name, 'Done.')"
      ],
      "metadata": {
        "id": "nVDOrgf2apJB"
      },
      "execution_count": 5,
      "outputs": []
    },
    {
      "cell_type": "code",
      "source": [
        "csv_to_parquet(colab_path + '/train.csv', 'train')\n",
        "csv_to_parquet(colab_path + '/test.csv', 'test')"
      ],
      "metadata": {
        "colab": {
          "base_uri": "https://localhost:8080/"
        },
        "id": "G5m2j1nnaqHn",
        "outputId": "eccf82fc-04ad-410a-eac8-4f1535a06c71"
      },
      "execution_count": 6,
      "outputs": [
        {
          "output_type": "stream",
          "name": "stdout",
          "text": [
            "train Done.\n",
            "test Done.\n"
          ]
        }
      ]
    },
    {
      "cell_type": "code",
      "source": [
        "train = pd.read_parquet('./train.parquet')\n",
        "test = pd.read_parquet('./test.parquet')\n",
        "sample_submission = pd.read_csv(colab_path + '/sample_submission.csv', index_col = 0)"
      ],
      "metadata": {
        "id": "-bU1KK2Ha47J"
      },
      "execution_count": 7,
      "outputs": []
    },
    {
      "cell_type": "markdown",
      "source": [
        "## **결측값 처리**"
      ],
      "metadata": {
        "id": "yXWVTNPprjyu"
      }
    },
    {
      "cell_type": "code",
      "source": [
        "train = train.drop(['Cancelled','Diverted'], axis=1) #의미없는 열 제거\n",
        "test = test.drop(['Cancelled','Diverted'], axis=1) #의미없는 열 제거"
      ],
      "metadata": {
        "id": "pD4o56Y8vGZo"
      },
      "execution_count": 8,
      "outputs": []
    },
    {
      "cell_type": "code",
      "source": [
        "#레이블(Delay)을 제외한 결측값이 존재하는 변수들을 데이터의 최빈값으로 대체합니다\n",
        "NaN_col = ['Origin_State','Destination_State','Airline','Estimated_Departure_Time', 'Estimated_Arrival_Time','Carrier_Code(IATA)','Carrier_ID(DOT)']\n",
        "\n",
        "for col in NaN_col:\n",
        "    mode = train[col].mode()[0]\n",
        "    mode1 = test[col].mode()[0]\n",
        "    train[col] = train[col].fillna(mode)\n",
        "    \n",
        "    if col in test.columns:\n",
        "        test[col] = test[col].fillna(mode1)\n",
        "print('Done.')"
      ],
      "metadata": {
        "colab": {
          "base_uri": "https://localhost:8080/"
        },
        "id": "wCVd_P-2vKl-",
        "outputId": "85db54f9-ed87-47fd-f783-31ffdce964c5"
      },
      "execution_count": 9,
      "outputs": [
        {
          "output_type": "stream",
          "name": "stdout",
          "text": [
            "Done.\n"
          ]
        }
      ]
    },
    {
      "cell_type": "code",
      "source": [
        "#질적 변수들을 라벨인코더를 활용해 수치화합니다\n",
        "qual_col = ['Origin_Airport', 'Origin_State', 'Destination_Airport', 'Destination_State', 'Airline', 'Carrier_Code(IATA)', 'Tail_Number']\n",
        "\n",
        "for i in qual_col:\n",
        "    le = LabelEncoder()\n",
        "    le=le.fit(train[i])\n",
        "    train[i]=le.transform(train[i])\n",
        "    \n",
        "    for label in np.unique(test[i]):\n",
        "        if label not in le.classes_: \n",
        "            le.classes_ = np.append(le.classes_, label)\n",
        "    test[i]=le.transform(test[i])\n",
        "print('Done.')"
      ],
      "metadata": {
        "colab": {
          "base_uri": "https://localhost:8080/"
        },
        "id": "azpcmegivLqf",
        "outputId": "afe90e5b-3c70-486d-bd9a-c497389b5e88"
      },
      "execution_count": 10,
      "outputs": [
        {
          "output_type": "stream",
          "name": "stdout",
          "text": [
            "Done.\n"
          ]
        }
      ]
    },
    {
      "cell_type": "code",
      "source": [
        "# 레이블이 있는 데이터와 레이블이 없는 데이터로 분리\n",
        "labeled_data = train.dropna(subset=['Delay'])\n",
        "unlabeled_data = train[train['Delay'].isnull()]"
      ],
      "metadata": {
        "id": "Hj87xYgguxw_"
      },
      "execution_count": 28,
      "outputs": []
    },
    {
      "cell_type": "code",
      "source": [
        "labeled_data['Delay']=labeled_data['Delay'].replace({'Not_Delayed': 0, 'Delayed': 1})\n"
      ],
      "metadata": {
        "id": "sk2HqfbByWPP",
        "colab": {
          "base_uri": "https://localhost:8080/"
        },
        "outputId": "4201ff6a-d2ce-4225-de8a-fcb7613fccb5"
      },
      "execution_count": 29,
      "outputs": [
        {
          "output_type": "stream",
          "name": "stderr",
          "text": [
            "<ipython-input-29-6c9a21dbc3af>:1: SettingWithCopyWarning: \n",
            "A value is trying to be set on a copy of a slice from a DataFrame.\n",
            "Try using .loc[row_indexer,col_indexer] = value instead\n",
            "\n",
            "See the caveats in the documentation: https://pandas.pydata.org/pandas-docs/stable/user_guide/indexing.html#returning-a-view-versus-a-copy\n",
            "  labeled_data['Delay']=labeled_data['Delay'].replace({'Not_Delayed': 0, 'Delayed': 1})\n"
          ]
        }
      ]
    },
    {
      "cell_type": "code",
      "source": [
        "# 초기 모델 학습\n",
        "model = RandomForestClassifier()\n",
        "X_train = labeled_data.drop(columns=['ID', 'Delay'])\n",
        "y_train = labeled_data['Delay']\n",
        "model.fit(X_train, y_train)"
      ],
      "metadata": {
        "colab": {
          "base_uri": "https://localhost:8080/",
          "height": 74
        },
        "id": "jhFsnjo16Lz-",
        "outputId": "ef245ed1-5016-4b17-f345-2a899227bc76"
      },
      "execution_count": 30,
      "outputs": [
        {
          "output_type": "execute_result",
          "data": {
            "text/plain": [
              "RandomForestClassifier()"
            ],
            "text/html": [
              "<style>#sk-container-id-6 {color: black;background-color: white;}#sk-container-id-6 pre{padding: 0;}#sk-container-id-6 div.sk-toggleable {background-color: white;}#sk-container-id-6 label.sk-toggleable__label {cursor: pointer;display: block;width: 100%;margin-bottom: 0;padding: 0.3em;box-sizing: border-box;text-align: center;}#sk-container-id-6 label.sk-toggleable__label-arrow:before {content: \"▸\";float: left;margin-right: 0.25em;color: #696969;}#sk-container-id-6 label.sk-toggleable__label-arrow:hover:before {color: black;}#sk-container-id-6 div.sk-estimator:hover label.sk-toggleable__label-arrow:before {color: black;}#sk-container-id-6 div.sk-toggleable__content {max-height: 0;max-width: 0;overflow: hidden;text-align: left;background-color: #f0f8ff;}#sk-container-id-6 div.sk-toggleable__content pre {margin: 0.2em;color: black;border-radius: 0.25em;background-color: #f0f8ff;}#sk-container-id-6 input.sk-toggleable__control:checked~div.sk-toggleable__content {max-height: 200px;max-width: 100%;overflow: auto;}#sk-container-id-6 input.sk-toggleable__control:checked~label.sk-toggleable__label-arrow:before {content: \"▾\";}#sk-container-id-6 div.sk-estimator input.sk-toggleable__control:checked~label.sk-toggleable__label {background-color: #d4ebff;}#sk-container-id-6 div.sk-label input.sk-toggleable__control:checked~label.sk-toggleable__label {background-color: #d4ebff;}#sk-container-id-6 input.sk-hidden--visually {border: 0;clip: rect(1px 1px 1px 1px);clip: rect(1px, 1px, 1px, 1px);height: 1px;margin: -1px;overflow: hidden;padding: 0;position: absolute;width: 1px;}#sk-container-id-6 div.sk-estimator {font-family: monospace;background-color: #f0f8ff;border: 1px dotted black;border-radius: 0.25em;box-sizing: border-box;margin-bottom: 0.5em;}#sk-container-id-6 div.sk-estimator:hover {background-color: #d4ebff;}#sk-container-id-6 div.sk-parallel-item::after {content: \"\";width: 100%;border-bottom: 1px solid gray;flex-grow: 1;}#sk-container-id-6 div.sk-label:hover label.sk-toggleable__label {background-color: #d4ebff;}#sk-container-id-6 div.sk-serial::before {content: \"\";position: absolute;border-left: 1px solid gray;box-sizing: border-box;top: 0;bottom: 0;left: 50%;z-index: 0;}#sk-container-id-6 div.sk-serial {display: flex;flex-direction: column;align-items: center;background-color: white;padding-right: 0.2em;padding-left: 0.2em;position: relative;}#sk-container-id-6 div.sk-item {position: relative;z-index: 1;}#sk-container-id-6 div.sk-parallel {display: flex;align-items: stretch;justify-content: center;background-color: white;position: relative;}#sk-container-id-6 div.sk-item::before, #sk-container-id-6 div.sk-parallel-item::before {content: \"\";position: absolute;border-left: 1px solid gray;box-sizing: border-box;top: 0;bottom: 0;left: 50%;z-index: -1;}#sk-container-id-6 div.sk-parallel-item {display: flex;flex-direction: column;z-index: 1;position: relative;background-color: white;}#sk-container-id-6 div.sk-parallel-item:first-child::after {align-self: flex-end;width: 50%;}#sk-container-id-6 div.sk-parallel-item:last-child::after {align-self: flex-start;width: 50%;}#sk-container-id-6 div.sk-parallel-item:only-child::after {width: 0;}#sk-container-id-6 div.sk-dashed-wrapped {border: 1px dashed gray;margin: 0 0.4em 0.5em 0.4em;box-sizing: border-box;padding-bottom: 0.4em;background-color: white;}#sk-container-id-6 div.sk-label label {font-family: monospace;font-weight: bold;display: inline-block;line-height: 1.2em;}#sk-container-id-6 div.sk-label-container {text-align: center;}#sk-container-id-6 div.sk-container {/* jupyter's `normalize.less` sets `[hidden] { display: none; }` but bootstrap.min.css set `[hidden] { display: none !important; }` so we also need the `!important` here to be able to override the default hidden behavior on the sphinx rendered scikit-learn.org. See: https://github.com/scikit-learn/scikit-learn/issues/21755 */display: inline-block !important;position: relative;}#sk-container-id-6 div.sk-text-repr-fallback {display: none;}</style><div id=\"sk-container-id-6\" class=\"sk-top-container\"><div class=\"sk-text-repr-fallback\"><pre>RandomForestClassifier()</pre><b>In a Jupyter environment, please rerun this cell to show the HTML representation or trust the notebook. <br />On GitHub, the HTML representation is unable to render, please try loading this page with nbviewer.org.</b></div><div class=\"sk-container\" hidden><div class=\"sk-item\"><div class=\"sk-estimator sk-toggleable\"><input class=\"sk-toggleable__control sk-hidden--visually\" id=\"sk-estimator-id-6\" type=\"checkbox\" checked><label for=\"sk-estimator-id-6\" class=\"sk-toggleable__label sk-toggleable__label-arrow\">RandomForestClassifier</label><div class=\"sk-toggleable__content\"><pre>RandomForestClassifier()</pre></div></div></div></div></div>"
            ]
          },
          "metadata": {},
          "execution_count": 30
        }
      ]
    },
    {
      "cell_type": "code",
      "source": [
        "    # 레이블이 없는 데이터 예측\n",
        "    X_unlabeled = unlabeled_data.drop(columns=['ID','Delay'])\n",
        "    y_pred = model.predict(X_unlabeled)\n",
        "    y_prob = model.predict_proba(X_unlabeled)\n",
        "\n",
        "    # 모델이 확신을 가지고 있는 새로운 레이블 추가\n",
        "    threshold = 0.95\n",
        "    new_labels = []\n",
        "    for j in range(len(y_prob)):\n",
        "        max_prob = np.max(y_prob[j])\n",
        "        if max_prob >= threshold:\n",
        "            new_labels.append(y_pred[j])\n",
        "        else:\n",
        "            new_labels.append(np.nan)\n",
        "            \"\"\"\n",
        "    # 중지하는 조건 추가\n",
        "    if len(new_labels) == 0 or all(pd.isnull(new_labels)):\n",
        "        break\n",
        "        \"\"\"\n",
        "    # add new labels to unlabeled_data\n",
        "    unlabeled_data['Delay'] = new_labels\n",
        "    unlabeled_data_labeled = unlabeled_data[unlabeled_data['Delay'].notnull()]\n",
        "    unlabeled_data = unlabeled_data[unlabeled_data['Delay'].isnull()]\n",
        "    \"\"\"\n",
        "    # 중지하는 조건 추가\n",
        "    if len(unlabeled_data_labeled) == 0:\n",
        "        break\n",
        "        \"\"\"\n",
        "    # nan이 아닌 데이터와 라벨링된 데이터 병합\n",
        "    labeled_data = pd.concat([labeled_data, unlabeled_data_labeled], ignore_index=True)\n",
        "   \n",
        "    # 초기 모델 학습\n",
        "    model = RandomForestClassifier()\n",
        "    X_train = labeled_data.drop(columns=['ID', 'Delay'])\n",
        "    y_train = labeled_data['Delay']\n",
        "    model.fit(X_train, y_train)\n",
        "    "
      ],
      "metadata": {
        "id": "o1_-8kPy6KUu",
        "colab": {
          "base_uri": "https://localhost:8080/",
          "height": 184
        },
        "outputId": "a56eba8c-348d-41d4-9118-689c2ae1a9ae"
      },
      "execution_count": 31,
      "outputs": [
        {
          "output_type": "stream",
          "name": "stderr",
          "text": [
            "<ipython-input-31-26dda2084f63>:21: SettingWithCopyWarning: \n",
            "A value is trying to be set on a copy of a slice from a DataFrame.\n",
            "Try using .loc[row_indexer,col_indexer] = value instead\n",
            "\n",
            "See the caveats in the documentation: https://pandas.pydata.org/pandas-docs/stable/user_guide/indexing.html#returning-a-view-versus-a-copy\n",
            "  unlabeled_data['Delay'] = new_labels\n"
          ]
        },
        {
          "output_type": "execute_result",
          "data": {
            "text/plain": [
              "RandomForestClassifier()"
            ],
            "text/html": [
              "<style>#sk-container-id-7 {color: black;background-color: white;}#sk-container-id-7 pre{padding: 0;}#sk-container-id-7 div.sk-toggleable {background-color: white;}#sk-container-id-7 label.sk-toggleable__label {cursor: pointer;display: block;width: 100%;margin-bottom: 0;padding: 0.3em;box-sizing: border-box;text-align: center;}#sk-container-id-7 label.sk-toggleable__label-arrow:before {content: \"▸\";float: left;margin-right: 0.25em;color: #696969;}#sk-container-id-7 label.sk-toggleable__label-arrow:hover:before {color: black;}#sk-container-id-7 div.sk-estimator:hover label.sk-toggleable__label-arrow:before {color: black;}#sk-container-id-7 div.sk-toggleable__content {max-height: 0;max-width: 0;overflow: hidden;text-align: left;background-color: #f0f8ff;}#sk-container-id-7 div.sk-toggleable__content pre {margin: 0.2em;color: black;border-radius: 0.25em;background-color: #f0f8ff;}#sk-container-id-7 input.sk-toggleable__control:checked~div.sk-toggleable__content {max-height: 200px;max-width: 100%;overflow: auto;}#sk-container-id-7 input.sk-toggleable__control:checked~label.sk-toggleable__label-arrow:before {content: \"▾\";}#sk-container-id-7 div.sk-estimator input.sk-toggleable__control:checked~label.sk-toggleable__label {background-color: #d4ebff;}#sk-container-id-7 div.sk-label input.sk-toggleable__control:checked~label.sk-toggleable__label {background-color: #d4ebff;}#sk-container-id-7 input.sk-hidden--visually {border: 0;clip: rect(1px 1px 1px 1px);clip: rect(1px, 1px, 1px, 1px);height: 1px;margin: -1px;overflow: hidden;padding: 0;position: absolute;width: 1px;}#sk-container-id-7 div.sk-estimator {font-family: monospace;background-color: #f0f8ff;border: 1px dotted black;border-radius: 0.25em;box-sizing: border-box;margin-bottom: 0.5em;}#sk-container-id-7 div.sk-estimator:hover {background-color: #d4ebff;}#sk-container-id-7 div.sk-parallel-item::after {content: \"\";width: 100%;border-bottom: 1px solid gray;flex-grow: 1;}#sk-container-id-7 div.sk-label:hover label.sk-toggleable__label {background-color: #d4ebff;}#sk-container-id-7 div.sk-serial::before {content: \"\";position: absolute;border-left: 1px solid gray;box-sizing: border-box;top: 0;bottom: 0;left: 50%;z-index: 0;}#sk-container-id-7 div.sk-serial {display: flex;flex-direction: column;align-items: center;background-color: white;padding-right: 0.2em;padding-left: 0.2em;position: relative;}#sk-container-id-7 div.sk-item {position: relative;z-index: 1;}#sk-container-id-7 div.sk-parallel {display: flex;align-items: stretch;justify-content: center;background-color: white;position: relative;}#sk-container-id-7 div.sk-item::before, #sk-container-id-7 div.sk-parallel-item::before {content: \"\";position: absolute;border-left: 1px solid gray;box-sizing: border-box;top: 0;bottom: 0;left: 50%;z-index: -1;}#sk-container-id-7 div.sk-parallel-item {display: flex;flex-direction: column;z-index: 1;position: relative;background-color: white;}#sk-container-id-7 div.sk-parallel-item:first-child::after {align-self: flex-end;width: 50%;}#sk-container-id-7 div.sk-parallel-item:last-child::after {align-self: flex-start;width: 50%;}#sk-container-id-7 div.sk-parallel-item:only-child::after {width: 0;}#sk-container-id-7 div.sk-dashed-wrapped {border: 1px dashed gray;margin: 0 0.4em 0.5em 0.4em;box-sizing: border-box;padding-bottom: 0.4em;background-color: white;}#sk-container-id-7 div.sk-label label {font-family: monospace;font-weight: bold;display: inline-block;line-height: 1.2em;}#sk-container-id-7 div.sk-label-container {text-align: center;}#sk-container-id-7 div.sk-container {/* jupyter's `normalize.less` sets `[hidden] { display: none; }` but bootstrap.min.css set `[hidden] { display: none !important; }` so we also need the `!important` here to be able to override the default hidden behavior on the sphinx rendered scikit-learn.org. See: https://github.com/scikit-learn/scikit-learn/issues/21755 */display: inline-block !important;position: relative;}#sk-container-id-7 div.sk-text-repr-fallback {display: none;}</style><div id=\"sk-container-id-7\" class=\"sk-top-container\"><div class=\"sk-text-repr-fallback\"><pre>RandomForestClassifier()</pre><b>In a Jupyter environment, please rerun this cell to show the HTML representation or trust the notebook. <br />On GitHub, the HTML representation is unable to render, please try loading this page with nbviewer.org.</b></div><div class=\"sk-container\" hidden><div class=\"sk-item\"><div class=\"sk-estimator sk-toggleable\"><input class=\"sk-toggleable__control sk-hidden--visually\" id=\"sk-estimator-id-7\" type=\"checkbox\" checked><label for=\"sk-estimator-id-7\" class=\"sk-toggleable__label sk-toggleable__label-arrow\">RandomForestClassifier</label><div class=\"sk-toggleable__content\"><pre>RandomForestClassifier()</pre></div></div></div></div></div>"
            ]
          },
          "metadata": {},
          "execution_count": 31
        }
      ]
    },
    {
      "cell_type": "code",
      "source": [
        "labeled_data['Delay'].value_counts()"
      ],
      "metadata": {
        "colab": {
          "base_uri": "https://localhost:8080/"
        },
        "id": "GT4Sw-J6ag_d",
        "outputId": "976f6d1d-8d43-455a-81e1-a75656681d7f"
      },
      "execution_count": 26,
      "outputs": [
        {
          "output_type": "execute_result",
          "data": {
            "text/plain": [
              "0.0    628645\n",
              "1.0     45010\n",
              "Name: Delay, dtype: int64"
            ]
          },
          "metadata": {},
          "execution_count": 26
        }
      ]
    },
    {
      "cell_type": "markdown",
      "source": [],
      "metadata": {
        "id": "8TlXm2MlsPoL"
      }
    },
    {
      "cell_type": "code",
      "source": [
        "labeled_and_predicted_data"
      ],
      "metadata": {
        "colab": {
          "base_uri": "https://localhost:8080/",
          "height": 487
        },
        "id": "bWE3nWLCAe8Q",
        "outputId": "a44fef62-f1c8-4d01-d2e2-4d48d37cad51"
      },
      "execution_count": 33,
      "outputs": [
        {
          "output_type": "execute_result",
          "data": {
            "text/plain": [
              "                  ID  Month  Day_of_Month  Estimated_Departure_Time  \\\n",
              "0       TRAIN_369029      8             9                    1930.0   \n",
              "1       TRAIN_393850      6            11                    1435.0   \n",
              "2       TRAIN_405352     12            31                    2056.0   \n",
              "3       TRAIN_408461      5            31                    2030.0   \n",
              "4       TRAIN_416707      5            11                    2211.0   \n",
              "...              ...    ...           ...                       ...   \n",
              "255009  TRAIN_999962     10            11                     600.0   \n",
              "255010  TRAIN_999963      5             2                    1759.0   \n",
              "255011  TRAIN_999969     10            10                     940.0   \n",
              "255012  TRAIN_999985      8             8                    1914.0   \n",
              "255013  TRAIN_999992     12            30                    1307.0   \n",
              "\n",
              "        Estimated_Arrival_Time  Origin_Airport  Origin_Airport_ID  \\\n",
              "0                       2244.0             119              11618   \n",
              "1                       2310.0             157              12173   \n",
              "2                       2354.0             228              13303   \n",
              "3                       2350.0             159              12191   \n",
              "4                       2343.0              72              11042   \n",
              "...                        ...             ...                ...   \n",
              "255009                  2003.0             310              14683   \n",
              "255010                  1926.0             204              12953   \n",
              "255011                  1056.0             223              13256   \n",
              "255012                  2039.0             296              14492   \n",
              "255013                  1707.0             181              12441   \n",
              "\n",
              "        Origin_State  Destination_Airport  Destination_Airport_ID  \\\n",
              "0                 28                  333                   14893   \n",
              "1                  9                  195                   12892   \n",
              "2                  4                  290                   14307   \n",
              "3                 42                  127                   11697   \n",
              "4                 33                  193                   12889   \n",
              "...              ...                  ...                     ...   \n",
              "255009            42                  256                   13930   \n",
              "255010            30                   93                   11278   \n",
              "255011            42                  169                   12266   \n",
              "255012            31                  183                   12451   \n",
              "255013            51                  256                   13930   \n",
              "\n",
              "        Destination_State  Distance  Airline  Carrier_Code(IATA)  \\\n",
              "0                       4    2500.0       26                   8   \n",
              "1                       4    2556.0       16                   6   \n",
              "2                      38    1209.0        3                   0   \n",
              "3                       7     957.0       23                   8   \n",
              "4                      26    1824.0       14                   4   \n",
              "...                   ...       ...      ...                 ...   \n",
              "255009                 11    1041.0       22                   8   \n",
              "255010                 47     214.0       23                   3   \n",
              "255011                 42     316.0       19                   8   \n",
              "255012                  7     407.0       14                   4   \n",
              "255013                 11    1162.0       26                   8   \n",
              "\n",
              "        Carrier_ID(DOT)  Tail_Number  Delay  \n",
              "0               19977.0         2538    1.0  \n",
              "1               19690.0         1977    1.0  \n",
              "2               19805.0         2079    0.0  \n",
              "3               19393.0         4292    0.0  \n",
              "4               20436.0         3797    0.0  \n",
              "...                 ...          ...    ...  \n",
              "255009          20304.0          488    0.0  \n",
              "255010          20452.0         5204    1.0  \n",
              "255011          20378.0         5350    1.0  \n",
              "255012          20436.0         1499    0.0  \n",
              "255013          19977.0          659    0.0  \n",
              "\n",
              "[255014 rows x 17 columns]"
            ],
            "text/html": [
              "\n",
              "  <div id=\"df-83dafcef-7208-4015-b20e-2260ac5ef2e4\">\n",
              "    <div class=\"colab-df-container\">\n",
              "      <div>\n",
              "<style scoped>\n",
              "    .dataframe tbody tr th:only-of-type {\n",
              "        vertical-align: middle;\n",
              "    }\n",
              "\n",
              "    .dataframe tbody tr th {\n",
              "        vertical-align: top;\n",
              "    }\n",
              "\n",
              "    .dataframe thead th {\n",
              "        text-align: right;\n",
              "    }\n",
              "</style>\n",
              "<table border=\"1\" class=\"dataframe\">\n",
              "  <thead>\n",
              "    <tr style=\"text-align: right;\">\n",
              "      <th></th>\n",
              "      <th>ID</th>\n",
              "      <th>Month</th>\n",
              "      <th>Day_of_Month</th>\n",
              "      <th>Estimated_Departure_Time</th>\n",
              "      <th>Estimated_Arrival_Time</th>\n",
              "      <th>Origin_Airport</th>\n",
              "      <th>Origin_Airport_ID</th>\n",
              "      <th>Origin_State</th>\n",
              "      <th>Destination_Airport</th>\n",
              "      <th>Destination_Airport_ID</th>\n",
              "      <th>Destination_State</th>\n",
              "      <th>Distance</th>\n",
              "      <th>Airline</th>\n",
              "      <th>Carrier_Code(IATA)</th>\n",
              "      <th>Carrier_ID(DOT)</th>\n",
              "      <th>Tail_Number</th>\n",
              "      <th>Delay</th>\n",
              "    </tr>\n",
              "  </thead>\n",
              "  <tbody>\n",
              "    <tr>\n",
              "      <th>0</th>\n",
              "      <td>TRAIN_369029</td>\n",
              "      <td>8</td>\n",
              "      <td>9</td>\n",
              "      <td>1930.0</td>\n",
              "      <td>2244.0</td>\n",
              "      <td>119</td>\n",
              "      <td>11618</td>\n",
              "      <td>28</td>\n",
              "      <td>333</td>\n",
              "      <td>14893</td>\n",
              "      <td>4</td>\n",
              "      <td>2500.0</td>\n",
              "      <td>26</td>\n",
              "      <td>8</td>\n",
              "      <td>19977.0</td>\n",
              "      <td>2538</td>\n",
              "      <td>1.0</td>\n",
              "    </tr>\n",
              "    <tr>\n",
              "      <th>1</th>\n",
              "      <td>TRAIN_393850</td>\n",
              "      <td>6</td>\n",
              "      <td>11</td>\n",
              "      <td>1435.0</td>\n",
              "      <td>2310.0</td>\n",
              "      <td>157</td>\n",
              "      <td>12173</td>\n",
              "      <td>9</td>\n",
              "      <td>195</td>\n",
              "      <td>12892</td>\n",
              "      <td>4</td>\n",
              "      <td>2556.0</td>\n",
              "      <td>16</td>\n",
              "      <td>6</td>\n",
              "      <td>19690.0</td>\n",
              "      <td>1977</td>\n",
              "      <td>1.0</td>\n",
              "    </tr>\n",
              "    <tr>\n",
              "      <th>2</th>\n",
              "      <td>TRAIN_405352</td>\n",
              "      <td>12</td>\n",
              "      <td>31</td>\n",
              "      <td>2056.0</td>\n",
              "      <td>2354.0</td>\n",
              "      <td>228</td>\n",
              "      <td>13303</td>\n",
              "      <td>4</td>\n",
              "      <td>290</td>\n",
              "      <td>14307</td>\n",
              "      <td>38</td>\n",
              "      <td>1209.0</td>\n",
              "      <td>3</td>\n",
              "      <td>0</td>\n",
              "      <td>19805.0</td>\n",
              "      <td>2079</td>\n",
              "      <td>0.0</td>\n",
              "    </tr>\n",
              "    <tr>\n",
              "      <th>3</th>\n",
              "      <td>TRAIN_408461</td>\n",
              "      <td>5</td>\n",
              "      <td>31</td>\n",
              "      <td>2030.0</td>\n",
              "      <td>2350.0</td>\n",
              "      <td>159</td>\n",
              "      <td>12191</td>\n",
              "      <td>42</td>\n",
              "      <td>127</td>\n",
              "      <td>11697</td>\n",
              "      <td>7</td>\n",
              "      <td>957.0</td>\n",
              "      <td>23</td>\n",
              "      <td>8</td>\n",
              "      <td>19393.0</td>\n",
              "      <td>4292</td>\n",
              "      <td>0.0</td>\n",
              "    </tr>\n",
              "    <tr>\n",
              "      <th>4</th>\n",
              "      <td>TRAIN_416707</td>\n",
              "      <td>5</td>\n",
              "      <td>11</td>\n",
              "      <td>2211.0</td>\n",
              "      <td>2343.0</td>\n",
              "      <td>72</td>\n",
              "      <td>11042</td>\n",
              "      <td>33</td>\n",
              "      <td>193</td>\n",
              "      <td>12889</td>\n",
              "      <td>26</td>\n",
              "      <td>1824.0</td>\n",
              "      <td>14</td>\n",
              "      <td>4</td>\n",
              "      <td>20436.0</td>\n",
              "      <td>3797</td>\n",
              "      <td>0.0</td>\n",
              "    </tr>\n",
              "    <tr>\n",
              "      <th>...</th>\n",
              "      <td>...</td>\n",
              "      <td>...</td>\n",
              "      <td>...</td>\n",
              "      <td>...</td>\n",
              "      <td>...</td>\n",
              "      <td>...</td>\n",
              "      <td>...</td>\n",
              "      <td>...</td>\n",
              "      <td>...</td>\n",
              "      <td>...</td>\n",
              "      <td>...</td>\n",
              "      <td>...</td>\n",
              "      <td>...</td>\n",
              "      <td>...</td>\n",
              "      <td>...</td>\n",
              "      <td>...</td>\n",
              "      <td>...</td>\n",
              "    </tr>\n",
              "    <tr>\n",
              "      <th>255009</th>\n",
              "      <td>TRAIN_999962</td>\n",
              "      <td>10</td>\n",
              "      <td>11</td>\n",
              "      <td>600.0</td>\n",
              "      <td>2003.0</td>\n",
              "      <td>310</td>\n",
              "      <td>14683</td>\n",
              "      <td>42</td>\n",
              "      <td>256</td>\n",
              "      <td>13930</td>\n",
              "      <td>11</td>\n",
              "      <td>1041.0</td>\n",
              "      <td>22</td>\n",
              "      <td>8</td>\n",
              "      <td>20304.0</td>\n",
              "      <td>488</td>\n",
              "      <td>0.0</td>\n",
              "    </tr>\n",
              "    <tr>\n",
              "      <th>255010</th>\n",
              "      <td>TRAIN_999963</td>\n",
              "      <td>5</td>\n",
              "      <td>2</td>\n",
              "      <td>1759.0</td>\n",
              "      <td>1926.0</td>\n",
              "      <td>204</td>\n",
              "      <td>12953</td>\n",
              "      <td>30</td>\n",
              "      <td>93</td>\n",
              "      <td>11278</td>\n",
              "      <td>47</td>\n",
              "      <td>214.0</td>\n",
              "      <td>23</td>\n",
              "      <td>3</td>\n",
              "      <td>20452.0</td>\n",
              "      <td>5204</td>\n",
              "      <td>1.0</td>\n",
              "    </tr>\n",
              "    <tr>\n",
              "      <th>255011</th>\n",
              "      <td>TRAIN_999969</td>\n",
              "      <td>10</td>\n",
              "      <td>10</td>\n",
              "      <td>940.0</td>\n",
              "      <td>1056.0</td>\n",
              "      <td>223</td>\n",
              "      <td>13256</td>\n",
              "      <td>42</td>\n",
              "      <td>169</td>\n",
              "      <td>12266</td>\n",
              "      <td>42</td>\n",
              "      <td>316.0</td>\n",
              "      <td>19</td>\n",
              "      <td>8</td>\n",
              "      <td>20378.0</td>\n",
              "      <td>5350</td>\n",
              "      <td>1.0</td>\n",
              "    </tr>\n",
              "    <tr>\n",
              "      <th>255012</th>\n",
              "      <td>TRAIN_999985</td>\n",
              "      <td>8</td>\n",
              "      <td>8</td>\n",
              "      <td>1914.0</td>\n",
              "      <td>2039.0</td>\n",
              "      <td>296</td>\n",
              "      <td>14492</td>\n",
              "      <td>31</td>\n",
              "      <td>183</td>\n",
              "      <td>12451</td>\n",
              "      <td>7</td>\n",
              "      <td>407.0</td>\n",
              "      <td>14</td>\n",
              "      <td>4</td>\n",
              "      <td>20436.0</td>\n",
              "      <td>1499</td>\n",
              "      <td>0.0</td>\n",
              "    </tr>\n",
              "    <tr>\n",
              "      <th>255013</th>\n",
              "      <td>TRAIN_999992</td>\n",
              "      <td>12</td>\n",
              "      <td>30</td>\n",
              "      <td>1307.0</td>\n",
              "      <td>1707.0</td>\n",
              "      <td>181</td>\n",
              "      <td>12441</td>\n",
              "      <td>51</td>\n",
              "      <td>256</td>\n",
              "      <td>13930</td>\n",
              "      <td>11</td>\n",
              "      <td>1162.0</td>\n",
              "      <td>26</td>\n",
              "      <td>8</td>\n",
              "      <td>19977.0</td>\n",
              "      <td>659</td>\n",
              "      <td>0.0</td>\n",
              "    </tr>\n",
              "  </tbody>\n",
              "</table>\n",
              "<p>255014 rows × 17 columns</p>\n",
              "</div>\n",
              "      <button class=\"colab-df-convert\" onclick=\"convertToInteractive('df-83dafcef-7208-4015-b20e-2260ac5ef2e4')\"\n",
              "              title=\"Convert this dataframe to an interactive table.\"\n",
              "              style=\"display:none;\">\n",
              "        \n",
              "  <svg xmlns=\"http://www.w3.org/2000/svg\" height=\"24px\"viewBox=\"0 0 24 24\"\n",
              "       width=\"24px\">\n",
              "    <path d=\"M0 0h24v24H0V0z\" fill=\"none\"/>\n",
              "    <path d=\"M18.56 5.44l.94 2.06.94-2.06 2.06-.94-2.06-.94-.94-2.06-.94 2.06-2.06.94zm-11 1L8.5 8.5l.94-2.06 2.06-.94-2.06-.94L8.5 2.5l-.94 2.06-2.06.94zm10 10l.94 2.06.94-2.06 2.06-.94-2.06-.94-.94-2.06-.94 2.06-2.06.94z\"/><path d=\"M17.41 7.96l-1.37-1.37c-.4-.4-.92-.59-1.43-.59-.52 0-1.04.2-1.43.59L10.3 9.45l-7.72 7.72c-.78.78-.78 2.05 0 2.83L4 21.41c.39.39.9.59 1.41.59.51 0 1.02-.2 1.41-.59l7.78-7.78 2.81-2.81c.8-.78.8-2.07 0-2.86zM5.41 20L4 18.59l7.72-7.72 1.47 1.35L5.41 20z\"/>\n",
              "  </svg>\n",
              "      </button>\n",
              "      \n",
              "  <style>\n",
              "    .colab-df-container {\n",
              "      display:flex;\n",
              "      flex-wrap:wrap;\n",
              "      gap: 12px;\n",
              "    }\n",
              "\n",
              "    .colab-df-convert {\n",
              "      background-color: #E8F0FE;\n",
              "      border: none;\n",
              "      border-radius: 50%;\n",
              "      cursor: pointer;\n",
              "      display: none;\n",
              "      fill: #1967D2;\n",
              "      height: 32px;\n",
              "      padding: 0 0 0 0;\n",
              "      width: 32px;\n",
              "    }\n",
              "\n",
              "    .colab-df-convert:hover {\n",
              "      background-color: #E2EBFA;\n",
              "      box-shadow: 0px 1px 2px rgba(60, 64, 67, 0.3), 0px 1px 3px 1px rgba(60, 64, 67, 0.15);\n",
              "      fill: #174EA6;\n",
              "    }\n",
              "\n",
              "    [theme=dark] .colab-df-convert {\n",
              "      background-color: #3B4455;\n",
              "      fill: #D2E3FC;\n",
              "    }\n",
              "\n",
              "    [theme=dark] .colab-df-convert:hover {\n",
              "      background-color: #434B5C;\n",
              "      box-shadow: 0px 1px 3px 1px rgba(0, 0, 0, 0.15);\n",
              "      filter: drop-shadow(0px 1px 2px rgba(0, 0, 0, 0.3));\n",
              "      fill: #FFFFFF;\n",
              "    }\n",
              "  </style>\n",
              "\n",
              "      <script>\n",
              "        const buttonEl =\n",
              "          document.querySelector('#df-83dafcef-7208-4015-b20e-2260ac5ef2e4 button.colab-df-convert');\n",
              "        buttonEl.style.display =\n",
              "          google.colab.kernel.accessAllowed ? 'block' : 'none';\n",
              "\n",
              "        async function convertToInteractive(key) {\n",
              "          const element = document.querySelector('#df-83dafcef-7208-4015-b20e-2260ac5ef2e4');\n",
              "          const dataTable =\n",
              "            await google.colab.kernel.invokeFunction('convertToInteractive',\n",
              "                                                     [key], {});\n",
              "          if (!dataTable) return;\n",
              "\n",
              "          const docLinkHtml = 'Like what you see? Visit the ' +\n",
              "            '<a target=\"_blank\" href=https://colab.research.google.com/notebooks/data_table.ipynb>data table notebook</a>'\n",
              "            + ' to learn more about interactive tables.';\n",
              "          element.innerHTML = '';\n",
              "          dataTable['output_type'] = 'display_data';\n",
              "          await google.colab.output.renderOutput(dataTable, element);\n",
              "          const docLink = document.createElement('div');\n",
              "          docLink.innerHTML = docLinkHtml;\n",
              "          element.appendChild(docLink);\n",
              "        }\n",
              "      </script>\n",
              "    </div>\n",
              "  </div>\n",
              "  "
            ]
          },
          "metadata": {},
          "execution_count": 33
        }
      ]
    },
    {
      "cell_type": "code",
      "source": [
        "from sklearn.ensemble import RandomForestClassifier\n",
        "\n",
        "# 초기 레이블이 있는 데이터셋과 레이블이 없는 데이터셋 로드\n",
        "labeled_data = pd.read_csv('labeled_data.csv')\n",
        "unlabeled_data = pd.read_csv('unlabeled_data.csv')\n",
        "\n",
        "# 초기 레이블링 데이터로 모델 학습\n",
        "X_train = labeled_data.drop(columns=['label'])\n",
        "y_train = labeled_data['label']\n",
        "model = RandomForestClassifier()\n",
        "model.fit(X_train, y_train)\n",
        "\n",
        "# Self-Training 시작\n",
        "num_iterations = 3\n",
        "for i in range(num_iterations):\n",
        "    # 레이블이 없는 데이터 중 20%만 추가 레이블링\n",
        "    sample_size = int(len(unlabeled_data) * 0.2)\n",
        "    sample_data = unlabeled_data.sample(n=sample_size, random_state=42)\n",
        "    X_sample = sample_data.drop(columns=['label'])\n",
        "    y_sample = model.predict(X_sample)\n",
        "    sample_data['label'] = y_sample\n",
        "\n",
        "    # 추가된 레이블링 데이터와 기존 레이블링 데이터를 병합하여 모델 재학습\n",
        "    labeled_data = pd.concat([labeled_data, sample_data], ignore_index=True)\n",
        "    X_train = labeled_data.drop(columns=['label'])\n",
        "    y_train = labeled_data['label']\n",
        "    model = RandomForestClassifier()\n",
        "    model.fit(X_train, y_train)\n",
        "    \n",
        "    # 추가된 레이블링 데이터는 unlabeled_data에서 제거\n",
        "    unlabeled_data = unlabeled_data[~unlabeled_data.index.isin(sample_data.index)]\n"
      ],
      "metadata": {
        "id": "K_OP3k6Ir6m3"
      },
      "execution_count": null,
      "outputs": []
    },
    {
      "cell_type": "code",
      "source": [
        "test_x = test.drop(columns=['ID'])"
      ],
      "metadata": {
        "id": "VaNZhEa79VEe"
      },
      "execution_count": 32,
      "outputs": []
    },
    {
      "cell_type": "code",
      "source": [
        "y_pred = model.predict_proba(test_x)"
      ],
      "metadata": {
        "id": "fxrD115y90rG"
      },
      "execution_count": 33,
      "outputs": []
    },
    {
      "cell_type": "code",
      "source": [
        "submission = pd.DataFrame(data=y_pred, columns=sample_submission.columns, index=sample_submission.index)"
      ],
      "metadata": {
        "id": "ryM4aXVE92cJ"
      },
      "execution_count": 34,
      "outputs": []
    },
    {
      "cell_type": "code",
      "source": [
        "submission.to_csv('24_submission.csv', index=True)\n"
      ],
      "metadata": {
        "id": "0XYQmthb93vv"
      },
      "execution_count": 35,
      "outputs": []
    },
    {
      "cell_type": "markdown",
      "source": [],
      "metadata": {
        "id": "pTx71Il4oNUo"
      }
    }
  ]
}