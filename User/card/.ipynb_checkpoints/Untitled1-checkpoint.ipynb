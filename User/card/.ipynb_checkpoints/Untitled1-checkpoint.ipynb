{
 "cells": [
  {
   "cell_type": "code",
   "execution_count": 427,
   "id": "95a288c6",
   "metadata": {},
   "outputs": [],
   "source": [
    "import pandas as pd\n",
    "import numpy as np\n",
    "import matplotlib.pyplot as plt\n",
    "\n",
    "df_train = pd.read_csv('./train.csv')\n",
    "df_val = pd.read_csv('./val.csv')\n",
    "df_test = pd.read_csv('./test.csv')"
   ]
  },
  {
   "cell_type": "code",
   "execution_count": 406,
   "id": "c9719abb",
   "metadata": {},
   "outputs": [
    {
     "data": {
      "text/html": [
       "<div>\n",
       "<style scoped>\n",
       "    .dataframe tbody tr th:only-of-type {\n",
       "        vertical-align: middle;\n",
       "    }\n",
       "\n",
       "    .dataframe tbody tr th {\n",
       "        vertical-align: top;\n",
       "    }\n",
       "\n",
       "    .dataframe thead th {\n",
       "        text-align: right;\n",
       "    }\n",
       "</style>\n",
       "<table border=\"1\" class=\"dataframe\">\n",
       "  <thead>\n",
       "    <tr style=\"text-align: right;\">\n",
       "      <th></th>\n",
       "      <th>ID</th>\n",
       "      <th>V1</th>\n",
       "      <th>V2</th>\n",
       "      <th>V3</th>\n",
       "      <th>V4</th>\n",
       "      <th>V5</th>\n",
       "      <th>V6</th>\n",
       "      <th>V7</th>\n",
       "      <th>V8</th>\n",
       "      <th>V9</th>\n",
       "      <th>...</th>\n",
       "      <th>V21</th>\n",
       "      <th>V22</th>\n",
       "      <th>V23</th>\n",
       "      <th>V24</th>\n",
       "      <th>V25</th>\n",
       "      <th>V26</th>\n",
       "      <th>V27</th>\n",
       "      <th>V28</th>\n",
       "      <th>V29</th>\n",
       "      <th>V30</th>\n",
       "    </tr>\n",
       "  </thead>\n",
       "  <tbody>\n",
       "    <tr>\n",
       "      <th>0</th>\n",
       "      <td>3</td>\n",
       "      <td>-1.358354</td>\n",
       "      <td>-1.340163</td>\n",
       "      <td>1.773209</td>\n",
       "      <td>0.379780</td>\n",
       "      <td>-0.503198</td>\n",
       "      <td>1.800499</td>\n",
       "      <td>0.791461</td>\n",
       "      <td>0.247676</td>\n",
       "      <td>-1.514654</td>\n",
       "      <td>...</td>\n",
       "      <td>0.247998</td>\n",
       "      <td>0.771679</td>\n",
       "      <td>0.909412</td>\n",
       "      <td>-0.689281</td>\n",
       "      <td>-0.327642</td>\n",
       "      <td>-0.139097</td>\n",
       "      <td>-0.055353</td>\n",
       "      <td>-0.059752</td>\n",
       "      <td>4.983721</td>\n",
       "      <td>-0.994972</td>\n",
       "    </tr>\n",
       "    <tr>\n",
       "      <th>1</th>\n",
       "      <td>4</td>\n",
       "      <td>-0.966272</td>\n",
       "      <td>-0.185226</td>\n",
       "      <td>1.792993</td>\n",
       "      <td>-0.863291</td>\n",
       "      <td>-0.010309</td>\n",
       "      <td>1.247203</td>\n",
       "      <td>0.237609</td>\n",
       "      <td>0.377436</td>\n",
       "      <td>-1.387024</td>\n",
       "      <td>...</td>\n",
       "      <td>-0.108300</td>\n",
       "      <td>0.005274</td>\n",
       "      <td>-0.190321</td>\n",
       "      <td>-1.175575</td>\n",
       "      <td>0.647376</td>\n",
       "      <td>-0.221929</td>\n",
       "      <td>0.062723</td>\n",
       "      <td>0.061458</td>\n",
       "      <td>1.418291</td>\n",
       "      <td>-0.994972</td>\n",
       "    </tr>\n",
       "    <tr>\n",
       "      <th>2</th>\n",
       "      <td>6</td>\n",
       "      <td>-0.425966</td>\n",
       "      <td>0.960523</td>\n",
       "      <td>1.141109</td>\n",
       "      <td>-0.168252</td>\n",
       "      <td>0.420987</td>\n",
       "      <td>-0.029728</td>\n",
       "      <td>0.476201</td>\n",
       "      <td>0.260314</td>\n",
       "      <td>-0.568671</td>\n",
       "      <td>...</td>\n",
       "      <td>-0.208254</td>\n",
       "      <td>-0.559825</td>\n",
       "      <td>-0.026398</td>\n",
       "      <td>-0.371427</td>\n",
       "      <td>-0.232794</td>\n",
       "      <td>0.105915</td>\n",
       "      <td>0.253844</td>\n",
       "      <td>0.081080</td>\n",
       "      <td>-0.256131</td>\n",
       "      <td>-0.994960</td>\n",
       "    </tr>\n",
       "    <tr>\n",
       "      <th>3</th>\n",
       "      <td>8</td>\n",
       "      <td>-0.644269</td>\n",
       "      <td>1.417964</td>\n",
       "      <td>1.074380</td>\n",
       "      <td>-0.492199</td>\n",
       "      <td>0.948934</td>\n",
       "      <td>0.428118</td>\n",
       "      <td>1.120631</td>\n",
       "      <td>-3.807864</td>\n",
       "      <td>0.615375</td>\n",
       "      <td>...</td>\n",
       "      <td>1.943465</td>\n",
       "      <td>-1.015455</td>\n",
       "      <td>0.057504</td>\n",
       "      <td>-0.649709</td>\n",
       "      <td>-0.415267</td>\n",
       "      <td>-0.051634</td>\n",
       "      <td>-1.206921</td>\n",
       "      <td>-1.085339</td>\n",
       "      <td>0.262698</td>\n",
       "      <td>-0.994901</td>\n",
       "    </tr>\n",
       "    <tr>\n",
       "      <th>4</th>\n",
       "      <td>9</td>\n",
       "      <td>-0.894286</td>\n",
       "      <td>0.286157</td>\n",
       "      <td>-0.113192</td>\n",
       "      <td>-0.271526</td>\n",
       "      <td>2.669599</td>\n",
       "      <td>3.721818</td>\n",
       "      <td>0.370145</td>\n",
       "      <td>0.851084</td>\n",
       "      <td>-0.392048</td>\n",
       "      <td>...</td>\n",
       "      <td>-0.073425</td>\n",
       "      <td>-0.268092</td>\n",
       "      <td>-0.204233</td>\n",
       "      <td>1.011592</td>\n",
       "      <td>0.373205</td>\n",
       "      <td>-0.384157</td>\n",
       "      <td>0.011747</td>\n",
       "      <td>0.142404</td>\n",
       "      <td>0.994900</td>\n",
       "      <td>-0.994901</td>\n",
       "    </tr>\n",
       "  </tbody>\n",
       "</table>\n",
       "<p>5 rows × 31 columns</p>\n",
       "</div>"
      ],
      "text/plain": [
       "   ID        V1        V2        V3        V4        V5        V6        V7  \\\n",
       "0   3 -1.358354 -1.340163  1.773209  0.379780 -0.503198  1.800499  0.791461   \n",
       "1   4 -0.966272 -0.185226  1.792993 -0.863291 -0.010309  1.247203  0.237609   \n",
       "2   6 -0.425966  0.960523  1.141109 -0.168252  0.420987 -0.029728  0.476201   \n",
       "3   8 -0.644269  1.417964  1.074380 -0.492199  0.948934  0.428118  1.120631   \n",
       "4   9 -0.894286  0.286157 -0.113192 -0.271526  2.669599  3.721818  0.370145   \n",
       "\n",
       "         V8        V9  ...       V21       V22       V23       V24       V25  \\\n",
       "0  0.247676 -1.514654  ...  0.247998  0.771679  0.909412 -0.689281 -0.327642   \n",
       "1  0.377436 -1.387024  ... -0.108300  0.005274 -0.190321 -1.175575  0.647376   \n",
       "2  0.260314 -0.568671  ... -0.208254 -0.559825 -0.026398 -0.371427 -0.232794   \n",
       "3 -3.807864  0.615375  ...  1.943465 -1.015455  0.057504 -0.649709 -0.415267   \n",
       "4  0.851084 -0.392048  ... -0.073425 -0.268092 -0.204233  1.011592  0.373205   \n",
       "\n",
       "        V26       V27       V28       V29       V30  \n",
       "0 -0.139097 -0.055353 -0.059752  4.983721 -0.994972  \n",
       "1 -0.221929  0.062723  0.061458  1.418291 -0.994972  \n",
       "2  0.105915  0.253844  0.081080 -0.256131 -0.994960  \n",
       "3 -0.051634 -1.206921 -1.085339  0.262698 -0.994901  \n",
       "4 -0.384157  0.011747  0.142404  0.994900 -0.994901  \n",
       "\n",
       "[5 rows x 31 columns]"
      ]
     },
     "execution_count": 406,
     "metadata": {},
     "output_type": "execute_result"
    }
   ],
   "source": [
    "df_train.head()"
   ]
  },
  {
   "cell_type": "code",
   "execution_count": 407,
   "id": "943c0432",
   "metadata": {},
   "outputs": [
    {
     "data": {
      "text/html": [
       "<div>\n",
       "<style scoped>\n",
       "    .dataframe tbody tr th:only-of-type {\n",
       "        vertical-align: middle;\n",
       "    }\n",
       "\n",
       "    .dataframe tbody tr th {\n",
       "        vertical-align: top;\n",
       "    }\n",
       "\n",
       "    .dataframe thead th {\n",
       "        text-align: right;\n",
       "    }\n",
       "</style>\n",
       "<table border=\"1\" class=\"dataframe\">\n",
       "  <thead>\n",
       "    <tr style=\"text-align: right;\">\n",
       "      <th></th>\n",
       "      <th>ID</th>\n",
       "      <th>V1</th>\n",
       "      <th>V2</th>\n",
       "      <th>V3</th>\n",
       "      <th>V4</th>\n",
       "      <th>V5</th>\n",
       "      <th>V6</th>\n",
       "      <th>V7</th>\n",
       "      <th>V8</th>\n",
       "      <th>V9</th>\n",
       "      <th>...</th>\n",
       "      <th>V22</th>\n",
       "      <th>V23</th>\n",
       "      <th>V24</th>\n",
       "      <th>V25</th>\n",
       "      <th>V26</th>\n",
       "      <th>V27</th>\n",
       "      <th>V28</th>\n",
       "      <th>V29</th>\n",
       "      <th>V30</th>\n",
       "      <th>Class</th>\n",
       "    </tr>\n",
       "  </thead>\n",
       "  <tbody>\n",
       "    <tr>\n",
       "      <th>0</th>\n",
       "      <td>10</td>\n",
       "      <td>-0.338262</td>\n",
       "      <td>1.119593</td>\n",
       "      <td>1.044367</td>\n",
       "      <td>-0.222187</td>\n",
       "      <td>0.499361</td>\n",
       "      <td>-0.246761</td>\n",
       "      <td>0.651583</td>\n",
       "      <td>0.069539</td>\n",
       "      <td>-0.736727</td>\n",
       "      <td>...</td>\n",
       "      <td>-0.633753</td>\n",
       "      <td>-0.120794</td>\n",
       "      <td>-0.385050</td>\n",
       "      <td>-0.069733</td>\n",
       "      <td>0.094199</td>\n",
       "      <td>0.246219</td>\n",
       "      <td>0.083076</td>\n",
       "      <td>-0.255991</td>\n",
       "      <td>-0.994878</td>\n",
       "      <td>0</td>\n",
       "    </tr>\n",
       "    <tr>\n",
       "      <th>1</th>\n",
       "      <td>22</td>\n",
       "      <td>0.962496</td>\n",
       "      <td>0.328461</td>\n",
       "      <td>-0.171479</td>\n",
       "      <td>2.109204</td>\n",
       "      <td>1.129566</td>\n",
       "      <td>1.696038</td>\n",
       "      <td>0.107712</td>\n",
       "      <td>0.521502</td>\n",
       "      <td>-1.191311</td>\n",
       "      <td>...</td>\n",
       "      <td>0.402492</td>\n",
       "      <td>-0.048508</td>\n",
       "      <td>-1.371866</td>\n",
       "      <td>0.390814</td>\n",
       "      <td>0.199964</td>\n",
       "      <td>0.016371</td>\n",
       "      <td>-0.014605</td>\n",
       "      <td>0.168937</td>\n",
       "      <td>-0.994784</td>\n",
       "      <td>0</td>\n",
       "    </tr>\n",
       "    <tr>\n",
       "      <th>2</th>\n",
       "      <td>63</td>\n",
       "      <td>1.145524</td>\n",
       "      <td>0.575068</td>\n",
       "      <td>0.194008</td>\n",
       "      <td>2.598192</td>\n",
       "      <td>-0.092210</td>\n",
       "      <td>-1.044430</td>\n",
       "      <td>0.531588</td>\n",
       "      <td>-0.241888</td>\n",
       "      <td>-0.896287</td>\n",
       "      <td>...</td>\n",
       "      <td>-0.119703</td>\n",
       "      <td>-0.076510</td>\n",
       "      <td>0.691320</td>\n",
       "      <td>0.633984</td>\n",
       "      <td>0.048741</td>\n",
       "      <td>-0.053192</td>\n",
       "      <td>0.016251</td>\n",
       "      <td>0.169496</td>\n",
       "      <td>-0.994502</td>\n",
       "      <td>0</td>\n",
       "    </tr>\n",
       "    <tr>\n",
       "      <th>3</th>\n",
       "      <td>69</td>\n",
       "      <td>0.927060</td>\n",
       "      <td>-0.323684</td>\n",
       "      <td>0.387585</td>\n",
       "      <td>0.544474</td>\n",
       "      <td>0.246787</td>\n",
       "      <td>1.650358</td>\n",
       "      <td>-0.427576</td>\n",
       "      <td>0.615371</td>\n",
       "      <td>0.226278</td>\n",
       "      <td>...</td>\n",
       "      <td>0.079359</td>\n",
       "      <td>0.096632</td>\n",
       "      <td>-0.992569</td>\n",
       "      <td>0.085096</td>\n",
       "      <td>0.377447</td>\n",
       "      <td>0.036096</td>\n",
       "      <td>-0.005960</td>\n",
       "      <td>0.331307</td>\n",
       "      <td>-0.994467</td>\n",
       "      <td>0</td>\n",
       "    </tr>\n",
       "    <tr>\n",
       "      <th>4</th>\n",
       "      <td>83</td>\n",
       "      <td>-3.005237</td>\n",
       "      <td>2.600138</td>\n",
       "      <td>1.483691</td>\n",
       "      <td>-2.418473</td>\n",
       "      <td>0.306326</td>\n",
       "      <td>-0.824575</td>\n",
       "      <td>2.065426</td>\n",
       "      <td>-1.829347</td>\n",
       "      <td>4.009259</td>\n",
       "      <td>...</td>\n",
       "      <td>-0.181268</td>\n",
       "      <td>-0.163747</td>\n",
       "      <td>0.515821</td>\n",
       "      <td>0.136318</td>\n",
       "      <td>0.460054</td>\n",
       "      <td>-0.251259</td>\n",
       "      <td>-1.105751</td>\n",
       "      <td>-0.287012</td>\n",
       "      <td>-0.994373</td>\n",
       "      <td>0</td>\n",
       "    </tr>\n",
       "  </tbody>\n",
       "</table>\n",
       "<p>5 rows × 32 columns</p>\n",
       "</div>"
      ],
      "text/plain": [
       "   ID        V1        V2        V3        V4        V5        V6        V7  \\\n",
       "0  10 -0.338262  1.119593  1.044367 -0.222187  0.499361 -0.246761  0.651583   \n",
       "1  22  0.962496  0.328461 -0.171479  2.109204  1.129566  1.696038  0.107712   \n",
       "2  63  1.145524  0.575068  0.194008  2.598192 -0.092210 -1.044430  0.531588   \n",
       "3  69  0.927060 -0.323684  0.387585  0.544474  0.246787  1.650358 -0.427576   \n",
       "4  83 -3.005237  2.600138  1.483691 -2.418473  0.306326 -0.824575  2.065426   \n",
       "\n",
       "         V8        V9  ...       V22       V23       V24       V25       V26  \\\n",
       "0  0.069539 -0.736727  ... -0.633753 -0.120794 -0.385050 -0.069733  0.094199   \n",
       "1  0.521502 -1.191311  ...  0.402492 -0.048508 -1.371866  0.390814  0.199964   \n",
       "2 -0.241888 -0.896287  ... -0.119703 -0.076510  0.691320  0.633984  0.048741   \n",
       "3  0.615371  0.226278  ...  0.079359  0.096632 -0.992569  0.085096  0.377447   \n",
       "4 -1.829347  4.009259  ... -0.181268 -0.163747  0.515821  0.136318  0.460054   \n",
       "\n",
       "        V27       V28       V29       V30  Class  \n",
       "0  0.246219  0.083076 -0.255991 -0.994878      0  \n",
       "1  0.016371 -0.014605  0.168937 -0.994784      0  \n",
       "2 -0.053192  0.016251  0.169496 -0.994502      0  \n",
       "3  0.036096 -0.005960  0.331307 -0.994467      0  \n",
       "4 -0.251259 -1.105751 -0.287012 -0.994373      0  \n",
       "\n",
       "[5 rows x 32 columns]"
      ]
     },
     "execution_count": 407,
     "metadata": {},
     "output_type": "execute_result"
    }
   ],
   "source": [
    "df_val.head()"
   ]
  },
  {
   "cell_type": "code",
   "execution_count": 408,
   "id": "e311e956",
   "metadata": {},
   "outputs": [
    {
     "data": {
      "text/html": [
       "<div>\n",
       "<style scoped>\n",
       "    .dataframe tbody tr th:only-of-type {\n",
       "        vertical-align: middle;\n",
       "    }\n",
       "\n",
       "    .dataframe tbody tr th {\n",
       "        vertical-align: top;\n",
       "    }\n",
       "\n",
       "    .dataframe thead th {\n",
       "        text-align: right;\n",
       "    }\n",
       "</style>\n",
       "<table border=\"1\" class=\"dataframe\">\n",
       "  <thead>\n",
       "    <tr style=\"text-align: right;\">\n",
       "      <th></th>\n",
       "      <th>ID</th>\n",
       "      <th>V1</th>\n",
       "      <th>V2</th>\n",
       "      <th>V3</th>\n",
       "      <th>V4</th>\n",
       "      <th>V5</th>\n",
       "      <th>V6</th>\n",
       "      <th>V7</th>\n",
       "      <th>V8</th>\n",
       "      <th>V9</th>\n",
       "      <th>...</th>\n",
       "      <th>V21</th>\n",
       "      <th>V22</th>\n",
       "      <th>V23</th>\n",
       "      <th>V24</th>\n",
       "      <th>V25</th>\n",
       "      <th>V26</th>\n",
       "      <th>V27</th>\n",
       "      <th>V28</th>\n",
       "      <th>V29</th>\n",
       "      <th>V30</th>\n",
       "    </tr>\n",
       "  </thead>\n",
       "  <tbody>\n",
       "    <tr>\n",
       "      <th>0</th>\n",
       "      <td>AAAA0x1</td>\n",
       "      <td>-1.359807</td>\n",
       "      <td>-0.072781</td>\n",
       "      <td>2.536347</td>\n",
       "      <td>1.378155</td>\n",
       "      <td>-0.338321</td>\n",
       "      <td>0.462388</td>\n",
       "      <td>0.239599</td>\n",
       "      <td>0.098698</td>\n",
       "      <td>0.363787</td>\n",
       "      <td>...</td>\n",
       "      <td>-0.018307</td>\n",
       "      <td>0.277838</td>\n",
       "      <td>-0.110474</td>\n",
       "      <td>0.066928</td>\n",
       "      <td>0.128539</td>\n",
       "      <td>-0.189115</td>\n",
       "      <td>0.133558</td>\n",
       "      <td>-0.021053</td>\n",
       "      <td>1.783274</td>\n",
       "      <td>-0.994983</td>\n",
       "    </tr>\n",
       "    <tr>\n",
       "      <th>1</th>\n",
       "      <td>AAAA0x2</td>\n",
       "      <td>1.191857</td>\n",
       "      <td>0.266151</td>\n",
       "      <td>0.166480</td>\n",
       "      <td>0.448154</td>\n",
       "      <td>0.060018</td>\n",
       "      <td>-0.082361</td>\n",
       "      <td>-0.078803</td>\n",
       "      <td>0.085102</td>\n",
       "      <td>-0.255425</td>\n",
       "      <td>...</td>\n",
       "      <td>-0.225775</td>\n",
       "      <td>-0.638672</td>\n",
       "      <td>0.101288</td>\n",
       "      <td>-0.339846</td>\n",
       "      <td>0.167170</td>\n",
       "      <td>0.125895</td>\n",
       "      <td>-0.008983</td>\n",
       "      <td>0.014724</td>\n",
       "      <td>-0.269825</td>\n",
       "      <td>-0.994983</td>\n",
       "    </tr>\n",
       "    <tr>\n",
       "      <th>2</th>\n",
       "      <td>AAAA0x5</td>\n",
       "      <td>-1.158233</td>\n",
       "      <td>0.877737</td>\n",
       "      <td>1.548718</td>\n",
       "      <td>0.403034</td>\n",
       "      <td>-0.407193</td>\n",
       "      <td>0.095921</td>\n",
       "      <td>0.592941</td>\n",
       "      <td>-0.270533</td>\n",
       "      <td>0.817739</td>\n",
       "      <td>...</td>\n",
       "      <td>-0.009431</td>\n",
       "      <td>0.798278</td>\n",
       "      <td>-0.137458</td>\n",
       "      <td>0.141267</td>\n",
       "      <td>-0.206010</td>\n",
       "      <td>0.502292</td>\n",
       "      <td>0.219422</td>\n",
       "      <td>0.215153</td>\n",
       "      <td>0.670579</td>\n",
       "      <td>-0.994960</td>\n",
       "    </tr>\n",
       "    <tr>\n",
       "      <th>3</th>\n",
       "      <td>AAAA0x7</td>\n",
       "      <td>1.229658</td>\n",
       "      <td>0.141004</td>\n",
       "      <td>0.045371</td>\n",
       "      <td>1.202613</td>\n",
       "      <td>0.191881</td>\n",
       "      <td>0.272708</td>\n",
       "      <td>-0.005159</td>\n",
       "      <td>0.081213</td>\n",
       "      <td>0.464960</td>\n",
       "      <td>...</td>\n",
       "      <td>-0.167716</td>\n",
       "      <td>-0.270710</td>\n",
       "      <td>-0.154104</td>\n",
       "      <td>-0.780055</td>\n",
       "      <td>0.750137</td>\n",
       "      <td>-0.257237</td>\n",
       "      <td>0.034507</td>\n",
       "      <td>0.005168</td>\n",
       "      <td>-0.237686</td>\n",
       "      <td>-0.994937</td>\n",
       "    </tr>\n",
       "    <tr>\n",
       "      <th>4</th>\n",
       "      <td>AAAA0xc</td>\n",
       "      <td>0.384978</td>\n",
       "      <td>0.616109</td>\n",
       "      <td>-0.874300</td>\n",
       "      <td>-0.094019</td>\n",
       "      <td>2.924584</td>\n",
       "      <td>3.317027</td>\n",
       "      <td>0.470455</td>\n",
       "      <td>0.538247</td>\n",
       "      <td>-0.558895</td>\n",
       "      <td>...</td>\n",
       "      <td>0.049924</td>\n",
       "      <td>0.238422</td>\n",
       "      <td>0.009130</td>\n",
       "      <td>0.996710</td>\n",
       "      <td>-0.767315</td>\n",
       "      <td>-0.492208</td>\n",
       "      <td>0.042472</td>\n",
       "      <td>-0.054337</td>\n",
       "      <td>-0.167819</td>\n",
       "      <td>-0.994866</td>\n",
       "    </tr>\n",
       "  </tbody>\n",
       "</table>\n",
       "<p>5 rows × 31 columns</p>\n",
       "</div>"
      ],
      "text/plain": [
       "        ID        V1        V2        V3        V4        V5        V6  \\\n",
       "0  AAAA0x1 -1.359807 -0.072781  2.536347  1.378155 -0.338321  0.462388   \n",
       "1  AAAA0x2  1.191857  0.266151  0.166480  0.448154  0.060018 -0.082361   \n",
       "2  AAAA0x5 -1.158233  0.877737  1.548718  0.403034 -0.407193  0.095921   \n",
       "3  AAAA0x7  1.229658  0.141004  0.045371  1.202613  0.191881  0.272708   \n",
       "4  AAAA0xc  0.384978  0.616109 -0.874300 -0.094019  2.924584  3.317027   \n",
       "\n",
       "         V7        V8        V9  ...       V21       V22       V23       V24  \\\n",
       "0  0.239599  0.098698  0.363787  ... -0.018307  0.277838 -0.110474  0.066928   \n",
       "1 -0.078803  0.085102 -0.255425  ... -0.225775 -0.638672  0.101288 -0.339846   \n",
       "2  0.592941 -0.270533  0.817739  ... -0.009431  0.798278 -0.137458  0.141267   \n",
       "3 -0.005159  0.081213  0.464960  ... -0.167716 -0.270710 -0.154104 -0.780055   \n",
       "4  0.470455  0.538247 -0.558895  ...  0.049924  0.238422  0.009130  0.996710   \n",
       "\n",
       "        V25       V26       V27       V28       V29       V30  \n",
       "0  0.128539 -0.189115  0.133558 -0.021053  1.783274 -0.994983  \n",
       "1  0.167170  0.125895 -0.008983  0.014724 -0.269825 -0.994983  \n",
       "2 -0.206010  0.502292  0.219422  0.215153  0.670579 -0.994960  \n",
       "3  0.750137 -0.257237  0.034507  0.005168 -0.237686 -0.994937  \n",
       "4 -0.767315 -0.492208  0.042472 -0.054337 -0.167819 -0.994866  \n",
       "\n",
       "[5 rows x 31 columns]"
      ]
     },
     "execution_count": 408,
     "metadata": {},
     "output_type": "execute_result"
    }
   ],
   "source": [
    "df_test.head()"
   ]
  },
  {
   "cell_type": "code",
   "execution_count": 409,
   "id": "f6aabf32",
   "metadata": {},
   "outputs": [
    {
     "data": {
      "text/plain": [
       "False"
      ]
     },
     "execution_count": 409,
     "metadata": {},
     "output_type": "execute_result"
    }
   ],
   "source": [
    "df_train.isnull().values.any()"
   ]
  },
  {
   "cell_type": "code",
   "execution_count": 410,
   "id": "a7c46cfb",
   "metadata": {},
   "outputs": [
    {
     "data": {
      "text/plain": [
       "False"
      ]
     },
     "execution_count": 410,
     "metadata": {},
     "output_type": "execute_result"
    }
   ],
   "source": [
    "df_val.isnull().values.any()"
   ]
  },
  {
   "cell_type": "code",
   "execution_count": 411,
   "id": "01d69957",
   "metadata": {},
   "outputs": [
    {
     "data": {
      "text/plain": [
       "False"
      ]
     },
     "execution_count": 411,
     "metadata": {},
     "output_type": "execute_result"
    }
   ],
   "source": [
    "df_test.isnull().values.any()"
   ]
  },
  {
   "cell_type": "code",
   "execution_count": 412,
   "id": "3cebf697",
   "metadata": {},
   "outputs": [
    {
     "data": {
      "image/png": "[encoded data removed]",
      "text/plain": [
       "<Figure size 1440x1440 with 30 Axes>"
      ]
     },
     "metadata": {
      "needs_background": "light"
     },
     "output_type": "display_data"
    }
   ],
   "source": [
    "df_train.drop(columns=['ID']).hist(bins = 50, figsize = (20,20))\n",
    "plt.show()"
   ]
  },
  {
   "cell_type": "code",
   "execution_count": 428,
   "id": "fcbd13ff",
   "metadata": {},
   "outputs": [
    {
     "data": {
      "text/html": [
       "<div>\n",
       "<style scoped>\n",
       "    .dataframe tbody tr th:only-of-type {\n",
       "        vertical-align: middle;\n",
       "    }\n",
       "\n",
       "    .dataframe tbody tr th {\n",
       "        vertical-align: top;\n",
       "    }\n",
       "\n",
       "    .dataframe thead th {\n",
       "        text-align: right;\n",
       "    }\n",
       "</style>\n",
       "<table border=\"1\" class=\"dataframe\">\n",
       "  <thead>\n",
       "    <tr style=\"text-align: right;\">\n",
       "      <th></th>\n",
       "      <th>Target</th>\n",
       "      <th>Count</th>\n",
       "      <th>Per(%)</th>\n",
       "    </tr>\n",
       "  </thead>\n",
       "  <tbody>\n",
       "    <tr>\n",
       "      <th>0</th>\n",
       "      <td>0</td>\n",
       "      <td>28432</td>\n",
       "      <td>99.894596</td>\n",
       "    </tr>\n",
       "    <tr>\n",
       "      <th>1</th>\n",
       "      <td>1</td>\n",
       "      <td>30</td>\n",
       "      <td>0.105404</td>\n",
       "    </tr>\n",
       "  </tbody>\n",
       "</table>\n",
       "</div>"
      ],
      "text/plain": [
       "   Target  Count     Per(%)\n",
       "0       0  28432  99.894596\n",
       "1       1     30   0.105404"
      ]
     },
     "execution_count": 428,
     "metadata": {},
     "output_type": "execute_result"
    }
   ],
   "source": [
    "val_tp = df_val['Class'].value_counts().to_frame().reset_index()\n",
    "val_tp['Per(%)'] = val_tp['Class'].apply(lambda x : 100*float(x)/len(df_val),2)\n",
    "val_tp = val_tp.rename(columns = {'index': 'Target', 'Class' : 'Count'})\n",
    "val_tp\n"
   ]
  },
  {
   "cell_type": "code",
   "execution_count": 429,
   "id": "2f5473ee",
   "metadata": {},
   "outputs": [
    {
     "data": {
      "image/png": "[encoded data removed]",
      "text/plain": [
       "<Figure size 432x288 with 1 Axes>"
      ]
     },
     "metadata": {
      "needs_background": "light"
     },
     "output_type": "display_data"
    }
   ],
   "source": [
    "val_tp['Count'].plot(kind='bar',rot=0)\n",
    "plt.title(\"Transaction class distribution\")\n",
    "plt.xlabel(\"Class\")\n",
    "plt.ylabel(\"Count\");"
   ]
  },
  {
   "cell_type": "code",
   "execution_count": 430,
   "id": "f180c2f5",
   "metadata": {},
   "outputs": [
    {
     "data": {
      "text/plain": [
       "((30, 32), (28432, 32))"
      ]
     },
     "execution_count": 430,
     "metadata": {},
     "output_type": "execute_result"
    }
   ],
   "source": [
    "frauds = df_val[df_val.Class == 1]\n",
    "normal = df_val[df_val.Class == 0]\n",
    "frauds.shape, normal.shape\n"
   ]
  },
  {
   "cell_type": "code",
   "execution_count": 439,
   "id": "41256225",
   "metadata": {},
   "outputs": [],
   "source": [
    "# Label 제거\n",
    "train_x = df_train.drop(columns=['ID']) \n",
    "val_x = df_val.drop(columns=['ID','Class']) \n",
    "val_y = df_val['Class'] # Label\n",
    "test_x = df_test.drop(columns=['ID']) "
   ]
  },
  {
   "cell_type": "code",
   "execution_count": 440,
   "id": "707506e0",
   "metadata": {},
   "outputs": [
    {
     "name": "stderr",
     "output_type": "stream",
     "text": [
      "D:\\user\\User\\CEO\\Anaconda3\\lib\\site-packages\\sklearn\\base.py:450: UserWarning: X does not have valid feature names, but IsolationForest was fitted with feature names\n",
      "  warnings.warn(\n"
     ]
    },
    {
     "data": {
      "text/html": [
       "<style>#sk-container-id-9 {color: black;background-color: white;}#sk-container-id-9 pre{padding: 0;}#sk-container-id-9 div.sk-toggleable {background-color: white;}#sk-container-id-9 label.sk-toggleable__label {cursor: pointer;display: block;width: 100%;margin-bottom: 0;padding: 0.3em;box-sizing: border-box;text-align: center;}#sk-container-id-9 label.sk-toggleable__label-arrow:before {content: \"▸\";float: left;margin-right: 0.25em;color: #696969;}#sk-container-id-9 label.sk-toggleable__label-arrow:hover:before {color: black;}#sk-container-id-9 div.sk-estimator:hover label.sk-toggleable__label-arrow:before {color: black;}#sk-container-id-9 div.sk-toggleable__content {max-height: 0;max-width: 0;overflow: hidden;text-align: left;background-color: #f0f8ff;}#sk-container-id-9 div.sk-toggleable__content pre {margin: 0.2em;color: black;border-radius: 0.25em;background-color: #f0f8ff;}#sk-container-id-9 input.sk-toggleable__control:checked~div.sk-toggleable__content {max-height: 200px;max-width: 100%;overflow: auto;}#sk-container-id-9 input.sk-toggleable__control:checked~label.sk-toggleable__label-arrow:before {content: \"▾\";}#sk-container-id-9 div.sk-estimator input.sk-toggleable__control:checked~label.sk-toggleable__label {background-color: #d4ebff;}#sk-container-id-9 div.sk-label input.sk-toggleable__control:checked~label.sk-toggleable__label {background-color: #d4ebff;}#sk-container-id-9 input.sk-hidden--visually {border: 0;clip: rect(1px 1px 1px 1px);clip: rect(1px, 1px, 1px, 1px);height: 1px;margin: -1px;overflow: hidden;padding: 0;position: absolute;width: 1px;}#sk-container-id-9 div.sk-estimator {font-family: monospace;background-color: #f0f8ff;border: 1px dotted black;border-radius: 0.25em;box-sizing: border-box;margin-bottom: 0.5em;}#sk-container-id-9 div.sk-estimator:hover {background-color: #d4ebff;}#sk-container-id-9 div.sk-parallel-item::after {content: \"\";width: 100%;border-bottom: 1px solid gray;flex-grow: 1;}#sk-container-id-9 div.sk-label:hover label.sk-toggleable__label {background-color: #d4ebff;}#sk-container-id-9 div.sk-serial::before {content: \"\";position: absolute;border-left: 1px solid gray;box-sizing: border-box;top: 0;bottom: 0;left: 50%;z-index: 0;}#sk-container-id-9 div.sk-serial {display: flex;flex-direction: column;align-items: center;background-color: white;padding-right: 0.2em;padding-left: 0.2em;position: relative;}#sk-container-id-9 div.sk-item {position: relative;z-index: 1;}#sk-container-id-9 div.sk-parallel {display: flex;align-items: stretch;justify-content: center;background-color: white;position: relative;}#sk-container-id-9 div.sk-item::before, #sk-container-id-9 div.sk-parallel-item::before {content: \"\";position: absolute;border-left: 1px solid gray;box-sizing: border-box;top: 0;bottom: 0;left: 50%;z-index: -1;}#sk-container-id-9 div.sk-parallel-item {display: flex;flex-direction: column;z-index: 1;position: relative;background-color: white;}#sk-container-id-9 div.sk-parallel-item:first-child::after {align-self: flex-end;width: 50%;}#sk-container-id-9 div.sk-parallel-item:last-child::after {align-self: flex-start;width: 50%;}#sk-container-id-9 div.sk-parallel-item:only-child::after {width: 0;}#sk-container-id-9 div.sk-dashed-wrapped {border: 1px dashed gray;margin: 0 0.4em 0.5em 0.4em;box-sizing: border-box;padding-bottom: 0.4em;background-color: white;}#sk-container-id-9 div.sk-label label {font-family: monospace;font-weight: bold;display: inline-block;line-height: 1.2em;}#sk-container-id-9 div.sk-label-container {text-align: center;}#sk-container-id-9 div.sk-container {/* jupyter's `normalize.less` sets `[hidden] { display: none; }` but bootstrap.min.css set `[hidden] { display: none !important; }` so we also need the `!important` here to be able to override the default hidden behavior on the sphinx rendered scikit-learn.org. See: https://github.com/scikit-learn/scikit-learn/issues/21755 */display: inline-block !important;position: relative;}#sk-container-id-9 div.sk-text-repr-fallback {display: none;}</style><div id=\"sk-container-id-9\" class=\"sk-top-container\"><div class=\"sk-text-repr-fallback\"><pre>IsolationForest(contamination=0.00105404, max_samples=113842, n_estimators=125,\n",
       "                random_state=42)</pre><b>In a Jupyter environment, please rerun this cell to show the HTML representation or trust the notebook. <br />On GitHub, the HTML representation is unable to render, please try loading this page with nbviewer.org.</b></div><div class=\"sk-container\" hidden><div class=\"sk-item\"><div class=\"sk-estimator sk-toggleable\"><input class=\"sk-toggleable__control sk-hidden--visually\" id=\"sk-estimator-id-9\" type=\"checkbox\" checked><label for=\"sk-estimator-id-9\" class=\"sk-toggleable__label sk-toggleable__label-arrow\">IsolationForest</label><div class=\"sk-toggleable__content\"><pre>IsolationForest(contamination=0.00105404, max_samples=113842, n_estimators=125,\n",
       "                random_state=42)</pre></div></div></div></div></div>"
      ],
      "text/plain": [
       "IsolationForest(contamination=0.00105404, max_samples=113842, n_estimators=125,\n",
       "                random_state=42)"
      ]
     },
     "execution_count": 440,
     "metadata": {},
     "output_type": "execute_result"
    }
   ],
   "source": [
    "# 가설 설정 : Train dataset도 Validation dataset과 동일한 비율로 사기거래가 발생 했을 것이다. -> model parameter : contamination=val_contamination(=0.001055) 적용\n",
    "from sklearn.ensemble import IsolationForest\n",
    "model = IsolationForest(n_estimators=125, max_samples=len(train_x), contamination=0.00105404, random_state=42, verbose=0)\n",
    "model.fit(train_x)"
   ]
  },
  {
   "cell_type": "code",
   "execution_count": 441,
   "id": "0c0a7383",
   "metadata": {},
   "outputs": [],
   "source": [
    "def get_pred_label(model_pred):\n",
    "    # IsolationForest 모델 출력 (1:정상, -1:불량(사기)) 이므로 (0:정상, 1:불량(사기))로 Label 변환\n",
    "    model_pred = np.where(model_pred == 1, 0, model_pred)\n",
    "    model_pred = np.where(model_pred == -1, 1, model_pred)\n",
    "    return model_pred"
   ]
  },
  {
   "cell_type": "code",
   "execution_count": 442,
   "id": "f1a8cc59",
   "metadata": {},
   "outputs": [
    {
     "data": {
      "text/plain": [
       "array([0, 0, 0, ..., 0, 0, 0])"
      ]
     },
     "execution_count": 442,
     "metadata": {},
     "output_type": "execute_result"
    }
   ],
   "source": [
    "from sklearn.metrics import f1_score\n",
    "from sklearn.metrics import classification_report\n",
    "train_x_pred = model.predict(train_x) # model prediction\n",
    "train_x_pred = get_pred_label(train_x_pred)\n",
    "train_x_pred"
   ]
  },
  {
   "cell_type": "code",
   "execution_count": 443,
   "id": "9edb1cd0",
   "metadata": {},
   "outputs": [
    {
     "data": {
      "text/plain": [
       "0    113722\n",
       "1       120\n",
       "Name: Class, dtype: int64"
      ]
     },
     "execution_count": 443,
     "metadata": {},
     "output_type": "execute_result"
    }
   ],
   "source": [
    "train_x2 = train_x\n",
    "train_x2['Class'] = train_x_pred\n",
    "train_x2['Class'].value_counts()"
   ]
  },
  {
   "cell_type": "code",
   "execution_count": 148,
   "id": "adea6d60",
   "metadata": {},
   "outputs": [
    {
     "data": {
      "text/html": [
       "<div>\n",
       "<style scoped>\n",
       "    .dataframe tbody tr th:only-of-type {\n",
       "        vertical-align: middle;\n",
       "    }\n",
       "\n",
       "    .dataframe tbody tr th {\n",
       "        vertical-align: top;\n",
       "    }\n",
       "\n",
       "    .dataframe thead th {\n",
       "        text-align: right;\n",
       "    }\n",
       "</style>\n",
       "<table border=\"1\" class=\"dataframe\">\n",
       "  <thead>\n",
       "    <tr style=\"text-align: right;\">\n",
       "      <th></th>\n",
       "      <th>V1</th>\n",
       "      <th>V2</th>\n",
       "      <th>V3</th>\n",
       "      <th>V4</th>\n",
       "      <th>V5</th>\n",
       "      <th>V6</th>\n",
       "      <th>V7</th>\n",
       "      <th>V8</th>\n",
       "      <th>V9</th>\n",
       "      <th>V10</th>\n",
       "      <th>...</th>\n",
       "      <th>V21</th>\n",
       "      <th>V22</th>\n",
       "      <th>V23</th>\n",
       "      <th>V24</th>\n",
       "      <th>V25</th>\n",
       "      <th>V26</th>\n",
       "      <th>V27</th>\n",
       "      <th>V28</th>\n",
       "      <th>V29</th>\n",
       "      <th>V30</th>\n",
       "    </tr>\n",
       "  </thead>\n",
       "  <tbody>\n",
       "    <tr>\n",
       "      <th>0</th>\n",
       "      <td>-1.358354</td>\n",
       "      <td>-1.340163</td>\n",
       "      <td>1.773209</td>\n",
       "      <td>0.379780</td>\n",
       "      <td>-0.503198</td>\n",
       "      <td>1.800499</td>\n",
       "      <td>0.791461</td>\n",
       "      <td>0.247676</td>\n",
       "      <td>-1.514654</td>\n",
       "      <td>0.207643</td>\n",
       "      <td>...</td>\n",
       "      <td>0.247998</td>\n",
       "      <td>0.771679</td>\n",
       "      <td>0.909412</td>\n",
       "      <td>-0.689281</td>\n",
       "      <td>-0.327642</td>\n",
       "      <td>-0.139097</td>\n",
       "      <td>-0.055353</td>\n",
       "      <td>-0.059752</td>\n",
       "      <td>4.983721</td>\n",
       "      <td>-0.994972</td>\n",
       "    </tr>\n",
       "    <tr>\n",
       "      <th>1</th>\n",
       "      <td>-0.966272</td>\n",
       "      <td>-0.185226</td>\n",
       "      <td>1.792993</td>\n",
       "      <td>-0.863291</td>\n",
       "      <td>-0.010309</td>\n",
       "      <td>1.247203</td>\n",
       "      <td>0.237609</td>\n",
       "      <td>0.377436</td>\n",
       "      <td>-1.387024</td>\n",
       "      <td>-0.054952</td>\n",
       "      <td>...</td>\n",
       "      <td>-0.108300</td>\n",
       "      <td>0.005274</td>\n",
       "      <td>-0.190321</td>\n",
       "      <td>-1.175575</td>\n",
       "      <td>0.647376</td>\n",
       "      <td>-0.221929</td>\n",
       "      <td>0.062723</td>\n",
       "      <td>0.061458</td>\n",
       "      <td>1.418291</td>\n",
       "      <td>-0.994972</td>\n",
       "    </tr>\n",
       "    <tr>\n",
       "      <th>2</th>\n",
       "      <td>-0.425966</td>\n",
       "      <td>0.960523</td>\n",
       "      <td>1.141109</td>\n",
       "      <td>-0.168252</td>\n",
       "      <td>0.420987</td>\n",
       "      <td>-0.029728</td>\n",
       "      <td>0.476201</td>\n",
       "      <td>0.260314</td>\n",
       "      <td>-0.568671</td>\n",
       "      <td>-0.371407</td>\n",
       "      <td>...</td>\n",
       "      <td>-0.208254</td>\n",
       "      <td>-0.559825</td>\n",
       "      <td>-0.026398</td>\n",
       "      <td>-0.371427</td>\n",
       "      <td>-0.232794</td>\n",
       "      <td>0.105915</td>\n",
       "      <td>0.253844</td>\n",
       "      <td>0.081080</td>\n",
       "      <td>-0.256131</td>\n",
       "      <td>-0.994960</td>\n",
       "    </tr>\n",
       "    <tr>\n",
       "      <th>3</th>\n",
       "      <td>-0.644269</td>\n",
       "      <td>1.417964</td>\n",
       "      <td>1.074380</td>\n",
       "      <td>-0.492199</td>\n",
       "      <td>0.948934</td>\n",
       "      <td>0.428118</td>\n",
       "      <td>1.120631</td>\n",
       "      <td>-3.807864</td>\n",
       "      <td>0.615375</td>\n",
       "      <td>1.249376</td>\n",
       "      <td>...</td>\n",
       "      <td>1.943465</td>\n",
       "      <td>-1.015455</td>\n",
       "      <td>0.057504</td>\n",
       "      <td>-0.649709</td>\n",
       "      <td>-0.415267</td>\n",
       "      <td>-0.051634</td>\n",
       "      <td>-1.206921</td>\n",
       "      <td>-1.085339</td>\n",
       "      <td>0.262698</td>\n",
       "      <td>-0.994901</td>\n",
       "    </tr>\n",
       "    <tr>\n",
       "      <th>4</th>\n",
       "      <td>-0.894286</td>\n",
       "      <td>0.286157</td>\n",
       "      <td>-0.113192</td>\n",
       "      <td>-0.271526</td>\n",
       "      <td>2.669599</td>\n",
       "      <td>3.721818</td>\n",
       "      <td>0.370145</td>\n",
       "      <td>0.851084</td>\n",
       "      <td>-0.392048</td>\n",
       "      <td>-0.410430</td>\n",
       "      <td>...</td>\n",
       "      <td>-0.073425</td>\n",
       "      <td>-0.268092</td>\n",
       "      <td>-0.204233</td>\n",
       "      <td>1.011592</td>\n",
       "      <td>0.373205</td>\n",
       "      <td>-0.384157</td>\n",
       "      <td>0.011747</td>\n",
       "      <td>0.142404</td>\n",
       "      <td>0.994900</td>\n",
       "      <td>-0.994901</td>\n",
       "    </tr>\n",
       "  </tbody>\n",
       "</table>\n",
       "<p>5 rows × 30 columns</p>\n",
       "</div>"
      ],
      "text/plain": [
       "         V1        V2        V3        V4        V5        V6        V7  \\\n",
       "0 -1.358354 -1.340163  1.773209  0.379780 -0.503198  1.800499  0.791461   \n",
       "1 -0.966272 -0.185226  1.792993 -0.863291 -0.010309  1.247203  0.237609   \n",
       "2 -0.425966  0.960523  1.141109 -0.168252  0.420987 -0.029728  0.476201   \n",
       "3 -0.644269  1.417964  1.074380 -0.492199  0.948934  0.428118  1.120631   \n",
       "4 -0.894286  0.286157 -0.113192 -0.271526  2.669599  3.721818  0.370145   \n",
       "\n",
       "         V8        V9       V10  ...       V21       V22       V23       V24  \\\n",
       "0  0.247676 -1.514654  0.207643  ...  0.247998  0.771679  0.909412 -0.689281   \n",
       "1  0.377436 -1.387024 -0.054952  ... -0.108300  0.005274 -0.190321 -1.175575   \n",
       "2  0.260314 -0.568671 -0.371407  ... -0.208254 -0.559825 -0.026398 -0.371427   \n",
       "3 -3.807864  0.615375  1.249376  ...  1.943465 -1.015455  0.057504 -0.649709   \n",
       "4  0.851084 -0.392048 -0.410430  ... -0.073425 -0.268092 -0.204233  1.011592   \n",
       "\n",
       "        V25       V26       V27       V28       V29       V30  \n",
       "0 -0.327642 -0.139097 -0.055353 -0.059752  4.983721 -0.994972  \n",
       "1  0.647376 -0.221929  0.062723  0.061458  1.418291 -0.994972  \n",
       "2 -0.232794  0.105915  0.253844  0.081080 -0.256131 -0.994960  \n",
       "3 -0.415267 -0.051634 -1.206921 -1.085339  0.262698 -0.994901  \n",
       "4  0.373205 -0.384157  0.011747  0.142404  0.994900 -0.994901  \n",
       "\n",
       "[5 rows x 30 columns]"
      ]
     },
     "execution_count": 148,
     "metadata": {},
     "output_type": "execute_result"
    }
   ],
   "source": [
    "X_train = train_x2[train_x2.Class == 0]\n",
    "X_train = X_train.drop(['Class'], axis=1)\n",
    "\n",
    "X_train.head()\n"
   ]
  },
  {
   "cell_type": "code",
   "execution_count": 446,
   "id": "01628099",
   "metadata": {},
   "outputs": [],
   "source": [
    "from keras.layers import Input, Dense\n",
    "from keras import regularizers\n",
    "from keras.models import Model, load_model\n",
    "\n",
    "input_dim = X_train.shape[1]\n",
    "encoding_dim = 14\n",
    "input_dim\n",
    "input_layer = Input(shape=(input_dim, ))\n",
    "\n",
    "encoder = Dense(encoding_dim, activation=\"tanh\", \n",
    "                activity_regularizer=regularizers.l1(10e-5))(input_layer)\n",
    "encoder = Dense(int(encoding_dim / 2), activation=\"relu\")(encoder)\n",
    "decoder = Dense(int(encoding_dim / 2), activation='tanh')(encoder)\n",
    "decoder = Dense(input_dim, activation='relu')(decoder)\n",
    "autoencoder = Model(inputs=input_layer, outputs=decoder)"
   ]
  },
  {
   "cell_type": "code",
   "execution_count": 447,
   "id": "0558dde4",
   "metadata": {},
   "outputs": [
    {
     "name": "stdout",
     "output_type": "stream",
     "text": [
      "Epoch 1/100\n",
      "3554/3554 [==============================] - 4s 927us/step - loss: 0.8903 - accuracy: 0.6021 - val_loss: 0.8852 - val_accuracy: 0.6662\n",
      "Epoch 2/100\n",
      "3554/3554 [==============================] - 3s 914us/step - loss: 0.7478 - accuracy: 0.6714 - val_loss: 0.8312 - val_accuracy: 0.6470\n",
      "Epoch 3/100\n",
      "3554/3554 [==============================] - 3s 895us/step - loss: 0.7131 - accuracy: 0.6763 - val_loss: 0.7996 - val_accuracy: 0.6757\n",
      "Epoch 4/100\n",
      "3554/3554 [==============================] - 3s 900us/step - loss: 0.6969 - accuracy: 0.6755 - val_loss: 0.7847 - val_accuracy: 0.6736\n",
      "Epoch 5/100\n",
      "3554/3554 [==============================] - 3s 900us/step - loss: 0.6874 - accuracy: 0.6753 - val_loss: 0.7765 - val_accuracy: 0.6760\n",
      "Epoch 6/100\n",
      "3554/3554 [==============================] - 4s 1ms/step - loss: 0.6810 - accuracy: 0.6771 - val_loss: 0.7689 - val_accuracy: 0.6727\n",
      "Epoch 7/100\n",
      "3554/3554 [==============================] - 4s 991us/step - loss: 0.6765 - accuracy: 0.6783 - val_loss: 0.7680 - val_accuracy: 0.6689\n",
      "Epoch 8/100\n",
      "3554/3554 [==============================] - 4s 1ms/step - loss: 0.6732 - accuracy: 0.6793 - val_loss: 0.7571 - val_accuracy: 0.6788\n",
      "Epoch 9/100\n",
      "3554/3554 [==============================] - 3s 885us/step - loss: 0.6700 - accuracy: 0.6805 - val_loss: 0.7540 - val_accuracy: 0.6852\n",
      "Epoch 10/100\n",
      "3554/3554 [==============================] - 3s 890us/step - loss: 0.6680 - accuracy: 0.6831 - val_loss: 0.7521 - val_accuracy: 0.6804\n",
      "Epoch 11/100\n",
      "3554/3554 [==============================] - 3s 888us/step - loss: 0.6651 - accuracy: 0.6847 - val_loss: 0.7486 - val_accuracy: 0.6749\n",
      "Epoch 12/100\n",
      "3554/3554 [==============================] - 3s 890us/step - loss: 0.6633 - accuracy: 0.6861 - val_loss: 0.7463 - val_accuracy: 0.6843\n",
      "Epoch 13/100\n",
      "3554/3554 [==============================] - 3s 867us/step - loss: 0.6615 - accuracy: 0.6873 - val_loss: 0.7409 - val_accuracy: 0.6913\n",
      "Epoch 14/100\n",
      "3554/3554 [==============================] - 3s 862us/step - loss: 0.6598 - accuracy: 0.6903 - val_loss: 0.7420 - val_accuracy: 0.6809\n",
      "Epoch 15/100\n",
      "3554/3554 [==============================] - 3s 869us/step - loss: 0.6584 - accuracy: 0.6919 - val_loss: 0.7387 - val_accuracy: 0.6950\n",
      "Epoch 16/100\n",
      "3554/3554 [==============================] - 3s 879us/step - loss: 0.6574 - accuracy: 0.6933 - val_loss: 0.7364 - val_accuracy: 0.6912\n",
      "Epoch 17/100\n",
      "3554/3554 [==============================] - 3s 886us/step - loss: 0.6565 - accuracy: 0.6942 - val_loss: 0.7350 - val_accuracy: 0.6956\n",
      "Epoch 18/100\n",
      "3554/3554 [==============================] - 3s 876us/step - loss: 0.6557 - accuracy: 0.6964 - val_loss: 0.7347 - val_accuracy: 0.6918\n",
      "Epoch 19/100\n",
      "3554/3554 [==============================] - 3s 874us/step - loss: 0.6551 - accuracy: 0.6978 - val_loss: 0.7345 - val_accuracy: 0.6936\n",
      "Epoch 20/100\n",
      "3554/3554 [==============================] - 3s 888us/step - loss: 0.6537 - accuracy: 0.6982 - val_loss: 0.7316 - val_accuracy: 0.6948\n",
      "Epoch 21/100\n",
      "3554/3554 [==============================] - 3s 928us/step - loss: 0.6534 - accuracy: 0.6996 - val_loss: 0.7296 - val_accuracy: 0.7014\n",
      "Epoch 22/100\n",
      "3554/3554 [==============================] - 3s 886us/step - loss: 0.6529 - accuracy: 0.7000 - val_loss: 0.7303 - val_accuracy: 0.7031\n",
      "Epoch 23/100\n",
      "3554/3554 [==============================] - 3s 869us/step - loss: 0.6522 - accuracy: 0.7004 - val_loss: 0.7284 - val_accuracy: 0.7008\n",
      "Epoch 24/100\n",
      "3554/3554 [==============================] - 3s 862us/step - loss: 0.6518 - accuracy: 0.7005 - val_loss: 0.7288 - val_accuracy: 0.7001\n",
      "Epoch 25/100\n",
      "3554/3554 [==============================] - 3s 863us/step - loss: 0.6516 - accuracy: 0.7012 - val_loss: 0.7291 - val_accuracy: 0.7024\n",
      "Epoch 26/100\n",
      "3554/3554 [==============================] - 3s 905us/step - loss: 0.6515 - accuracy: 0.7014 - val_loss: 0.7281 - val_accuracy: 0.7022\n",
      "Epoch 27/100\n",
      "3554/3554 [==============================] - 3s 879us/step - loss: 0.6514 - accuracy: 0.7018 - val_loss: 0.7292 - val_accuracy: 0.6956\n",
      "Epoch 28/100\n",
      "3554/3554 [==============================] - 3s 900us/step - loss: 0.6512 - accuracy: 0.7026 - val_loss: 0.7273 - val_accuracy: 0.7002\n",
      "Epoch 29/100\n",
      "3554/3554 [==============================] - 3s 937us/step - loss: 0.6507 - accuracy: 0.7025 - val_loss: 0.7296 - val_accuracy: 0.6951\n",
      "Epoch 30/100\n",
      "3554/3554 [==============================] - 3s 912us/step - loss: 0.6512 - accuracy: 0.7028 - val_loss: 0.7278 - val_accuracy: 0.6986\n",
      "Epoch 31/100\n",
      "3554/3554 [==============================] - 3s 890us/step - loss: 0.6503 - accuracy: 0.7030 - val_loss: 0.7285 - val_accuracy: 0.6963\n",
      "Epoch 32/100\n",
      "3554/3554 [==============================] - 3s 972us/step - loss: 0.6504 - accuracy: 0.7041 - val_loss: 0.7269 - val_accuracy: 0.6878\n",
      "Epoch 33/100\n",
      "3554/3554 [==============================] - 3s 937us/step - loss: 0.6502 - accuracy: 0.7032 - val_loss: 0.7288 - val_accuracy: 0.6981\n",
      "Epoch 34/100\n",
      "3554/3554 [==============================] - 3s 923us/step - loss: 0.6502 - accuracy: 0.7035 - val_loss: 0.7258 - val_accuracy: 0.6984\n",
      "Epoch 35/100\n",
      "3554/3554 [==============================] - 3s 890us/step - loss: 0.6500 - accuracy: 0.7044 - val_loss: 0.7243 - val_accuracy: 0.7083\n",
      "Epoch 36/100\n",
      "3554/3554 [==============================] - 3s 876us/step - loss: 0.6495 - accuracy: 0.7045 - val_loss: 0.7276 - val_accuracy: 0.7037\n",
      "Epoch 37/100\n",
      "3554/3554 [==============================] - 3s 886us/step - loss: 0.6496 - accuracy: 0.7042 - val_loss: 0.7260 - val_accuracy: 0.7014\n",
      "Epoch 38/100\n",
      "3554/3554 [==============================] - 3s 879us/step - loss: 0.6496 - accuracy: 0.7042 - val_loss: 0.7259 - val_accuracy: 0.7050\n",
      "Epoch 39/100\n",
      "3554/3554 [==============================] - 3s 860us/step - loss: 0.6495 - accuracy: 0.7046 - val_loss: 0.7256 - val_accuracy: 0.6976\n",
      "Epoch 40/100\n",
      "3554/3554 [==============================] - 3s 876us/step - loss: 0.6495 - accuracy: 0.7052 - val_loss: 0.7244 - val_accuracy: 0.7040\n",
      "Epoch 41/100\n",
      "3554/3554 [==============================] - 3s 860us/step - loss: 0.6495 - accuracy: 0.7049 - val_loss: 0.7246 - val_accuracy: 0.7073\n",
      "Epoch 42/100\n",
      "3554/3554 [==============================] - 3s 865us/step - loss: 0.6493 - accuracy: 0.7046 - val_loss: 0.7269 - val_accuracy: 0.6931\n",
      "Epoch 43/100\n",
      "3554/3554 [==============================] - 3s 869us/step - loss: 0.6491 - accuracy: 0.7068 - val_loss: 0.7247 - val_accuracy: 0.7000\n",
      "Epoch 44/100\n",
      "3554/3554 [==============================] - 3s 865us/step - loss: 0.6490 - accuracy: 0.7062 - val_loss: 0.7261 - val_accuracy: 0.7087\n",
      "Epoch 45/100\n",
      "3554/3554 [==============================] - 3s 860us/step - loss: 0.6489 - accuracy: 0.7060 - val_loss: 0.7276 - val_accuracy: 0.7037\n",
      "Epoch 46/100\n",
      "3554/3554 [==============================] - 3s 862us/step - loss: 0.6491 - accuracy: 0.7059 - val_loss: 0.7253 - val_accuracy: 0.7086\n",
      "Epoch 47/100\n",
      "3554/3554 [==============================] - 3s 895us/step - loss: 0.6487 - accuracy: 0.7073 - val_loss: 0.7236 - val_accuracy: 0.7052\n",
      "Epoch 48/100\n",
      "3554/3554 [==============================] - 3s 857us/step - loss: 0.6490 - accuracy: 0.7073 - val_loss: 0.7240 - val_accuracy: 0.7092\n",
      "Epoch 49/100\n",
      "3554/3554 [==============================] - 3s 860us/step - loss: 0.6486 - accuracy: 0.7074 - val_loss: 0.7249 - val_accuracy: 0.7022\n",
      "Epoch 50/100\n",
      "3554/3554 [==============================] - 3s 862us/step - loss: 0.6489 - accuracy: 0.7070 - val_loss: 0.7250 - val_accuracy: 0.7066\n",
      "Epoch 51/100\n",
      "3554/3554 [==============================] - 3s 892us/step - loss: 0.6486 - accuracy: 0.7088 - val_loss: 0.7231 - val_accuracy: 0.7062\n",
      "Epoch 52/100\n",
      "3554/3554 [==============================] - 3s 860us/step - loss: 0.6482 - accuracy: 0.7078 - val_loss: 0.7254 - val_accuracy: 0.7014\n",
      "Epoch 53/100\n",
      "3554/3554 [==============================] - 3s 857us/step - loss: 0.6485 - accuracy: 0.7079 - val_loss: 0.7249 - val_accuracy: 0.7065\n",
      "Epoch 54/100\n",
      "3554/3554 [==============================] - 3s 884us/step - loss: 0.6483 - accuracy: 0.7086 - val_loss: 0.7229 - val_accuracy: 0.7057\n",
      "Epoch 55/100\n",
      "3554/3554 [==============================] - 3s 860us/step - loss: 0.6482 - accuracy: 0.7091 - val_loss: 0.7233 - val_accuracy: 0.7027\n",
      "Epoch 56/100\n"
     ]
    },
    {
     "name": "stdout",
     "output_type": "stream",
     "text": [
      "3554/3554 [==============================] - 3s 857us/step - loss: 0.6483 - accuracy: 0.7082 - val_loss: 0.7231 - val_accuracy: 0.7087\n",
      "Epoch 57/100\n",
      "3554/3554 [==============================] - 3s 862us/step - loss: 0.6483 - accuracy: 0.7085 - val_loss: 0.7257 - val_accuracy: 0.7059\n",
      "Epoch 58/100\n",
      "3554/3554 [==============================] - 3s 856us/step - loss: 0.6482 - accuracy: 0.7097 - val_loss: 0.7234 - val_accuracy: 0.7103\n",
      "Epoch 59/100\n",
      "3554/3554 [==============================] - 3s 862us/step - loss: 0.6485 - accuracy: 0.7087 - val_loss: 0.7270 - val_accuracy: 0.7083\n",
      "Epoch 60/100\n",
      "3554/3554 [==============================] - 3s 858us/step - loss: 0.6487 - accuracy: 0.7091 - val_loss: 0.7261 - val_accuracy: 0.7095\n",
      "Epoch 61/100\n",
      "3554/3554 [==============================] - 3s 863us/step - loss: 0.6481 - accuracy: 0.7105 - val_loss: 0.7228 - val_accuracy: 0.7126\n",
      "Epoch 62/100\n",
      "3554/3554 [==============================] - 3s 864us/step - loss: 0.6478 - accuracy: 0.7104 - val_loss: 0.7275 - val_accuracy: 0.6936\n",
      "Epoch 63/100\n",
      "3554/3554 [==============================] - 3s 891us/step - loss: 0.6482 - accuracy: 0.7106 - val_loss: 0.7223 - val_accuracy: 0.7111\n",
      "Epoch 64/100\n",
      "3554/3554 [==============================] - 3s 862us/step - loss: 0.6476 - accuracy: 0.7107 - val_loss: 0.7236 - val_accuracy: 0.7126\n",
      "Epoch 65/100\n",
      "3554/3554 [==============================] - 3s 859us/step - loss: 0.6484 - accuracy: 0.7092 - val_loss: 0.7249 - val_accuracy: 0.7047\n",
      "Epoch 66/100\n",
      "3554/3554 [==============================] - 3s 861us/step - loss: 0.6478 - accuracy: 0.7103 - val_loss: 0.7226 - val_accuracy: 0.7090\n",
      "Epoch 67/100\n",
      "3554/3554 [==============================] - 3s 856us/step - loss: 0.6484 - accuracy: 0.7105 - val_loss: 0.7228 - val_accuracy: 0.7109\n",
      "Epoch 68/100\n",
      "3554/3554 [==============================] - 3s 904us/step - loss: 0.6477 - accuracy: 0.7103 - val_loss: 0.7311 - val_accuracy: 0.7068\n",
      "Epoch 69/100\n",
      "3554/3554 [==============================] - 3s 907us/step - loss: 0.6478 - accuracy: 0.7099 - val_loss: 0.7231 - val_accuracy: 0.7017\n",
      "Epoch 70/100\n",
      "3554/3554 [==============================] - 3s 865us/step - loss: 0.6475 - accuracy: 0.7108 - val_loss: 0.7232 - val_accuracy: 0.7067\n",
      "Epoch 71/100\n",
      "3554/3554 [==============================] - 3s 862us/step - loss: 0.6484 - accuracy: 0.7101 - val_loss: 0.7231 - val_accuracy: 0.7101\n",
      "Epoch 72/100\n",
      "3554/3554 [==============================] - 3s 867us/step - loss: 0.6474 - accuracy: 0.7107 - val_loss: 0.7231 - val_accuracy: 0.7099\n",
      "Epoch 73/100\n",
      "3554/3554 [==============================] - 3s 867us/step - loss: 0.6480 - accuracy: 0.7114 - val_loss: 0.7254 - val_accuracy: 0.7135\n",
      "Epoch 74/100\n",
      "3554/3554 [==============================] - 3s 863us/step - loss: 0.6478 - accuracy: 0.7107 - val_loss: 0.7239 - val_accuracy: 0.7111\n",
      "Epoch 75/100\n",
      "3554/3554 [==============================] - 3s 880us/step - loss: 0.6475 - accuracy: 0.7121 - val_loss: 0.7223 - val_accuracy: 0.7136\n",
      "Epoch 76/100\n",
      "3554/3554 [==============================] - 3s 870us/step - loss: 0.6475 - accuracy: 0.7113 - val_loss: 0.7215 - val_accuracy: 0.7080\n",
      "Epoch 77/100\n",
      "3554/3554 [==============================] - 3s 874us/step - loss: 0.6475 - accuracy: 0.7111 - val_loss: 0.7241 - val_accuracy: 0.7014\n",
      "Epoch 78/100\n",
      "3554/3554 [==============================] - 3s 879us/step - loss: 0.6478 - accuracy: 0.7114 - val_loss: 0.7228 - val_accuracy: 0.7085\n",
      "Epoch 79/100\n",
      "3554/3554 [==============================] - 3s 858us/step - loss: 0.6473 - accuracy: 0.7114 - val_loss: 0.7222 - val_accuracy: 0.7067\n",
      "Epoch 80/100\n",
      "3554/3554 [==============================] - 3s 867us/step - loss: 0.6478 - accuracy: 0.7097 - val_loss: 0.7224 - val_accuracy: 0.7053\n",
      "Epoch 81/100\n",
      "3554/3554 [==============================] - 3s 862us/step - loss: 0.6474 - accuracy: 0.7116 - val_loss: 0.7230 - val_accuracy: 0.7046\n",
      "Epoch 82/100\n",
      "3554/3554 [==============================] - 3s 869us/step - loss: 0.6475 - accuracy: 0.7119 - val_loss: 0.7215 - val_accuracy: 0.7083\n",
      "Epoch 83/100\n",
      "3554/3554 [==============================] - 3s 856us/step - loss: 0.6479 - accuracy: 0.7108 - val_loss: 0.7239 - val_accuracy: 0.7136\n",
      "Epoch 84/100\n",
      "3554/3554 [==============================] - 3s 867us/step - loss: 0.6470 - accuracy: 0.7117 - val_loss: 0.7222 - val_accuracy: 0.7096\n",
      "Epoch 85/100\n",
      "3554/3554 [==============================] - 3s 860us/step - loss: 0.6479 - accuracy: 0.7115 - val_loss: 0.7226 - val_accuracy: 0.7107\n",
      "Epoch 86/100\n",
      "3554/3554 [==============================] - 3s 872us/step - loss: 0.6470 - accuracy: 0.7129 - val_loss: 0.7227 - val_accuracy: 0.7100\n",
      "Epoch 87/100\n",
      "3554/3554 [==============================] - 3s 900us/step - loss: 0.6473 - accuracy: 0.7113 - val_loss: 0.7244 - val_accuracy: 0.7084\n",
      "Epoch 88/100\n",
      "3554/3554 [==============================] - 3s 912us/step - loss: 0.6474 - accuracy: 0.7127 - val_loss: 0.7211 - val_accuracy: 0.7141\n",
      "Epoch 89/100\n",
      "3554/3554 [==============================] - 3s 878us/step - loss: 0.6472 - accuracy: 0.7127 - val_loss: 0.7246 - val_accuracy: 0.7150\n",
      "Epoch 90/100\n",
      "3554/3554 [==============================] - 3s 897us/step - loss: 0.6468 - accuracy: 0.7118 - val_loss: 0.7233 - val_accuracy: 0.7069\n",
      "Epoch 91/100\n",
      "3554/3554 [==============================] - 3s 963us/step - loss: 0.6474 - accuracy: 0.7133 - val_loss: 0.7226 - val_accuracy: 0.7026\n",
      "Epoch 92/100\n",
      "3554/3554 [==============================] - 3s 892us/step - loss: 0.6470 - accuracy: 0.7127 - val_loss: 0.7205 - val_accuracy: 0.7151\n",
      "Epoch 93/100\n",
      "3554/3554 [==============================] - 3s 879us/step - loss: 0.6474 - accuracy: 0.7139 - val_loss: 0.7236 - val_accuracy: 0.7109\n",
      "Epoch 94/100\n",
      "3554/3554 [==============================] - 3s 876us/step - loss: 0.6467 - accuracy: 0.7135 - val_loss: 0.7268 - val_accuracy: 0.7085\n",
      "Epoch 95/100\n",
      "3554/3554 [==============================] - 3s 874us/step - loss: 0.6469 - accuracy: 0.7127 - val_loss: 0.7228 - val_accuracy: 0.6987\n",
      "Epoch 96/100\n",
      "3554/3554 [==============================] - 3s 876us/step - loss: 0.6470 - accuracy: 0.7133 - val_loss: 0.7253 - val_accuracy: 0.7063\n",
      "Epoch 97/100\n",
      "3554/3554 [==============================] - 3s 872us/step - loss: 0.6467 - accuracy: 0.7135 - val_loss: 0.7215 - val_accuracy: 0.7093\n",
      "Epoch 98/100\n",
      "3554/3554 [==============================] - 3s 876us/step - loss: 0.6484 - accuracy: 0.7132 - val_loss: 0.7215 - val_accuracy: 0.7161\n",
      "Epoch 99/100\n",
      "3554/3554 [==============================] - 3s 891us/step - loss: 0.6461 - accuracy: 0.7142 - val_loss: 0.7212 - val_accuracy: 0.7113\n",
      "Epoch 100/100\n",
      "3554/3554 [==============================] - 3s 869us/step - loss: 0.6470 - accuracy: 0.7138 - val_loss: 0.7207 - val_accuracy: 0.7127\n"
     ]
    }
   ],
   "source": [
    "nb_epoch = 100\n",
    "batch_size = 32\n",
    "autoencoder.compile(optimizer='adam', \n",
    "                    loss='mean_squared_error', \n",
    "                    metrics=['accuracy'])\n",
    "checkpointer = ModelCheckpoint(filepath=\"model.h5\",\n",
    "                               verbose=0,\n",
    "                               save_best_only=True)\n",
    "tensorboard = TensorBoard(log_dir='./logs',\n",
    "                          histogram_freq=0,\n",
    "                          write_graph=True,\n",
    "                          write_images=True)\n",
    "history = autoencoder.fit(X_train, X_train,\n",
    "                    epochs=nb_epoch,\n",
    "                    batch_size=batch_size,\n",
    "                    shuffle=True,\n",
    "                    validation_data=(val_x, val_x),\n",
    "                    verbose=1,\n",
    "                    callbacks=[checkpointer, tensorboard]).history"
   ]
  },
  {
   "cell_type": "code",
   "execution_count": 157,
   "id": "a0440b6c",
   "metadata": {},
   "outputs": [],
   "source": [
    "autoencoder = load_model('model.h5')\n"
   ]
  },
  {
   "cell_type": "code",
   "execution_count": 158,
   "id": "5dacf91e",
   "metadata": {},
   "outputs": [
    {
     "data": {
      "image/png": "[encoded data removed]",
      "text/plain": [
       "<Figure size 432x288 with 1 Axes>"
      ]
     },
     "metadata": {
      "needs_background": "light"
     },
     "output_type": "display_data"
    }
   ],
   "source": [
    "plt.plot(history['loss'])\n",
    "plt.plot(history['val_loss'])\n",
    "plt.title('model loss')\n",
    "plt.ylabel('loss')\n",
    "plt.xlabel('epoch')\n",
    "plt.legend(['train', 'test'], loc='upper right');"
   ]
  },
  {
   "cell_type": "code",
   "execution_count": 204,
   "id": "dc1db666",
   "metadata": {},
   "outputs": [
    {
     "name": "stdout",
     "output_type": "stream",
     "text": [
      "890/890 [==============================] - 0s 524us/step\n"
     ]
    },
    {
     "data": {
      "text/html": [
       "<div>\n",
       "<style scoped>\n",
       "    .dataframe tbody tr th:only-of-type {\n",
       "        vertical-align: middle;\n",
       "    }\n",
       "\n",
       "    .dataframe tbody tr th {\n",
       "        vertical-align: top;\n",
       "    }\n",
       "\n",
       "    .dataframe thead th {\n",
       "        text-align: right;\n",
       "    }\n",
       "</style>\n",
       "<table border=\"1\" class=\"dataframe\">\n",
       "  <thead>\n",
       "    <tr style=\"text-align: right;\">\n",
       "      <th></th>\n",
       "      <th>reconstruction_error</th>\n",
       "      <th>true_class</th>\n",
       "    </tr>\n",
       "  </thead>\n",
       "  <tbody>\n",
       "    <tr>\n",
       "      <th>count</th>\n",
       "      <td>28462.000000</td>\n",
       "      <td>28462.000000</td>\n",
       "    </tr>\n",
       "    <tr>\n",
       "      <th>mean</th>\n",
       "      <td>0.695173</td>\n",
       "      <td>0.001054</td>\n",
       "    </tr>\n",
       "    <tr>\n",
       "      <th>std</th>\n",
       "      <td>3.774581</td>\n",
       "      <td>0.032449</td>\n",
       "    </tr>\n",
       "    <tr>\n",
       "      <th>min</th>\n",
       "      <td>0.064663</td>\n",
       "      <td>0.000000</td>\n",
       "    </tr>\n",
       "    <tr>\n",
       "      <th>25%</th>\n",
       "      <td>0.235804</td>\n",
       "      <td>0.000000</td>\n",
       "    </tr>\n",
       "    <tr>\n",
       "      <th>50%</th>\n",
       "      <td>0.378934</td>\n",
       "      <td>0.000000</td>\n",
       "    </tr>\n",
       "    <tr>\n",
       "      <th>75%</th>\n",
       "      <td>0.598964</td>\n",
       "      <td>0.000000</td>\n",
       "    </tr>\n",
       "    <tr>\n",
       "      <th>max</th>\n",
       "      <td>449.710821</td>\n",
       "      <td>1.000000</td>\n",
       "    </tr>\n",
       "  </tbody>\n",
       "</table>\n",
       "</div>"
      ],
      "text/plain": [
       "       reconstruction_error    true_class\n",
       "count          28462.000000  28462.000000\n",
       "mean               0.695173      0.001054\n",
       "std                3.774581      0.032449\n",
       "min                0.064663      0.000000\n",
       "25%                0.235804      0.000000\n",
       "50%                0.378934      0.000000\n",
       "75%                0.598964      0.000000\n",
       "max              449.710821      1.000000"
      ]
     },
     "execution_count": 204,
     "metadata": {},
     "output_type": "execute_result"
    }
   ],
   "source": [
    "predictions = autoencoder.predict(val_x)\n",
    "mse = np.mean(np.power(val_x - predictions, 2), axis=1)\n",
    "error_df = pd.DataFrame({'reconstruction_error': mse,\n",
    "                        'true_class': val_y})\n",
    "error_df.describe()"
   ]
  },
  {
   "cell_type": "code",
   "execution_count": 205,
   "id": "a39b5003",
   "metadata": {},
   "outputs": [
    {
     "data": {
      "image/png": "[encoded data removed]",
      "text/plain": [
       "<Figure size 432x288 with 1 Axes>"
      ]
     },
     "metadata": {
      "needs_background": "light"
     },
     "output_type": "display_data"
    }
   ],
   "source": [
    "fig = plt.figure()\n",
    "ax = fig.add_subplot(111)\n",
    "normal_error_df = error_df[(error_df['true_class']== 0) & (error_df['reconstruction_error'] < 10)]\n",
    "_ = ax.hist(normal_error_df.reconstruction_error.values, bins=10)"
   ]
  },
  {
   "cell_type": "code",
   "execution_count": 206,
   "id": "e79821ba",
   "metadata": {},
   "outputs": [
    {
     "data": {
      "image/png": "[encoded data removed]",
      "text/plain": [
       "<Figure size 432x288 with 1 Axes>"
      ]
     },
     "metadata": {
      "needs_background": "light"
     },
     "output_type": "display_data"
    }
   ],
   "source": [
    "fig = plt.figure()\n",
    "ax = fig.add_subplot(111)\n",
    "fraud_error_df = error_df[error_df['true_class'] == 1]\n",
    "_ = ax.hist(fraud_error_df.reconstruction_error.values, bins=10)"
   ]
  },
  {
   "cell_type": "code",
   "execution_count": 207,
   "id": "9b316afb",
   "metadata": {},
   "outputs": [
    {
     "data": {
      "image/png": "[encoded data removed]",
      "text/plain": [
       "<Figure size 432x288 with 1 Axes>"
      ]
     },
     "metadata": {
      "needs_background": "light"
     },
     "output_type": "display_data"
    }
   ],
   "source": [
    "from sklearn.metrics import (confusion_matrix, precision_recall_curve, auc,\n",
    "                             roc_curve, recall_score, classification_report, f1_score,\n",
    "                             precision_recall_fscore_support)\n",
    "fpr, tpr, thresholds = roc_curve(error_df.true_class, error_df.reconstruction_error)\n",
    "roc_auc = auc(fpr, tpr)\n",
    "\n",
    "plt.title('Receiver Operating Characteristic')\n",
    "plt.plot(fpr, tpr, label='AUC = %0.4f'% roc_auc)\n",
    "plt.legend(loc='lower right')\n",
    "plt.plot([0,1],[0,1],'r--')\n",
    "plt.xlim([-0.001, 1])\n",
    "plt.ylim([0, 1.001])\n",
    "plt.ylabel('True Positive Rate')\n",
    "plt.xlabel('False Positive Rate')\n",
    "plt.show();"
   ]
  },
  {
   "cell_type": "code",
   "execution_count": 208,
   "id": "fd095b51",
   "metadata": {},
   "outputs": [
    {
     "data": {
      "image/png": "[encoded data removed]",
      "text/plain": [
       "<Figure size 432x288 with 1 Axes>"
      ]
     },
     "metadata": {
      "needs_background": "light"
     },
     "output_type": "display_data"
    }
   ],
   "source": [
    "precision, recall, th = precision_recall_curve(error_df.true_class, error_df.reconstruction_error)\n",
    "plt.plot(recall, precision, 'b', label='Precision-Recall curve')\n",
    "plt.title('Recall vs Precision')\n",
    "plt.xlabel('Recall')\n",
    "plt.ylabel('Precision')\n",
    "plt.show()"
   ]
  },
  {
   "cell_type": "code",
   "execution_count": 209,
   "id": "608b4e83",
   "metadata": {},
   "outputs": [
    {
     "data": {
      "image/png": "[encoded data removed]",
      "text/plain": [
       "<Figure size 432x288 with 1 Axes>"
      ]
     },
     "metadata": {
      "needs_background": "light"
     },
     "output_type": "display_data"
    }
   ],
   "source": [
    "plt.plot(th, precision[1:], 'b', label='Threshold-Precision curve')\n",
    "plt.title('Precision for different threshold values')\n",
    "plt.xlabel('Threshold')\n",
    "plt.ylabel('Precision')\n",
    "plt.show()"
   ]
  },
  {
   "cell_type": "code",
   "execution_count": 475,
   "id": "cbdc254e",
   "metadata": {},
   "outputs": [],
   "source": [
    "threshold = 40"
   ]
  },
  {
   "cell_type": "code",
   "execution_count": 476,
   "id": "82c43382",
   "metadata": {},
   "outputs": [
    {
     "data": {
      "image/png": "[encoded data removed]",
      "text/plain": [
       "<Figure size 432x288 with 1 Axes>"
      ]
     },
     "metadata": {
      "needs_background": "light"
     },
     "output_type": "display_data"
    }
   ],
   "source": [
    "groups = error_df.groupby('true_class')\n",
    "fig, ax = plt.subplots()\n",
    "\n",
    "for name, group in groups:\n",
    "    ax.plot(group.index, group.reconstruction_error, marker='o', ms=3.5, linestyle='',\n",
    "            label= \"Fraud\" if name == 1 else \"Normal\")\n",
    "ax.hlines(threshold, ax.get_xlim()[0], ax.get_xlim()[1], colors=\"r\", zorder=100, label='Threshold')\n",
    "ax.legend()\n",
    "plt.title(\"Reconstruction error for different classes\")\n",
    "plt.ylabel(\"Reconstruction error\")\n",
    "plt.xlabel(\"Data point index\")\n",
    "plt.show();"
   ]
  },
  {
   "cell_type": "code",
   "execution_count": 477,
   "id": "181ba6c4",
   "metadata": {},
   "outputs": [
    {
     "data": {
      "image/png": "[encoded data removed]",
      "text/plain": [
       "<Figure size 864x864 with 2 Axes>"
      ]
     },
     "metadata": {
      "needs_background": "light"
     },
     "output_type": "display_data"
    }
   ],
   "source": [
    "import seaborn as sns\n",
    "RANDOM_SEED = 42\n",
    "LABELS = [\"Normal\", \"Fraud\"]\n",
    "\n",
    "y_pred = [1 if e > threshold else 0 for e in error_df.reconstruction_error.values]\n",
    "conf_matrix = confusion_matrix(error_df.true_class, y_pred)\n",
    "plt.figure(figsize=(12, 12))\n",
    "sns.heatmap(conf_matrix, xticklabels=LABELS, yticklabels=LABELS, annot=True, fmt=\"d\");\n",
    "plt.title(\"Confusion matrix\")\n",
    "plt.ylabel('True class')\n",
    "plt.xlabel('Predicted class')\n",
    "plt.show()"
   ]
  },
  {
   "cell_type": "code",
   "execution_count": 478,
   "id": "aca9e1d0",
   "metadata": {},
   "outputs": [
    {
     "name": "stdout",
     "output_type": "stream",
     "text": [
      "4454/4454 [==============================] - 2s 509us/step\n"
     ]
    },
    {
     "data": {
      "text/html": [
       "<div>\n",
       "<style scoped>\n",
       "    .dataframe tbody tr th:only-of-type {\n",
       "        vertical-align: middle;\n",
       "    }\n",
       "\n",
       "    .dataframe tbody tr th {\n",
       "        vertical-align: top;\n",
       "    }\n",
       "\n",
       "    .dataframe thead th {\n",
       "        text-align: right;\n",
       "    }\n",
       "</style>\n",
       "<table border=\"1\" class=\"dataframe\">\n",
       "  <thead>\n",
       "    <tr style=\"text-align: right;\">\n",
       "      <th></th>\n",
       "      <th>reconstruction_error</th>\n",
       "    </tr>\n",
       "  </thead>\n",
       "  <tbody>\n",
       "    <tr>\n",
       "      <th>count</th>\n",
       "      <td>142503.000000</td>\n",
       "    </tr>\n",
       "    <tr>\n",
       "      <th>mean</th>\n",
       "      <td>0.813205</td>\n",
       "    </tr>\n",
       "    <tr>\n",
       "      <th>std</th>\n",
       "      <td>13.686429</td>\n",
       "    </tr>\n",
       "    <tr>\n",
       "      <th>min</th>\n",
       "      <td>0.031690</td>\n",
       "    </tr>\n",
       "    <tr>\n",
       "      <th>25%</th>\n",
       "      <td>0.243396</td>\n",
       "    </tr>\n",
       "    <tr>\n",
       "      <th>50%</th>\n",
       "      <td>0.403031</td>\n",
       "    </tr>\n",
       "    <tr>\n",
       "      <th>75%</th>\n",
       "      <td>0.632501</td>\n",
       "    </tr>\n",
       "    <tr>\n",
       "      <th>max</th>\n",
       "      <td>4357.284555</td>\n",
       "    </tr>\n",
       "  </tbody>\n",
       "</table>\n",
       "</div>"
      ],
      "text/plain": [
       "       reconstruction_error\n",
       "count         142503.000000\n",
       "mean               0.813205\n",
       "std               13.686429\n",
       "min                0.031690\n",
       "25%                0.243396\n",
       "50%                0.403031\n",
       "75%                0.632501\n",
       "max             4357.284555"
      ]
     },
     "execution_count": 478,
     "metadata": {},
     "output_type": "execute_result"
    }
   ],
   "source": [
    "predictions2 = autoencoder.predict(test_x) # model prediction\n",
    "mse = np.mean(np.power(test_x - predictions2, 2), axis=1)\n",
    "error_df2 = pd.DataFrame({'reconstruction_error': mse})\n",
    "error_df2.describe()"
   ]
  },
  {
   "cell_type": "code",
   "execution_count": 479,
   "id": "19d65c77",
   "metadata": {},
   "outputs": [],
   "source": [
    "submission  = [1 if e > threshold else 0 for e in error_df2.reconstruction_error.values]"
   ]
  },
  {
   "cell_type": "code",
   "execution_count": 480,
   "id": "b4d7d150",
   "metadata": {},
   "outputs": [],
   "source": [
    "submit = pd.read_csv('./sample_submission.csv')\n",
    "submit['Class'] = submission"
   ]
  },
  {
   "cell_type": "code",
   "execution_count": 481,
   "id": "4ae98fcd",
   "metadata": {},
   "outputs": [
    {
     "data": {
      "text/plain": [
       "0    142311\n",
       "1       192\n",
       "Name: Class, dtype: int64"
      ]
     },
     "execution_count": 481,
     "metadata": {},
     "output_type": "execute_result"
    }
   ],
   "source": [
    "submit['Class'].value_counts()"
   ]
  },
  {
   "cell_type": "code",
   "execution_count": 300,
   "id": "2228fdab",
   "metadata": {},
   "outputs": [],
   "source": [
    "submit.to_csv('./submit.csv', index=False)"
   ]
  },
  {
   "cell_type": "code",
   "execution_count": 482,
   "id": "aef18854",
   "metadata": {},
   "outputs": [
    {
     "data": {
      "text/plain": [
       "0    142311\n",
       "1       192\n",
       "Name: Class, dtype: int64"
      ]
     },
     "execution_count": 482,
     "metadata": {},
     "output_type": "execute_result"
    }
   ],
   "source": []
  },
  {
   "cell_type": "code",
   "execution_count": null,
   "id": "79f7c192",
   "metadata": {},
   "outputs": [],
   "source": []
  }
 ],
 "metadata": {
  "kernelspec": {
   "display_name": "Python 3",
   "language": "python",
   "name": "python3"
  },
  "language_info": {
   "codemirror_mode": {
    "name": "ipython",
    "version": 3
   },
   "file_extension": ".py",
   "mimetype": "text/x-python",
   "name": "python",
   "nbconvert_exporter": "python",
   "pygments_lexer": "ipython3",
   "version": "3.8.8"
  }
 },
 "nbformat": 4,
 "nbformat_minor": 5
}
