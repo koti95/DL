{
  "cells": [
    {
      "cell_type": "code",
      "execution_count": null,
      "metadata": {
        "colab": {
          "base_uri": "https://localhost:8080/"
        },
        "id": "c7ikoBhxrMh9",
        "outputId": "77d05fa8-bc16-4449-86c9-1ef055c222e5"
      },
      "outputs": [
        {
          "output_type": "stream",
          "name": "stdout",
          "text": [
            "Mounted at /content/drive\n"
          ]
        }
      ],
      "source": [
        "# 드라이브 마운트\n",
        "from google.colab import drive\n",
        "drive.mount('/content/drive')"
      ]
    },
    {
      "cell_type": "code",
      "execution_count": null,
      "metadata": {
        "id": "5TnnBjP6rx0L"
      },
      "outputs": [],
      "source": [
        "import numpy as np\n",
        "from sklearn.model_selection import train_test_split\n",
        "import pandas as pd\n",
        "import matplotlib.pyplot as plt\n",
        "import seaborn as sns\n",
        "from sklearn import metrics\n",
        "from sklearn import preprocessing\n"
      ]
    },
    {
      "cell_type": "code",
      "execution_count": null,
      "metadata": {
        "id": "LSjrcSbHrOQD"
      },
      "outputs": [],
      "source": [
        "colab_path = '/content/drive/MyDrive/ColabNotebooks/제2회 코스포 x 데이콘 도서 추천 알고리즘 AI경진대회(채용 연계형)/'"
      ]
    },
    {
      "cell_type": "code",
      "execution_count": null,
      "metadata": {
        "id": "izn2azQZrqRr"
      },
      "outputs": [],
      "source": [
        "train = pd.read_csv(colab_path+'/train.csv')\n",
        "test = pd.read_csv(colab_path+'/test.csv')"
      ]
    },
    {
      "cell_type": "code",
      "execution_count": null,
      "metadata": {
        "colab": {
          "base_uri": "https://localhost:8080/"
        },
        "id": "5_HtSruPtzJg",
        "outputId": "301c403f-d1cb-4681-a569-2883257e991d"
      },
      "outputs": [
        {
          "name": "stdout",
          "output_type": "stream",
          "text": [
            "<class 'pandas.core.frame.DataFrame'>\n",
            "RangeIndex: 871393 entries, 0 to 871392\n",
            "Data columns (total 10 columns):\n",
            " #   Column               Non-Null Count   Dtype  \n",
            "---  ------               --------------   -----  \n",
            " 0   ID                   871393 non-null  object \n",
            " 1   User-ID              871393 non-null  object \n",
            " 2   Book-ID              871393 non-null  object \n",
            " 3   Book-Rating          871393 non-null  int64  \n",
            " 4   Age                  871393 non-null  int64  \n",
            " 5   Location             871393 non-null  object \n",
            " 6   Book-Title           871393 non-null  object \n",
            " 7   Book-Author          871393 non-null  object \n",
            " 8   Year-Of-Publication  871393 non-null  float64\n",
            " 9   Publisher            871393 non-null  object \n",
            "dtypes: float64(1), int64(2), object(7)\n",
            "memory usage: 66.5+ MB\n"
          ]
        }
      ],
      "source": [
        "train.info()"
      ]
    },
    {
      "cell_type": "code",
      "execution_count": null,
      "metadata": {
        "colab": {
          "base_uri": "https://localhost:8080/"
        },
        "id": "tozX5XoPMO3o",
        "outputId": "d07509d8-0378-43ec-dac5-3ae66ecc9a64"
      },
      "outputs": [
        {
          "name": "stdout",
          "output_type": "stream",
          "text": [
            "0\n"
          ]
        }
      ],
      "source": [
        "duplicate = train.duplicated()\n",
        "print(duplicate.sum())\n"
      ]
    },
    {
      "cell_type": "code",
      "execution_count": null,
      "metadata": {
        "id": "ridn80XcMIYG"
      },
      "outputs": [],
      "source": [
        "#train.drop_duplicates(inplace=True)"
      ]
    },
    {
      "cell_type": "code",
      "execution_count": null,
      "metadata": {
        "id": "VBTBTko2APY0"
      },
      "outputs": [],
      "source": [
        "# retrieving age data between 5 to 90\n",
        "train.loc[(train['Age'] > 90) | (train['Age'] < 5), 'Age'] = np.nan\n",
        "test.loc[(test['Age'] > 90) | (test['Age'] < 5), 'Age'] = np.nan\n"
      ]
    },
    {
      "cell_type": "code",
      "execution_count": null,
      "metadata": {
        "id": "ArrWQ2SNBD90"
      },
      "outputs": [],
      "source": [
        "## Age 열의 결측값을 최빈값으로 채우기\n",
        "#train['Age'].fillna(train['Age'].mode()[0], inplace=True)\n",
        "#test['Age'].fillna(test['Age'].mode()[0], inplace=True)\n"
      ]
    },
    {
      "cell_type": "code",
      "execution_count": null,
      "metadata": {
        "id": "FEq54AbIBKz7"
      },
      "outputs": [],
      "source": [
        "train['Age'] = train['Age'].astype(int)\n",
        "test['Age'] = test['Age'].astype(int)\n",
        "train['Book-Rating'] = train['Book-Rating'].astype(int)"
      ]
    },
    {
      "cell_type": "code",
      "execution_count": null,
      "metadata": {
        "colab": {
          "base_uri": "https://localhost:8080/"
        },
        "id": "PICSVyIezXQj",
        "outputId": "61905b0a-615b-4da4-a86d-6f9a4b114a9a"
      },
      "outputs": [
        {
          "data": {
            "text/plain": [
              "0     548804\n",
              "8      76971\n",
              "10     60024\n",
              "7      55852\n",
              "9      50494\n",
              "5      38416\n",
              "6      26670\n",
              "4       6462\n",
              "3       4374\n",
              "2       2019\n",
              "1       1307\n",
              "Name: Book-Rating, dtype: int64"
            ]
          },
          "execution_count": 9,
          "metadata": {},
          "output_type": "execute_result"
        }
      ],
      "source": [
        "train['Book-Rating'].value_counts()"
      ]
    },
    {
      "cell_type": "code",
      "execution_count": null,
      "metadata": {
        "colab": {
          "base_uri": "https://localhost:8080/"
        },
        "id": "Tg6TfYbrvvIx",
        "outputId": "e97ff483-2ace-4976-a766-f1a90f85a714"
      },
      "outputs": [
        {
          "data": {
            "text/plain": [
              "toronto, ontario, canada         12267\n",
              "n/a, n/a, n/a                    11161\n",
              "chicago, illinois, usa            7214\n",
              "seattle, washington, usa          6967\n",
              "ottawa, ontario, canada           6915\n",
              "olympia, washington, usa          6723\n",
              "little canada, minnesota, usa     6458\n",
              "st. louis, missouri, usa          6385\n",
              "ft. stewart, georgia, usa         5819\n",
              "san diego, california, usa        5557\n",
              "Name: Location, dtype: int64"
            ]
          },
          "execution_count": 27,
          "metadata": {},
          "output_type": "execute_result"
        }
      ],
      "source": [
        "train['Location'].value_counts().head(10)"
      ]
    },
    {
      "cell_type": "code",
      "execution_count": null,
      "metadata": {
        "id": "3evHaOgo0iAs"
      },
      "outputs": [],
      "source": [
        "### lets create a function so that I can easily do it for all features\n",
        "def Random_value_imputation(feature):\n",
        "    random_sample=train[feature].dropna().sample(train[feature].isnull().sum())\n",
        "    random_sample.index=train[train[feature].isnull()].index\n",
        "    train.loc[train[feature].isnull(),feature]=random_sample"
      ]
    },
    {
      "cell_type": "code",
      "execution_count": null,
      "metadata": {
        "id": "wxr-lug41LJ0"
      },
      "outputs": [],
      "source": [
        "### lets create a function so that I can easily do it for all features\n",
        "def Random_value_imputation2(feature):\n",
        "    random_sample=test[feature].dropna().sample(test[feature].isnull().sum())\n",
        "    random_sample.index=test[test[feature].isnull()].index\n",
        "    test.loc[test[feature].isnull(),feature]=random_sample"
      ]
    },
    {
      "cell_type": "code",
      "execution_count": null,
      "metadata": {
        "id": "K_qdiwjE0mXc"
      },
      "outputs": [],
      "source": [
        "for col in train:\n",
        "    Random_value_imputation(col)"
      ]
    },
    {
      "cell_type": "code",
      "execution_count": null,
      "metadata": {
        "id": "GPu0bCHV1Qfr"
      },
      "outputs": [],
      "source": [
        "for col in test:\n",
        "    Random_value_imputation2(col)"
      ]
    },
    {
      "cell_type": "code",
      "execution_count": null,
      "metadata": {
        "colab": {
          "base_uri": "https://localhost:8080/"
        },
        "id": "cjuoRvlO03SE",
        "outputId": "ea280410-2e20-4274-dda0-6a693e3251a0"
      },
      "outputs": [
        {
          "output_type": "execute_result",
          "data": {
            "text/plain": [
              "ID                     0\n",
              "User-ID                0\n",
              "Book-ID                0\n",
              "Age                    0\n",
              "Book-Title             0\n",
              "Book-Author            0\n",
              "Year-Of-Publication    0\n",
              "Publisher              0\n",
              "Country                0\n",
              "dtype: int64"
            ]
          },
          "metadata": {},
          "execution_count": 47
        }
      ],
      "source": [
        "test.isnull().sum()"
      ]
    },
    {
      "cell_type": "code",
      "execution_count": null,
      "metadata": {
        "colab": {
          "base_uri": "https://localhost:8080/"
        },
        "id": "78Q_1axb2CHc",
        "outputId": "0bf35c38-8868-4645-ad39-a2a678d0dcdc"
      },
      "outputs": [
        {
          "data": {
            "text/plain": [
              "['Book-Rating', 'Age', 'Year-Of-Publication']"
            ]
          },
          "execution_count": 107,
          "metadata": {},
          "output_type": "execute_result"
        }
      ],
      "source": [
        "num_features=[col for col in train.columns if train[col].dtype!='O']\n",
        "num_features"
      ]
    },
    {
      "cell_type": "code",
      "execution_count": null,
      "metadata": {
        "colab": {
          "base_uri": "https://localhost:8080/",
          "height": 206
        },
        "id": "H491Ua1A2S1j",
        "outputId": "01074f71-a672-4f01-a913-414be75a100b"
      },
      "outputs": [
        {
          "data": {
            "text/html": [
              "\n",
              "  <div id=\"df-6085f09a-3dfa-432e-83d0-06cad5eb1a78\">\n",
              "    <div class=\"colab-df-container\">\n",
              "      <div>\n",
              "<style scoped>\n",
              "    .dataframe tbody tr th:only-of-type {\n",
              "        vertical-align: middle;\n",
              "    }\n",
              "\n",
              "    .dataframe tbody tr th {\n",
              "        vertical-align: top;\n",
              "    }\n",
              "\n",
              "    .dataframe thead th {\n",
              "        text-align: right;\n",
              "    }\n",
              "</style>\n",
              "<table border=\"1\" class=\"dataframe\">\n",
              "  <thead>\n",
              "    <tr style=\"text-align: right;\">\n",
              "      <th></th>\n",
              "      <th>Book-Rating</th>\n",
              "      <th>Age</th>\n",
              "      <th>Year-Of-Publication</th>\n",
              "    </tr>\n",
              "  </thead>\n",
              "  <tbody>\n",
              "    <tr>\n",
              "      <th>0</th>\n",
              "      <td>8</td>\n",
              "      <td>23</td>\n",
              "      <td>2001.0</td>\n",
              "    </tr>\n",
              "    <tr>\n",
              "      <th>1</th>\n",
              "      <td>8</td>\n",
              "      <td>23</td>\n",
              "      <td>1981.0</td>\n",
              "    </tr>\n",
              "    <tr>\n",
              "      <th>2</th>\n",
              "      <td>0</td>\n",
              "      <td>23</td>\n",
              "      <td>1981.0</td>\n",
              "    </tr>\n",
              "    <tr>\n",
              "      <th>3</th>\n",
              "      <td>0</td>\n",
              "      <td>23</td>\n",
              "      <td>1991.0</td>\n",
              "    </tr>\n",
              "    <tr>\n",
              "      <th>4</th>\n",
              "      <td>8</td>\n",
              "      <td>23</td>\n",
              "      <td>1989.0</td>\n",
              "    </tr>\n",
              "  </tbody>\n",
              "</table>\n",
              "</div>\n",
              "      <button class=\"colab-df-convert\" onclick=\"convertToInteractive('df-6085f09a-3dfa-432e-83d0-06cad5eb1a78')\"\n",
              "              title=\"Convert this dataframe to an interactive table.\"\n",
              "              style=\"display:none;\">\n",
              "        \n",
              "  <svg xmlns=\"http://www.w3.org/2000/svg\" height=\"24px\"viewBox=\"0 0 24 24\"\n",
              "       width=\"24px\">\n",
              "    <path d=\"M0 0h24v24H0V0z\" fill=\"none\"/>\n",
              "    <path d=\"M18.56 5.44l.94 2.06.94-2.06 2.06-.94-2.06-.94-.94-2.06-.94 2.06-2.06.94zm-11 1L8.5 8.5l.94-2.06 2.06-.94-2.06-.94L8.5 2.5l-.94 2.06-2.06.94zm10 10l.94 2.06.94-2.06 2.06-.94-2.06-.94-.94-2.06-.94 2.06-2.06.94z\"/><path d=\"M17.41 7.96l-1.37-1.37c-.4-.4-.92-.59-1.43-.59-.52 0-1.04.2-1.43.59L10.3 9.45l-7.72 7.72c-.78.78-.78 2.05 0 2.83L4 21.41c.39.39.9.59 1.41.59.51 0 1.02-.2 1.41-.59l7.78-7.78 2.81-2.81c.8-.78.8-2.07 0-2.86zM5.41 20L4 18.59l7.72-7.72 1.47 1.35L5.41 20z\"/>\n",
              "  </svg>\n",
              "      </button>\n",
              "      \n",
              "  <style>\n",
              "    .colab-df-container {\n",
              "      display:flex;\n",
              "      flex-wrap:wrap;\n",
              "      gap: 12px;\n",
              "    }\n",
              "\n",
              "    .colab-df-convert {\n",
              "      background-color: #E8F0FE;\n",
              "      border: none;\n",
              "      border-radius: 50%;\n",
              "      cursor: pointer;\n",
              "      display: none;\n",
              "      fill: #1967D2;\n",
              "      height: 32px;\n",
              "      padding: 0 0 0 0;\n",
              "      width: 32px;\n",
              "    }\n",
              "\n",
              "    .colab-df-convert:hover {\n",
              "      background-color: #E2EBFA;\n",
              "      box-shadow: 0px 1px 2px rgba(60, 64, 67, 0.3), 0px 1px 3px 1px rgba(60, 64, 67, 0.15);\n",
              "      fill: #174EA6;\n",
              "    }\n",
              "\n",
              "    [theme=dark] .colab-df-convert {\n",
              "      background-color: #3B4455;\n",
              "      fill: #D2E3FC;\n",
              "    }\n",
              "\n",
              "    [theme=dark] .colab-df-convert:hover {\n",
              "      background-color: #434B5C;\n",
              "      box-shadow: 0px 1px 3px 1px rgba(0, 0, 0, 0.15);\n",
              "      filter: drop-shadow(0px 1px 2px rgba(0, 0, 0, 0.3));\n",
              "      fill: #FFFFFF;\n",
              "    }\n",
              "  </style>\n",
              "\n",
              "      <script>\n",
              "        const buttonEl =\n",
              "          document.querySelector('#df-6085f09a-3dfa-432e-83d0-06cad5eb1a78 button.colab-df-convert');\n",
              "        buttonEl.style.display =\n",
              "          google.colab.kernel.accessAllowed ? 'block' : 'none';\n",
              "\n",
              "        async function convertToInteractive(key) {\n",
              "          const element = document.querySelector('#df-6085f09a-3dfa-432e-83d0-06cad5eb1a78');\n",
              "          const dataTable =\n",
              "            await google.colab.kernel.invokeFunction('convertToInteractive',\n",
              "                                                     [key], {});\n",
              "          if (!dataTable) return;\n",
              "\n",
              "          const docLinkHtml = 'Like what you see? Visit the ' +\n",
              "            '<a target=\"_blank\" href=https://colab.research.google.com/notebooks/data_table.ipynb>data table notebook</a>'\n",
              "            + ' to learn more about interactive tables.';\n",
              "          element.innerHTML = '';\n",
              "          dataTable['output_type'] = 'display_data';\n",
              "          await google.colab.output.renderOutput(dataTable, element);\n",
              "          const docLink = document.createElement('div');\n",
              "          docLink.innerHTML = docLinkHtml;\n",
              "          element.appendChild(docLink);\n",
              "        }\n",
              "      </script>\n",
              "    </div>\n",
              "  </div>\n",
              "  "
            ],
            "text/plain": [
              "   Book-Rating  Age  Year-Of-Publication\n",
              "0            8   23               2001.0\n",
              "1            8   23               1981.0\n",
              "2            0   23               1981.0\n",
              "3            0   23               1991.0\n",
              "4            8   23               1989.0"
            ]
          },
          "execution_count": 108,
          "metadata": {},
          "output_type": "execute_result"
        }
      ],
      "source": [
        "num_data = train[num_features]\n",
        "num_data.head()"
      ]
    },
    {
      "cell_type": "code",
      "execution_count": null,
      "metadata": {
        "colab": {
          "base_uri": "https://localhost:8080/"
        },
        "id": "yiJYXk8d2JQ8",
        "outputId": "bb450f0a-6072-47b5-8a2f-08d8c6e5689c"
      },
      "outputs": [
        {
          "data": {
            "text/plain": [
              "['ID',\n",
              " 'User-ID',\n",
              " 'Book-ID',\n",
              " 'Location',\n",
              " 'Book-Title',\n",
              " 'Book-Author',\n",
              " 'Publisher']"
            ]
          },
          "execution_count": 109,
          "metadata": {},
          "output_type": "execute_result"
        }
      ],
      "source": [
        "cat_features=[col for col in train.columns if train[col].dtype=='O']\n",
        "cat_features"
      ]
    },
    {
      "cell_type": "code",
      "execution_count": null,
      "metadata": {
        "colab": {
          "base_uri": "https://localhost:8080/",
          "height": 337
        },
        "id": "6COM5MkN2Ubk",
        "outputId": "881f582e-fe40-433f-e8ff-d12f4e06fec5"
      },
      "outputs": [
        {
          "data": {
            "text/html": [
              "\n",
              "  <div id=\"df-fc78f551-bad1-4877-85e9-54ff41e04cf7\">\n",
              "    <div class=\"colab-df-container\">\n",
              "      <div>\n",
              "<style scoped>\n",
              "    .dataframe tbody tr th:only-of-type {\n",
              "        vertical-align: middle;\n",
              "    }\n",
              "\n",
              "    .dataframe tbody tr th {\n",
              "        vertical-align: top;\n",
              "    }\n",
              "\n",
              "    .dataframe thead th {\n",
              "        text-align: right;\n",
              "    }\n",
              "</style>\n",
              "<table border=\"1\" class=\"dataframe\">\n",
              "  <thead>\n",
              "    <tr style=\"text-align: right;\">\n",
              "      <th></th>\n",
              "      <th>ID</th>\n",
              "      <th>User-ID</th>\n",
              "      <th>Book-ID</th>\n",
              "      <th>Location</th>\n",
              "      <th>Book-Title</th>\n",
              "      <th>Book-Author</th>\n",
              "      <th>Publisher</th>\n",
              "    </tr>\n",
              "  </thead>\n",
              "  <tbody>\n",
              "    <tr>\n",
              "      <th>0</th>\n",
              "      <td>TRAIN_000000</td>\n",
              "      <td>USER_00000</td>\n",
              "      <td>BOOK_044368</td>\n",
              "      <td>sackville, new brunswick, canada</td>\n",
              "      <td>Road Taken</td>\n",
              "      <td>Rona Jaffe</td>\n",
              "      <td>Mira</td>\n",
              "    </tr>\n",
              "    <tr>\n",
              "      <th>1</th>\n",
              "      <td>TRAIN_000001</td>\n",
              "      <td>USER_00000</td>\n",
              "      <td>BOOK_081205</td>\n",
              "      <td>sackville, new brunswick, canada</td>\n",
              "      <td>Macbeth (New Penguin Shakespeare)</td>\n",
              "      <td>William Shakespeare</td>\n",
              "      <td>Penguin Books</td>\n",
              "    </tr>\n",
              "    <tr>\n",
              "      <th>2</th>\n",
              "      <td>TRAIN_000002</td>\n",
              "      <td>USER_00000</td>\n",
              "      <td>BOOK_086781</td>\n",
              "      <td>sackville, new brunswick, canada</td>\n",
              "      <td>Waverley (Penguin English Library)</td>\n",
              "      <td>Walter Scott</td>\n",
              "      <td>Penguin Books</td>\n",
              "    </tr>\n",
              "    <tr>\n",
              "      <th>3</th>\n",
              "      <td>TRAIN_000003</td>\n",
              "      <td>USER_00000</td>\n",
              "      <td>BOOK_098622</td>\n",
              "      <td>sackville, new brunswick, canada</td>\n",
              "      <td>Mother Earth Father Sky</td>\n",
              "      <td>Sue Harrison</td>\n",
              "      <td>Avon</td>\n",
              "    </tr>\n",
              "    <tr>\n",
              "      <th>4</th>\n",
              "      <td>TRAIN_000004</td>\n",
              "      <td>USER_00000</td>\n",
              "      <td>BOOK_180810</td>\n",
              "      <td>sackville, new brunswick, canada</td>\n",
              "      <td>She Who Remembers</td>\n",
              "      <td>Linda Lay Shuler</td>\n",
              "      <td>Signet Book</td>\n",
              "    </tr>\n",
              "  </tbody>\n",
              "</table>\n",
              "</div>\n",
              "      <button class=\"colab-df-convert\" onclick=\"convertToInteractive('df-fc78f551-bad1-4877-85e9-54ff41e04cf7')\"\n",
              "              title=\"Convert this dataframe to an interactive table.\"\n",
              "              style=\"display:none;\">\n",
              "        \n",
              "  <svg xmlns=\"http://www.w3.org/2000/svg\" height=\"24px\"viewBox=\"0 0 24 24\"\n",
              "       width=\"24px\">\n",
              "    <path d=\"M0 0h24v24H0V0z\" fill=\"none\"/>\n",
              "    <path d=\"M18.56 5.44l.94 2.06.94-2.06 2.06-.94-2.06-.94-.94-2.06-.94 2.06-2.06.94zm-11 1L8.5 8.5l.94-2.06 2.06-.94-2.06-.94L8.5 2.5l-.94 2.06-2.06.94zm10 10l.94 2.06.94-2.06 2.06-.94-2.06-.94-.94-2.06-.94 2.06-2.06.94z\"/><path d=\"M17.41 7.96l-1.37-1.37c-.4-.4-.92-.59-1.43-.59-.52 0-1.04.2-1.43.59L10.3 9.45l-7.72 7.72c-.78.78-.78 2.05 0 2.83L4 21.41c.39.39.9.59 1.41.59.51 0 1.02-.2 1.41-.59l7.78-7.78 2.81-2.81c.8-.78.8-2.07 0-2.86zM5.41 20L4 18.59l7.72-7.72 1.47 1.35L5.41 20z\"/>\n",
              "  </svg>\n",
              "      </button>\n",
              "      \n",
              "  <style>\n",
              "    .colab-df-container {\n",
              "      display:flex;\n",
              "      flex-wrap:wrap;\n",
              "      gap: 12px;\n",
              "    }\n",
              "\n",
              "    .colab-df-convert {\n",
              "      background-color: #E8F0FE;\n",
              "      border: none;\n",
              "      border-radius: 50%;\n",
              "      cursor: pointer;\n",
              "      display: none;\n",
              "      fill: #1967D2;\n",
              "      height: 32px;\n",
              "      padding: 0 0 0 0;\n",
              "      width: 32px;\n",
              "    }\n",
              "\n",
              "    .colab-df-convert:hover {\n",
              "      background-color: #E2EBFA;\n",
              "      box-shadow: 0px 1px 2px rgba(60, 64, 67, 0.3), 0px 1px 3px 1px rgba(60, 64, 67, 0.15);\n",
              "      fill: #174EA6;\n",
              "    }\n",
              "\n",
              "    [theme=dark] .colab-df-convert {\n",
              "      background-color: #3B4455;\n",
              "      fill: #D2E3FC;\n",
              "    }\n",
              "\n",
              "    [theme=dark] .colab-df-convert:hover {\n",
              "      background-color: #434B5C;\n",
              "      box-shadow: 0px 1px 3px 1px rgba(0, 0, 0, 0.15);\n",
              "      filter: drop-shadow(0px 1px 2px rgba(0, 0, 0, 0.3));\n",
              "      fill: #FFFFFF;\n",
              "    }\n",
              "  </style>\n",
              "\n",
              "      <script>\n",
              "        const buttonEl =\n",
              "          document.querySelector('#df-fc78f551-bad1-4877-85e9-54ff41e04cf7 button.colab-df-convert');\n",
              "        buttonEl.style.display =\n",
              "          google.colab.kernel.accessAllowed ? 'block' : 'none';\n",
              "\n",
              "        async function convertToInteractive(key) {\n",
              "          const element = document.querySelector('#df-fc78f551-bad1-4877-85e9-54ff41e04cf7');\n",
              "          const dataTable =\n",
              "            await google.colab.kernel.invokeFunction('convertToInteractive',\n",
              "                                                     [key], {});\n",
              "          if (!dataTable) return;\n",
              "\n",
              "          const docLinkHtml = 'Like what you see? Visit the ' +\n",
              "            '<a target=\"_blank\" href=https://colab.research.google.com/notebooks/data_table.ipynb>data table notebook</a>'\n",
              "            + ' to learn more about interactive tables.';\n",
              "          element.innerHTML = '';\n",
              "          dataTable['output_type'] = 'display_data';\n",
              "          await google.colab.output.renderOutput(dataTable, element);\n",
              "          const docLink = document.createElement('div');\n",
              "          docLink.innerHTML = docLinkHtml;\n",
              "          element.appendChild(docLink);\n",
              "        }\n",
              "      </script>\n",
              "    </div>\n",
              "  </div>\n",
              "  "
            ],
            "text/plain": [
              "             ID     User-ID      Book-ID                          Location  \\\n",
              "0  TRAIN_000000  USER_00000  BOOK_044368  sackville, new brunswick, canada   \n",
              "1  TRAIN_000001  USER_00000  BOOK_081205  sackville, new brunswick, canada   \n",
              "2  TRAIN_000002  USER_00000  BOOK_086781  sackville, new brunswick, canada   \n",
              "3  TRAIN_000003  USER_00000  BOOK_098622  sackville, new brunswick, canada   \n",
              "4  TRAIN_000004  USER_00000  BOOK_180810  sackville, new brunswick, canada   \n",
              "\n",
              "                           Book-Title          Book-Author      Publisher  \n",
              "0                          Road Taken           Rona Jaffe           Mira  \n",
              "1   Macbeth (New Penguin Shakespeare)  William Shakespeare  Penguin Books  \n",
              "2  Waverley (Penguin English Library)         Walter Scott  Penguin Books  \n",
              "3             Mother Earth Father Sky         Sue Harrison           Avon  \n",
              "4                   She Who Remembers     Linda Lay Shuler    Signet Book  "
            ]
          },
          "execution_count": 110,
          "metadata": {},
          "output_type": "execute_result"
        }
      ],
      "source": [
        "categorical=train[cat_features]\n",
        "categorical.head()"
      ]
    },
    {
      "cell_type": "code",
      "execution_count": null,
      "metadata": {
        "id": "0xAv25i_16as"
      },
      "outputs": [],
      "source": [
        "def outlier_thresholds(dataframe, variable):\n",
        "    quartile1 = dataframe[variable].quantile(0.10)\n",
        "    quartile3 = dataframe[variable].quantile(0.90)\n",
        "    interquantile_range = quartile3 - quartile1\n",
        "    up_limit = quartile3 + 1.5 * interquantile_range\n",
        "    low_limit = quartile1 - 1.5 * interquantile_range\n",
        "    return low_limit, up_limit"
      ]
    },
    {
      "cell_type": "code",
      "execution_count": null,
      "metadata": {
        "id": "iwaD5oJZ18LU"
      },
      "outputs": [],
      "source": [
        "def has_outliers(dataframe, variable):\n",
        "    low_limit, up_limit = outlier_thresholds(dataframe, variable)\n",
        "    if dataframe[(dataframe[variable] < low_limit) | (dataframe[variable] > up_limit)].any(axis=None):\n",
        "        print(variable, \"yes\")\n",
        "    print(variable, \"no\")"
      ]
    },
    {
      "cell_type": "code",
      "execution_count": null,
      "metadata": {
        "colab": {
          "base_uri": "https://localhost:8080/"
        },
        "id": "odGmR5HV1_L7",
        "outputId": "fed82373-6a13-4cc8-d129-064851785e51"
      },
      "outputs": [
        {
          "name": "stdout",
          "output_type": "stream",
          "text": [
            "Book-Rating no\n",
            "Age no\n",
            "Year-Of-Publication yes\n",
            "Year-Of-Publication no\n"
          ]
        }
      ],
      "source": [
        "for col in num_data.columns:\n",
        "    has_outliers(num_data, col)"
      ]
    },
    {
      "cell_type": "code",
      "execution_count": null,
      "metadata": {
        "id": "1j0luECN2gbV"
      },
      "outputs": [],
      "source": [
        "plt.figure(figsize=(22,18))\n",
        "for i,col in enumerate(num_data.columns):\n",
        "    plt.subplot(4,9,i+1)\n",
        "    sns.boxplot(num_data[col])"
      ]
    },
    {
      "cell_type": "code",
      "execution_count": null,
      "metadata": {
        "id": "MHEL9dB22oz7"
      },
      "outputs": [],
      "source": [
        "## function to get ride of qutliers\n",
        "def replace_with_thresholds(dataframe, numeric_columns):\n",
        "    for variable in numeric_columns:\n",
        "        low_limit, up_limit = outlier_thresholds(dataframe, variable)\n",
        "        dataframe.loc[(dataframe[variable] < low_limit), variable] = low_limit\n",
        "        dataframe.loc[(dataframe[variable] > up_limit), variable] = up_limit"
      ]
    },
    {
      "cell_type": "code",
      "execution_count": null,
      "metadata": {
        "id": "3jQ7-aps2sO7"
      },
      "outputs": [],
      "source": [
        "replace_with_thresholds(num_data, num_data.columns)"
      ]
    },
    {
      "cell_type": "code",
      "execution_count": null,
      "metadata": {
        "colab": {
          "base_uri": "https://localhost:8080/"
        },
        "id": "ytdQetBS2uUV",
        "outputId": "a050ce2b-2ab1-475b-f09c-fced7182d30f"
      },
      "outputs": [
        {
          "name": "stdout",
          "output_type": "stream",
          "text": [
            "Book-Rating no\n",
            "Age no\n",
            "Year-Of-Publication no\n"
          ]
        }
      ],
      "source": [
        "for col in num_data.columns:\n",
        "    has_outliers(num_data, col)"
      ]
    },
    {
      "cell_type": "code",
      "execution_count": null,
      "metadata": {
        "id": "Bbpl-bCz2uPa"
      },
      "outputs": [],
      "source": [
        "plt.figure(figsize=(22,18))\n",
        "for i,col in enumerate(num_data.columns):\n",
        "    plt.subplot(4,9,i+1)\n",
        "    sns.boxplot(num_data[col])"
      ]
    },
    {
      "cell_type": "code",
      "execution_count": null,
      "metadata": {
        "colab": {
          "base_uri": "https://localhost:8080/"
        },
        "id": "btYq02Kj3ABs",
        "outputId": "53d44d64-4667-4863-acea-3cdbf10f306d"
      },
      "outputs": [
        {
          "data": {
            "text/plain": [
              "Stephen King           8467\n",
              "Nora Roberts           6934\n",
              "John Grisham           5283\n",
              "James Patterson        5020\n",
              "Mary Higgins Clark     3983\n",
              "                       ... \n",
              "Cyrinda Foxe-Tyler        1\n",
              "Matt Bloom                1\n",
              "Cassie Kendall            1\n",
              "Birney, M.D. Dibble       1\n",
              "Stephen Griffith          1\n",
              "Name: Book-Author, Length: 92635, dtype: int64"
            ]
          },
          "execution_count": 45,
          "metadata": {},
          "output_type": "execute_result"
        }
      ],
      "source": [
        "categorical['Book-Author'].value_counts()"
      ]
    },
    {
      "cell_type": "code",
      "execution_count": null,
      "metadata": {
        "id": "QRVXvruR3zuE"
      },
      "outputs": [],
      "source": [
        "from wordcloud import WordCloud\n",
        "plt.subplots(figsize=(25,15))\n",
        "wordcloud = WordCloud(\n",
        "                          background_color='black',\n",
        "                          width=1920,\n",
        "                          height=1080\n",
        "                         ).generate(\" \".join(train['Book-Author']))\n",
        "plt.imshow(wordcloud)\n",
        "plt.axis('off')\n",
        "plt.show()"
      ]
    },
    {
      "cell_type": "code",
      "execution_count": null,
      "metadata": {
        "id": "YDB2E-4S5Mu0"
      },
      "outputs": [],
      "source": [
        "train[\"Book-Rating\"].value_counts().plot.pie(autopct = \"%1.1f%%\")"
      ]
    },
    {
      "cell_type": "code",
      "execution_count": null,
      "metadata": {
        "id": "fJEFsOVb4mG7"
      },
      "outputs": [],
      "source": [
        "import plotly.express as px\n",
        "\n",
        "def violin(col):\n",
        "    fig = px.violin(train, y=col, x=\"Book-Rating\", color=\"Book-Rating\", box=True , template = 'plotly_dark')\n",
        "    return fig.show()\n",
        "\n",
        "def scatters(col1,col2):\n",
        "    fig = px.scatter(train, x=col1, y=col2, color=\"Book-Rating\" ,template = 'plotly_dark')\n",
        "    return fig.show()\n",
        "\n",
        "def kde_plot(feature):\n",
        "    grid = sns.FacetGrid(train, hue=\"Book-Rating\",aspect=2)\n",
        "    grid.map(sns.kdeplot, feature)\n",
        "    grid.add_legend()"
      ]
    },
    {
      "cell_type": "code",
      "execution_count": null,
      "metadata": {
        "id": "93-EaA3s4n8j"
      },
      "outputs": [],
      "source": [
        "kde_plot('Age')"
      ]
    },
    {
      "cell_type": "code",
      "execution_count": null,
      "metadata": {
        "id": "jJypO6Ua6TAS"
      },
      "outputs": [],
      "source": [
        "scatters('Year-Of-Publication', 'Age')"
      ]
    },
    {
      "cell_type": "code",
      "execution_count": null,
      "metadata": {
        "id": "_hREX2FHJNlZ"
      },
      "outputs": [],
      "source": [
        "merged_df = pd.concat([num_data, categorical], axis=1)"
      ]
    },
    {
      "cell_type": "code",
      "execution_count": null,
      "metadata": {
        "id": "EoPaa3767Voi"
      },
      "outputs": [],
      "source": [
        "train = train[(train['Year-Of-Publication'] >= 1950) | (train['Year-Of-Publication'] == -1)]"
      ]
    },
    {
      "cell_type": "code",
      "source": [
        "def extract_country(location):\n",
        "    # 구분자로 분할하여 마지막 요소 추출\n",
        "    parts = location.split(',')\n",
        "    country = parts[-1].strip()  # 공백 제거\n",
        "    return country\n",
        "\n",
        "# 'Location' 열에서 나라 정보 추출\n",
        "train['Country'] = train['Location'].apply(extract_country)\n",
        "test['Country'] = test['Location'].apply(extract_country)\n"
      ],
      "metadata": {
        "id": "yWw8n89RvFV4"
      },
      "execution_count": null,
      "outputs": []
    },
    {
      "cell_type": "code",
      "source": [
        "#train = train.drop('Location', axis=1)\n",
        "#test = test.drop('Location', axis=1)\n"
      ],
      "metadata": {
        "id": "e81N8cZLxD9W"
      },
      "execution_count": null,
      "outputs": []
    },
    {
      "cell_type": "code",
      "source": [
        "train['Country'] = train['Country'].replace('', np.nan)\n",
        "test['Country'] = test['Country'].replace('', np.nan)\n"
      ],
      "metadata": {
        "id": "j4rfuSsMy1hd"
      },
      "execution_count": null,
      "outputs": []
    },
    {
      "cell_type": "code",
      "source": [
        "train['Country'].value_counts()"
      ],
      "metadata": {
        "colab": {
          "base_uri": "https://localhost:8080/"
        },
        "id": "PtYZbteMwltB",
        "outputId": "e66a087a-8161-48d6-b1c4-4290e38f15a4"
      },
      "execution_count": null,
      "outputs": [
        {
          "output_type": "execute_result",
          "data": {
            "text/plain": [
              "usa                 630043\n",
              "canada               78571\n",
              "united kingdom       27050\n",
              "germany              23471\n",
              "australia            15270\n",
              "                     ...  \n",
              "palau                    1\n",
              "galiza neghra            1\n",
              "macedonia                1\n",
              "prince william           1\n",
              "richmond country         1\n",
              "Name: Country, Length: 243, dtype: int64"
            ]
          },
          "metadata": {},
          "execution_count": 44
        }
      ]
    },
    {
      "cell_type": "code",
      "source": [
        "from sklearn.feature_extraction.text import CountVectorizer\n",
        "from sklearn.metrics.pairwise import cosine_similarity"
      ],
      "metadata": {
        "id": "EJNBWBrd4L-U"
      },
      "execution_count": null,
      "outputs": []
    },
    {
      "cell_type": "code",
      "source": [
        "# 책의 제목과 저자를 결합한 새로운 컬럼 생성\n",
        "train['title_author'] = train['Book-Title'] + ' by ' + train['Book-Author']\n",
        "test['title_author'] = test['Book-Title'] + ' by ' + test['Book-Author']"
      ],
      "metadata": {
        "id": "suNjuR4r4ZRl"
      },
      "execution_count": null,
      "outputs": []
    },
    {
      "cell_type": "code",
      "source": [
        "#사용자가 평점을 매긴 총 아이템 수\n",
        "train['Total_Items_Rated_By_User'] = train.groupby('User-ID')['Book-Rating'].transform('count')"
      ],
      "metadata": {
        "id": "xHvHw4eh8cp8"
      },
      "execution_count": null,
      "outputs": []
    },
    {
      "cell_type": "code",
      "source": [
        "#특정 아이템에 대해 매긴 평점과 해당 아이템의 평균 평점의 차이:\n",
        "train['Item_Rating_Difference'] = train.groupby('Book-ID')['Book-Rating'].transform(lambda x: x - x.mean())"
      ],
      "metadata": {
        "id": "1OkjEfye8gr8"
      },
      "execution_count": null,
      "outputs": []
    },
    {
      "cell_type": "code",
      "source": [
        "#사용자의 평균 평점에 비해 해당 아이템의 평점 차이:\n",
        "train['User_Item_Rating_Difference'] = train.groupby('User-ID')['Book-Rating'].transform(lambda x: x - x.mean())"
      ],
      "metadata": {
        "id": "oKHwPHV38ktz"
      },
      "execution_count": null,
      "outputs": []
    },
    {
      "cell_type": "code",
      "source": [
        "train"
      ],
      "metadata": {
        "colab": {
          "base_uri": "https://localhost:8080/",
          "height": 1000
        },
        "id": "gOmDun7Y8rFL",
        "outputId": "344fa7a8-0694-47ec-d5ea-9469021e8cd4"
      },
      "execution_count": null,
      "outputs": [
        {
          "output_type": "execute_result",
          "data": {
            "text/plain": [
              "                  ID     User-ID      Book-ID  Book-Rating   Age  \\\n",
              "0       TRAIN_000000  USER_00000  BOOK_044368            8  23.0   \n",
              "1       TRAIN_000001  USER_00000  BOOK_081205            8  23.0   \n",
              "2       TRAIN_000002  USER_00000  BOOK_086781            0  23.0   \n",
              "3       TRAIN_000003  USER_00000  BOOK_098622            0  23.0   \n",
              "4       TRAIN_000004  USER_00000  BOOK_180810            8  23.0   \n",
              "...              ...         ...          ...          ...   ...   \n",
              "871388  TRAIN_871388  USER_92096  BOOK_081138            0  34.0   \n",
              "871389  TRAIN_871389  USER_92097  BOOK_258124            0  35.0   \n",
              "871390  TRAIN_871390  USER_92098  BOOK_071848            0  45.0   \n",
              "871391  TRAIN_871391  USER_92099  BOOK_252599            8  43.0   \n",
              "871392  TRAIN_871392  USER_92100  BOOK_130798            0  35.0   \n",
              "\n",
              "                                     Location  \\\n",
              "0            sackville, new brunswick, canada   \n",
              "1            sackville, new brunswick, canada   \n",
              "2            sackville, new brunswick, canada   \n",
              "3            sackville, new brunswick, canada   \n",
              "4            sackville, new brunswick, canada   \n",
              "...                                       ...   \n",
              "871388            minneapolis, minnesota, usa   \n",
              "871389                     temple, texas, usa   \n",
              "871390                ottawa, ontario, canada   \n",
              "871391            maple grove, minnesota, usa   \n",
              "871392  castiglion fiorentino, toscana, italy   \n",
              "\n",
              "                                               Book-Title  \\\n",
              "0                                              Road Taken   \n",
              "1                       Macbeth (New Penguin Shakespeare)   \n",
              "2                      Waverley (Penguin English Library)   \n",
              "3                                 Mother Earth Father Sky   \n",
              "4                                       She Who Remembers   \n",
              "...                                                   ...   \n",
              "871388  Healing Words: The Power of Prayer and the Pra...   \n",
              "871389  The Salmon of Doubt: Hitchhiking the Galaxy On...   \n",
              "871390  Harry Potter and the Prisoner of Azkaban (Book 3)   \n",
              "871391            Heartbreak Hill: Anatomy of a Ryder Cup   \n",
              "871392  The Coffin Quilt: The Feud between the Hatfiel...   \n",
              "\n",
              "                Book-Author  Year-Of-Publication                  Publisher  \\\n",
              "0                Rona Jaffe               2001.0                       Mira   \n",
              "1       William Shakespeare               1981.0              Penguin Books   \n",
              "2              Walter Scott               1981.0              Penguin Books   \n",
              "3              Sue Harrison               1991.0                       Avon   \n",
              "4          Linda Lay Shuler               1989.0                Signet Book   \n",
              "...                     ...                  ...                        ...   \n",
              "871388         Larry Dossey               1993.0              Harpercollins   \n",
              "871389        DOUGLAS ADAMS               2002.0                    Harmony   \n",
              "871390        J. K. Rowling               2000.0            Thorndike Press   \n",
              "871391        Tim Rosaforte               1996.0              St Martins Pr   \n",
              "871392          Ann Rinaldi               1999.0  Harcourt Children's Books   \n",
              "\n",
              "       Country                                       title_author  \\\n",
              "0       canada                           Road Taken by Rona Jaffe   \n",
              "1       canada  Macbeth (New Penguin Shakespeare) by William S...   \n",
              "2       canada  Waverley (Penguin English Library) by Walter S...   \n",
              "3       canada            Mother Earth Father Sky by Sue Harrison   \n",
              "4       canada              She Who Remembers by Linda Lay Shuler   \n",
              "...        ...                                                ...   \n",
              "871388     usa  Healing Words: The Power of Prayer and the Pra...   \n",
              "871389     usa  The Salmon of Doubt: Hitchhiking the Galaxy On...   \n",
              "871390  canada  Harry Potter and the Prisoner of Azkaban (Book...   \n",
              "871391     usa  Heartbreak Hill: Anatomy of a Ryder Cup by Tim...   \n",
              "871392   italy  The Coffin Quilt: The Feud between the Hatfiel...   \n",
              "\n",
              "        Total_Items_Rated_By_User  Item_Rating_Difference  \\\n",
              "0                               8                5.571429   \n",
              "1                               8                4.000000   \n",
              "2                               8                0.000000   \n",
              "3                               8               -3.086957   \n",
              "4                               8                6.301887   \n",
              "...                           ...                     ...   \n",
              "871388                          1                0.000000   \n",
              "871389                          1               -3.571429   \n",
              "871390                          1               -4.600000   \n",
              "871391                          1                4.000000   \n",
              "871392                          1                0.000000   \n",
              "\n",
              "        User_Item_Rating_Difference  \n",
              "0                              3.25  \n",
              "1                              3.25  \n",
              "2                             -4.75  \n",
              "3                             -4.75  \n",
              "4                              3.25  \n",
              "...                             ...  \n",
              "871388                         0.00  \n",
              "871389                         0.00  \n",
              "871390                         0.00  \n",
              "871391                         0.00  \n",
              "871392                         0.00  \n",
              "\n",
              "[870762 rows x 15 columns]"
            ],
            "text/html": [
              "\n",
              "  <div id=\"df-f546a3cf-3d08-42e6-b006-ff84e944e9f7\">\n",
              "    <div class=\"colab-df-container\">\n",
              "      <div>\n",
              "<style scoped>\n",
              "    .dataframe tbody tr th:only-of-type {\n",
              "        vertical-align: middle;\n",
              "    }\n",
              "\n",
              "    .dataframe tbody tr th {\n",
              "        vertical-align: top;\n",
              "    }\n",
              "\n",
              "    .dataframe thead th {\n",
              "        text-align: right;\n",
              "    }\n",
              "</style>\n",
              "<table border=\"1\" class=\"dataframe\">\n",
              "  <thead>\n",
              "    <tr style=\"text-align: right;\">\n",
              "      <th></th>\n",
              "      <th>ID</th>\n",
              "      <th>User-ID</th>\n",
              "      <th>Book-ID</th>\n",
              "      <th>Book-Rating</th>\n",
              "      <th>Age</th>\n",
              "      <th>Location</th>\n",
              "      <th>Book-Title</th>\n",
              "      <th>Book-Author</th>\n",
              "      <th>Year-Of-Publication</th>\n",
              "      <th>Publisher</th>\n",
              "      <th>Country</th>\n",
              "      <th>title_author</th>\n",
              "      <th>Total_Items_Rated_By_User</th>\n",
              "      <th>Item_Rating_Difference</th>\n",
              "      <th>User_Item_Rating_Difference</th>\n",
              "    </tr>\n",
              "  </thead>\n",
              "  <tbody>\n",
              "    <tr>\n",
              "      <th>0</th>\n",
              "      <td>TRAIN_000000</td>\n",
              "      <td>USER_00000</td>\n",
              "      <td>BOOK_044368</td>\n",
              "      <td>8</td>\n",
              "      <td>23.0</td>\n",
              "      <td>sackville, new brunswick, canada</td>\n",
              "      <td>Road Taken</td>\n",
              "      <td>Rona Jaffe</td>\n",
              "      <td>2001.0</td>\n",
              "      <td>Mira</td>\n",
              "      <td>canada</td>\n",
              "      <td>Road Taken by Rona Jaffe</td>\n",
              "      <td>8</td>\n",
              "      <td>5.571429</td>\n",
              "      <td>3.25</td>\n",
              "    </tr>\n",
              "    <tr>\n",
              "      <th>1</th>\n",
              "      <td>TRAIN_000001</td>\n",
              "      <td>USER_00000</td>\n",
              "      <td>BOOK_081205</td>\n",
              "      <td>8</td>\n",
              "      <td>23.0</td>\n",
              "      <td>sackville, new brunswick, canada</td>\n",
              "      <td>Macbeth (New Penguin Shakespeare)</td>\n",
              "      <td>William Shakespeare</td>\n",
              "      <td>1981.0</td>\n",
              "      <td>Penguin Books</td>\n",
              "      <td>canada</td>\n",
              "      <td>Macbeth (New Penguin Shakespeare) by William S...</td>\n",
              "      <td>8</td>\n",
              "      <td>4.000000</td>\n",
              "      <td>3.25</td>\n",
              "    </tr>\n",
              "    <tr>\n",
              "      <th>2</th>\n",
              "      <td>TRAIN_000002</td>\n",
              "      <td>USER_00000</td>\n",
              "      <td>BOOK_086781</td>\n",
              "      <td>0</td>\n",
              "      <td>23.0</td>\n",
              "      <td>sackville, new brunswick, canada</td>\n",
              "      <td>Waverley (Penguin English Library)</td>\n",
              "      <td>Walter Scott</td>\n",
              "      <td>1981.0</td>\n",
              "      <td>Penguin Books</td>\n",
              "      <td>canada</td>\n",
              "      <td>Waverley (Penguin English Library) by Walter S...</td>\n",
              "      <td>8</td>\n",
              "      <td>0.000000</td>\n",
              "      <td>-4.75</td>\n",
              "    </tr>\n",
              "    <tr>\n",
              "      <th>3</th>\n",
              "      <td>TRAIN_000003</td>\n",
              "      <td>USER_00000</td>\n",
              "      <td>BOOK_098622</td>\n",
              "      <td>0</td>\n",
              "      <td>23.0</td>\n",
              "      <td>sackville, new brunswick, canada</td>\n",
              "      <td>Mother Earth Father Sky</td>\n",
              "      <td>Sue Harrison</td>\n",
              "      <td>1991.0</td>\n",
              "      <td>Avon</td>\n",
              "      <td>canada</td>\n",
              "      <td>Mother Earth Father Sky by Sue Harrison</td>\n",
              "      <td>8</td>\n",
              "      <td>-3.086957</td>\n",
              "      <td>-4.75</td>\n",
              "    </tr>\n",
              "    <tr>\n",
              "      <th>4</th>\n",
              "      <td>TRAIN_000004</td>\n",
              "      <td>USER_00000</td>\n",
              "      <td>BOOK_180810</td>\n",
              "      <td>8</td>\n",
              "      <td>23.0</td>\n",
              "      <td>sackville, new brunswick, canada</td>\n",
              "      <td>She Who Remembers</td>\n",
              "      <td>Linda Lay Shuler</td>\n",
              "      <td>1989.0</td>\n",
              "      <td>Signet Book</td>\n",
              "      <td>canada</td>\n",
              "      <td>She Who Remembers by Linda Lay Shuler</td>\n",
              "      <td>8</td>\n",
              "      <td>6.301887</td>\n",
              "      <td>3.25</td>\n",
              "    </tr>\n",
              "    <tr>\n",
              "      <th>...</th>\n",
              "      <td>...</td>\n",
              "      <td>...</td>\n",
              "      <td>...</td>\n",
              "      <td>...</td>\n",
              "      <td>...</td>\n",
              "      <td>...</td>\n",
              "      <td>...</td>\n",
              "      <td>...</td>\n",
              "      <td>...</td>\n",
              "      <td>...</td>\n",
              "      <td>...</td>\n",
              "      <td>...</td>\n",
              "      <td>...</td>\n",
              "      <td>...</td>\n",
              "      <td>...</td>\n",
              "    </tr>\n",
              "    <tr>\n",
              "      <th>871388</th>\n",
              "      <td>TRAIN_871388</td>\n",
              "      <td>USER_92096</td>\n",
              "      <td>BOOK_081138</td>\n",
              "      <td>0</td>\n",
              "      <td>34.0</td>\n",
              "      <td>minneapolis, minnesota, usa</td>\n",
              "      <td>Healing Words: The Power of Prayer and the Pra...</td>\n",
              "      <td>Larry Dossey</td>\n",
              "      <td>1993.0</td>\n",
              "      <td>Harpercollins</td>\n",
              "      <td>usa</td>\n",
              "      <td>Healing Words: The Power of Prayer and the Pra...</td>\n",
              "      <td>1</td>\n",
              "      <td>0.000000</td>\n",
              "      <td>0.00</td>\n",
              "    </tr>\n",
              "    <tr>\n",
              "      <th>871389</th>\n",
              "      <td>TRAIN_871389</td>\n",
              "      <td>USER_92097</td>\n",
              "      <td>BOOK_258124</td>\n",
              "      <td>0</td>\n",
              "      <td>35.0</td>\n",
              "      <td>temple, texas, usa</td>\n",
              "      <td>The Salmon of Doubt: Hitchhiking the Galaxy On...</td>\n",
              "      <td>DOUGLAS ADAMS</td>\n",
              "      <td>2002.0</td>\n",
              "      <td>Harmony</td>\n",
              "      <td>usa</td>\n",
              "      <td>The Salmon of Doubt: Hitchhiking the Galaxy On...</td>\n",
              "      <td>1</td>\n",
              "      <td>-3.571429</td>\n",
              "      <td>0.00</td>\n",
              "    </tr>\n",
              "    <tr>\n",
              "      <th>871390</th>\n",
              "      <td>TRAIN_871390</td>\n",
              "      <td>USER_92098</td>\n",
              "      <td>BOOK_071848</td>\n",
              "      <td>0</td>\n",
              "      <td>45.0</td>\n",
              "      <td>ottawa, ontario, canada</td>\n",
              "      <td>Harry Potter and the Prisoner of Azkaban (Book 3)</td>\n",
              "      <td>J. K. Rowling</td>\n",
              "      <td>2000.0</td>\n",
              "      <td>Thorndike Press</td>\n",
              "      <td>canada</td>\n",
              "      <td>Harry Potter and the Prisoner of Azkaban (Book...</td>\n",
              "      <td>1</td>\n",
              "      <td>-4.600000</td>\n",
              "      <td>0.00</td>\n",
              "    </tr>\n",
              "    <tr>\n",
              "      <th>871391</th>\n",
              "      <td>TRAIN_871391</td>\n",
              "      <td>USER_92099</td>\n",
              "      <td>BOOK_252599</td>\n",
              "      <td>8</td>\n",
              "      <td>43.0</td>\n",
              "      <td>maple grove, minnesota, usa</td>\n",
              "      <td>Heartbreak Hill: Anatomy of a Ryder Cup</td>\n",
              "      <td>Tim Rosaforte</td>\n",
              "      <td>1996.0</td>\n",
              "      <td>St Martins Pr</td>\n",
              "      <td>usa</td>\n",
              "      <td>Heartbreak Hill: Anatomy of a Ryder Cup by Tim...</td>\n",
              "      <td>1</td>\n",
              "      <td>4.000000</td>\n",
              "      <td>0.00</td>\n",
              "    </tr>\n",
              "    <tr>\n",
              "      <th>871392</th>\n",
              "      <td>TRAIN_871392</td>\n",
              "      <td>USER_92100</td>\n",
              "      <td>BOOK_130798</td>\n",
              "      <td>0</td>\n",
              "      <td>35.0</td>\n",
              "      <td>castiglion fiorentino, toscana, italy</td>\n",
              "      <td>The Coffin Quilt: The Feud between the Hatfiel...</td>\n",
              "      <td>Ann Rinaldi</td>\n",
              "      <td>1999.0</td>\n",
              "      <td>Harcourt Children's Books</td>\n",
              "      <td>italy</td>\n",
              "      <td>The Coffin Quilt: The Feud between the Hatfiel...</td>\n",
              "      <td>1</td>\n",
              "      <td>0.000000</td>\n",
              "      <td>0.00</td>\n",
              "    </tr>\n",
              "  </tbody>\n",
              "</table>\n",
              "<p>870762 rows × 15 columns</p>\n",
              "</div>\n",
              "      <button class=\"colab-df-convert\" onclick=\"convertToInteractive('df-f546a3cf-3d08-42e6-b006-ff84e944e9f7')\"\n",
              "              title=\"Convert this dataframe to an interactive table.\"\n",
              "              style=\"display:none;\">\n",
              "        \n",
              "  <svg xmlns=\"http://www.w3.org/2000/svg\" height=\"24px\"viewBox=\"0 0 24 24\"\n",
              "       width=\"24px\">\n",
              "    <path d=\"M0 0h24v24H0V0z\" fill=\"none\"/>\n",
              "    <path d=\"M18.56 5.44l.94 2.06.94-2.06 2.06-.94-2.06-.94-.94-2.06-.94 2.06-2.06.94zm-11 1L8.5 8.5l.94-2.06 2.06-.94-2.06-.94L8.5 2.5l-.94 2.06-2.06.94zm10 10l.94 2.06.94-2.06 2.06-.94-2.06-.94-.94-2.06-.94 2.06-2.06.94z\"/><path d=\"M17.41 7.96l-1.37-1.37c-.4-.4-.92-.59-1.43-.59-.52 0-1.04.2-1.43.59L10.3 9.45l-7.72 7.72c-.78.78-.78 2.05 0 2.83L4 21.41c.39.39.9.59 1.41.59.51 0 1.02-.2 1.41-.59l7.78-7.78 2.81-2.81c.8-.78.8-2.07 0-2.86zM5.41 20L4 18.59l7.72-7.72 1.47 1.35L5.41 20z\"/>\n",
              "  </svg>\n",
              "      </button>\n",
              "      \n",
              "  <style>\n",
              "    .colab-df-container {\n",
              "      display:flex;\n",
              "      flex-wrap:wrap;\n",
              "      gap: 12px;\n",
              "    }\n",
              "\n",
              "    .colab-df-convert {\n",
              "      background-color: #E8F0FE;\n",
              "      border: none;\n",
              "      border-radius: 50%;\n",
              "      cursor: pointer;\n",
              "      display: none;\n",
              "      fill: #1967D2;\n",
              "      height: 32px;\n",
              "      padding: 0 0 0 0;\n",
              "      width: 32px;\n",
              "    }\n",
              "\n",
              "    .colab-df-convert:hover {\n",
              "      background-color: #E2EBFA;\n",
              "      box-shadow: 0px 1px 2px rgba(60, 64, 67, 0.3), 0px 1px 3px 1px rgba(60, 64, 67, 0.15);\n",
              "      fill: #174EA6;\n",
              "    }\n",
              "\n",
              "    [theme=dark] .colab-df-convert {\n",
              "      background-color: #3B4455;\n",
              "      fill: #D2E3FC;\n",
              "    }\n",
              "\n",
              "    [theme=dark] .colab-df-convert:hover {\n",
              "      background-color: #434B5C;\n",
              "      box-shadow: 0px 1px 3px 1px rgba(0, 0, 0, 0.15);\n",
              "      filter: drop-shadow(0px 1px 2px rgba(0, 0, 0, 0.3));\n",
              "      fill: #FFFFFF;\n",
              "    }\n",
              "  </style>\n",
              "\n",
              "      <script>\n",
              "        const buttonEl =\n",
              "          document.querySelector('#df-f546a3cf-3d08-42e6-b006-ff84e944e9f7 button.colab-df-convert');\n",
              "        buttonEl.style.display =\n",
              "          google.colab.kernel.accessAllowed ? 'block' : 'none';\n",
              "\n",
              "        async function convertToInteractive(key) {\n",
              "          const element = document.querySelector('#df-f546a3cf-3d08-42e6-b006-ff84e944e9f7');\n",
              "          const dataTable =\n",
              "            await google.colab.kernel.invokeFunction('convertToInteractive',\n",
              "                                                     [key], {});\n",
              "          if (!dataTable) return;\n",
              "\n",
              "          const docLinkHtml = 'Like what you see? Visit the ' +\n",
              "            '<a target=\"_blank\" href=https://colab.research.google.com/notebooks/data_table.ipynb>data table notebook</a>'\n",
              "            + ' to learn more about interactive tables.';\n",
              "          element.innerHTML = '';\n",
              "          dataTable['output_type'] = 'display_data';\n",
              "          await google.colab.output.renderOutput(dataTable, element);\n",
              "          const docLink = document.createElement('div');\n",
              "          docLink.innerHTML = docLinkHtml;\n",
              "          element.appendChild(docLink);\n",
              "        }\n",
              "      </script>\n",
              "    </div>\n",
              "  </div>\n",
              "  "
            ]
          },
          "metadata": {},
          "execution_count": 16
        }
      ]
    },
    {
      "cell_type": "code",
      "source": [
        "pip install scikit-surprise"
      ],
      "metadata": {
        "colab": {
          "base_uri": "https://localhost:8080/"
        },
        "id": "XHDf5zsjzTre",
        "outputId": "d28a5b3a-93bf-411f-f968-3a85a61fee28"
      },
      "execution_count": null,
      "outputs": [
        {
          "output_type": "stream",
          "name": "stdout",
          "text": [
            "Looking in indexes: https://pypi.org/simple, https://us-python.pkg.dev/colab-wheels/public/simple/\n",
            "Collecting scikit-surprise\n",
            "  Downloading scikit-surprise-1.1.3.tar.gz (771 kB)\n",
            "\u001b[2K     \u001b[90m━━━━━━━━━━━━━━━━━━━━━━━━━━━━━━━━━━━━━━\u001b[0m \u001b[32m772.0/772.0 kB\u001b[0m \u001b[31m12.6 MB/s\u001b[0m eta \u001b[36m0:00:00\u001b[0m\n",
            "\u001b[?25h  Preparing metadata (setup.py) ... \u001b[?25l\u001b[?25hdone\n",
            "Requirement already satisfied: joblib>=1.0.0 in /usr/local/lib/python3.10/dist-packages (from scikit-surprise) (1.2.0)\n",
            "Requirement already satisfied: numpy>=1.17.3 in /usr/local/lib/python3.10/dist-packages (from scikit-surprise) (1.22.4)\n",
            "Requirement already satisfied: scipy>=1.3.2 in /usr/local/lib/python3.10/dist-packages (from scikit-surprise) (1.10.1)\n",
            "Building wheels for collected packages: scikit-surprise\n",
            "  Building wheel for scikit-surprise (setup.py) ... \u001b[?25l\u001b[?25hdone\n",
            "  Created wheel for scikit-surprise: filename=scikit_surprise-1.1.3-cp310-cp310-linux_x86_64.whl size=3095479 sha256=7a3022dfbc4750be7e92cc83cd3f4dd70ca8af2ab17c1496cb0916cd7a872ad7\n",
            "  Stored in directory: /root/.cache/pip/wheels/a5/ca/a8/4e28def53797fdc4363ca4af740db15a9c2f1595ebc51fb445\n",
            "Successfully built scikit-surprise\n",
            "Installing collected packages: scikit-surprise\n",
            "Successfully installed scikit-surprise-1.1.3\n"
          ]
        }
      ]
    },
    {
      "cell_type": "code",
      "source": [
        "from surprise import SVD, Dataset, Reader, accuracy, model_selection\n",
        "# Surprise 라이브러리용 Reader 및 Dataset 객체 생성\n",
        "reader = Reader(rating_scale=(0, 10))\n",
        "train1 = Dataset.load_from_df(train[['User-ID', 'Book-ID', 'Book-Rating']], reader)\n",
        "train2 = train1.build_full_trainset()"
      ],
      "metadata": {
        "id": "OTM3fToFzKU4"
      },
      "execution_count": null,
      "outputs": []
    },
    {
      "cell_type": "code",
      "source": [
        "# SVD 모델 훈련\n",
        "model = SVD()\n",
        "model.fit(train2)"
      ],
      "metadata": {
        "colab": {
          "base_uri": "https://localhost:8080/"
        },
        "id": "5GUEhQPez632",
        "outputId": "2e5af7d4-40fe-4f61-e4cb-2fe077308b80"
      },
      "execution_count": null,
      "outputs": [
        {
          "output_type": "execute_result",
          "data": {
            "text/plain": [
              "<surprise.prediction_algorithms.matrix_factorization.SVD at 0x7fc0588f2f80>"
            ]
          },
          "metadata": {},
          "execution_count": 35
        }
      ]
    },
    {
      "cell_type": "code",
      "source": [
        "# Train on books dataset\n",
        "%time model_selection.cross_validate(model, train1, measures=['RMSE'], cv=5, verbose=True)"
      ],
      "metadata": {
        "colab": {
          "base_uri": "https://localhost:8080/"
        },
        "id": "Qmei9ncaAPZK",
        "outputId": "a35172d9-d05c-42a5-b7d4-f3e315413bc1"
      },
      "execution_count": null,
      "outputs": [
        {
          "output_type": "stream",
          "name": "stdout",
          "text": [
            "Evaluating RMSE of algorithm SVD on 5 split(s).\n",
            "\n",
            "                  Fold 1  Fold 2  Fold 3  Fold 4  Fold 5  Mean    Std     \n",
            "RMSE (testset)    3.5044  3.4987  3.5056  3.5017  3.4989  3.5019  0.0028  \n",
            "Fit time          21.21   22.13   22.37   22.00   21.67   21.87   0.40    \n",
            "Test time         1.85    3.11    2.95    3.03    1.63    2.51    0.64    \n",
            "CPU times: user 2min 18s, sys: 2.02 s, total: 2min 20s\n",
            "Wall time: 2min 22s\n"
          ]
        },
        {
          "output_type": "execute_result",
          "data": {
            "text/plain": [
              "{'test_rmse': array([3.50444536, 3.49865853, 3.50564331, 3.50168514, 3.49892169]),\n",
              " 'fit_time': (21.209107875823975,\n",
              "  22.125531673431396,\n",
              "  22.366341590881348,\n",
              "  21.99923300743103,\n",
              "  21.66634726524353),\n",
              " 'test_time': (1.8531122207641602,\n",
              "  3.1054201126098633,\n",
              "  2.9483025074005127,\n",
              "  3.025731325149536,\n",
              "  1.6261532306671143)}"
            ]
          },
          "metadata": {},
          "execution_count": 36
        }
      ]
    },
    {
      "cell_type": "code",
      "source": [
        "submit  = pd.read_csv(colab_path + '/sample_submission.csv')\n"
      ],
      "metadata": {
        "id": "sgqjjiB1z_K9"
      },
      "execution_count": null,
      "outputs": []
    },
    {
      "cell_type": "code",
      "source": [
        "submit['Book-Rating'] = test.apply(lambda row: model.predict(row['User-ID'], row['Book-ID']).est, axis=1)"
      ],
      "metadata": {
        "id": "fsb-wmCN0A7t"
      },
      "execution_count": null,
      "outputs": []
    },
    {
      "cell_type": "code",
      "source": [
        "submit['Book-Rating'] = submit['Book-Rating'].round()\n",
        "submit['Book-Rating']"
      ],
      "metadata": {
        "colab": {
          "base_uri": "https://localhost:8080/"
        },
        "id": "xmKGY_5x0WuW",
        "outputId": "67214785-33d9-432c-c1c4-5633e945025b"
      },
      "execution_count": null,
      "outputs": [
        {
          "output_type": "execute_result",
          "data": {
            "text/plain": [
              "0         5.0\n",
              "1         7.0\n",
              "2         5.0\n",
              "3         7.0\n",
              "4         5.0\n",
              "         ... \n",
              "159616    4.0\n",
              "159617    3.0\n",
              "159618    3.0\n",
              "159619    3.0\n",
              "159620    3.0\n",
              "Name: Book-Rating, Length: 159621, dtype: float64"
            ]
          },
          "metadata": {},
          "execution_count": 37
        }
      ]
    },
    {
      "cell_type": "code",
      "source": [
        "submit.to_csv('./svd35.csv', index=False)"
      ],
      "metadata": {
        "id": "KxgJJAO80CbG"
      },
      "execution_count": null,
      "outputs": []
    }
  ],
  "metadata": {
    "colab": {
      "provenance": []
    },
    "gpuClass": "standard",
    "kernelspec": {
      "display_name": "Python 3",
      "name": "python3"
    },
    "language_info": {
      "name": "python"
    }
  },
  "nbformat": 4,
  "nbformat_minor": 0
}