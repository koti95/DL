{
  "cells": [
    {
      "cell_type": "code",
      "execution_count": 1,
      "metadata": {
        "colab": {
          "base_uri": "https://localhost:8080/"
        },
        "id": "c7ikoBhxrMh9",
        "outputId": "8a33bf19-3254-45aa-e54a-e8b815acb605"
      },
      "outputs": [
        {
          "output_type": "stream",
          "name": "stdout",
          "text": [
            "Mounted at /content/drive\n"
          ]
        }
      ],
      "source": [
        "# 드라이브 마운트\n",
        "from google.colab import drive\n",
        "drive.mount('/content/drive')"
      ]
    },
    {
      "cell_type": "code",
      "execution_count": 6,
      "metadata": {
        "id": "5TnnBjP6rx0L"
      },
      "outputs": [],
      "source": [
        "import numpy as np\n",
        "from sklearn.model_selection import train_test_split\n",
        "import pandas as pd\n",
        "import matplotlib.pyplot as plt\n",
        "import seaborn as sns\n",
        "from sklearn import metrics\n",
        "from sklearn import preprocessing\n",
        "from sklearn.neighbors import KNeighborsRegressor\n",
        "from sklearn.ensemble import RandomForestRegressor\n"
      ]
    },
    {
      "cell_type": "code",
      "execution_count": null,
      "metadata": {
        "colab": {
          "base_uri": "https://localhost:8080/"
        },
        "id": "wDSbEcRXes7d",
        "outputId": "03da432c-39da-45cc-e81f-b406d3e5cf01"
      },
      "outputs": [
        {
          "name": "stdout",
          "output_type": "stream",
          "text": [
            "Looking in indexes: https://pypi.org/simple, https://us-python.pkg.dev/colab-wheels/public/simple/\n",
            "Collecting h2o\n",
            "  Downloading h2o-3.40.0.4.tar.gz (177.6 MB)\n",
            "\u001b[2K     \u001b[90m━━━━━━━━━━━━━━━━━━━━━━━━━━━━━━━━━━━━━━━\u001b[0m \u001b[32m177.6/177.6 MB\u001b[0m \u001b[31m7.9 MB/s\u001b[0m eta \u001b[36m0:00:00\u001b[0m\n",
            "\u001b[?25h  Preparing metadata (setup.py) ... \u001b[?25l\u001b[?25hdone\n",
            "Requirement already satisfied: requests in /usr/local/lib/python3.10/dist-packages (from h2o) (2.27.1)\n",
            "Requirement already satisfied: tabulate in /usr/local/lib/python3.10/dist-packages (from h2o) (0.8.10)\n",
            "Requirement already satisfied: future in /usr/local/lib/python3.10/dist-packages (from h2o) (0.18.3)\n",
            "Requirement already satisfied: urllib3<1.27,>=1.21.1 in /usr/local/lib/python3.10/dist-packages (from requests->h2o) (1.26.15)\n",
            "Requirement already satisfied: certifi>=2017.4.17 in /usr/local/lib/python3.10/dist-packages (from requests->h2o) (2022.12.7)\n",
            "Requirement already satisfied: charset-normalizer~=2.0.0 in /usr/local/lib/python3.10/dist-packages (from requests->h2o) (2.0.12)\n",
            "Requirement already satisfied: idna<4,>=2.5 in /usr/local/lib/python3.10/dist-packages (from requests->h2o) (3.4)\n",
            "Building wheels for collected packages: h2o\n",
            "  Building wheel for h2o (setup.py) ... \u001b[?25l\u001b[?25hdone\n",
            "  Created wheel for h2o: filename=h2o-3.40.0.4-py2.py3-none-any.whl size=177697886 sha256=f85f7c329f8a3effc5227de1cd615a3eb856cd34cb67479ae67b232f43301d19\n",
            "  Stored in directory: /root/.cache/pip/wheels/43/f2/b0/5bb4d702a0467e82d77c45088db3eef25114c26b0eec8e7f6a\n",
            "Successfully built h2o\n",
            "Installing collected packages: h2o\n",
            "Successfully installed h2o-3.40.0.4\n"
          ]
        }
      ],
      "source": [
        "!pip install h2o\n"
      ]
    },
    {
      "cell_type": "code",
      "execution_count": null,
      "metadata": {
        "colab": {
          "base_uri": "https://localhost:8080/"
        },
        "id": "Bi3_FsRm3pxu",
        "outputId": "fbbddae4-e87d-4625-87c4-86ad5280192b"
      },
      "outputs": [
        {
          "name": "stdout",
          "output_type": "stream",
          "text": [
            "Looking in indexes: https://pypi.org/simple, https://us-python.pkg.dev/colab-wheels/public/simple/\n",
            "Collecting surprise\n",
            "  Downloading surprise-0.1-py2.py3-none-any.whl (1.8 kB)\n",
            "Collecting scikit-surprise (from surprise)\n",
            "  Downloading scikit-surprise-1.1.3.tar.gz (771 kB)\n",
            "\u001b[2K     \u001b[90m━━━━━━━━━━━━━━━━━━━━━━━━━━━━━━━━━━━━━━\u001b[0m \u001b[32m772.0/772.0 kB\u001b[0m \u001b[31m42.8 MB/s\u001b[0m eta \u001b[36m0:00:00\u001b[0m\n",
            "\u001b[?25h  Preparing metadata (setup.py) ... \u001b[?25l\u001b[?25hdone\n",
            "Requirement already satisfied: joblib>=1.0.0 in /usr/local/lib/python3.10/dist-packages (from scikit-surprise->surprise) (1.2.0)\n",
            "Requirement already satisfied: numpy>=1.17.3 in /usr/local/lib/python3.10/dist-packages (from scikit-surprise->surprise) (1.22.4)\n",
            "Requirement already satisfied: scipy>=1.3.2 in /usr/local/lib/python3.10/dist-packages (from scikit-surprise->surprise) (1.10.1)\n",
            "Building wheels for collected packages: scikit-surprise\n",
            "  Building wheel for scikit-surprise (setup.py) ... \u001b[?25l\u001b[?25hdone\n",
            "  Created wheel for scikit-surprise: filename=scikit_surprise-1.1.3-cp310-cp310-linux_x86_64.whl size=3095473 sha256=d31ec92ae0244cb769df1ed5bd4c44323e1e2db8c24e8543d367dfb43fdec629\n",
            "  Stored in directory: /root/.cache/pip/wheels/a5/ca/a8/4e28def53797fdc4363ca4af740db15a9c2f1595ebc51fb445\n",
            "Successfully built scikit-surprise\n",
            "Installing collected packages: scikit-surprise, surprise\n",
            "Successfully installed scikit-surprise-1.1.3 surprise-0.1\n"
          ]
        }
      ],
      "source": [
        "!pip install surprise"
      ]
    },
    {
      "cell_type": "code",
      "execution_count": null,
      "metadata": {
        "id": "EXVi1Wf53oLu"
      },
      "outputs": [],
      "source": [
        "from surprise import SVD, Dataset, Reader, accuracy\n",
        "import h2o\n"
      ]
    },
    {
      "cell_type": "code",
      "execution_count": 3,
      "metadata": {
        "id": "LSjrcSbHrOQD"
      },
      "outputs": [],
      "source": [
        "colab_path = '/content/drive/MyDrive/ColabNotebooks/제2회 코스포 x 데이콘 도서 추천 알고리즘 AI경진대회(채용 연계형)/'"
      ]
    },
    {
      "cell_type": "code",
      "execution_count": 4,
      "metadata": {
        "id": "izn2azQZrqRr"
      },
      "outputs": [],
      "source": [
        "train = pd.read_csv(colab_path+'/train.csv')\n",
        "test = pd.read_csv(colab_path+'/test.csv')"
      ]
    },
    {
      "cell_type": "code",
      "execution_count": null,
      "metadata": {
        "colab": {
          "base_uri": "https://localhost:8080/",
          "height": 1000
        },
        "id": "W7R1YCdkZgre",
        "outputId": "b75400d1-8459-4bc2-cdd4-f70b14886d6c"
      },
      "outputs": [
        {
          "data": {
            "text/html": [
              "\n",
              "  <div id=\"df-5e217875-09d0-461c-a14e-502a056e54b8\">\n",
              "    <div class=\"colab-df-container\">\n",
              "      <div>\n",
              "<style scoped>\n",
              "    .dataframe tbody tr th:only-of-type {\n",
              "        vertical-align: middle;\n",
              "    }\n",
              "\n",
              "    .dataframe tbody tr th {\n",
              "        vertical-align: top;\n",
              "    }\n",
              "\n",
              "    .dataframe thead th {\n",
              "        text-align: right;\n",
              "    }\n",
              "</style>\n",
              "<table border=\"1\" class=\"dataframe\">\n",
              "  <thead>\n",
              "    <tr style=\"text-align: right;\">\n",
              "      <th></th>\n",
              "      <th>ID</th>\n",
              "      <th>User-ID</th>\n",
              "      <th>Book-ID</th>\n",
              "      <th>Book-Rating</th>\n",
              "      <th>Age</th>\n",
              "      <th>Location</th>\n",
              "      <th>Book-Title</th>\n",
              "      <th>Book-Author</th>\n",
              "      <th>Year-Of-Publication</th>\n",
              "      <th>Publisher</th>\n",
              "    </tr>\n",
              "  </thead>\n",
              "  <tbody>\n",
              "    <tr>\n",
              "      <th>11726</th>\n",
              "      <td>TRAIN_011726</td>\n",
              "      <td>USER_01406</td>\n",
              "      <td>BOOK_242924</td>\n",
              "      <td>0</td>\n",
              "      <td>35</td>\n",
              "      <td>bagshot, surrey, united kingdom</td>\n",
              "      <td>PS, I Love You</td>\n",
              "      <td>Cecelia Ahern</td>\n",
              "      <td>2005.0</td>\n",
              "      <td>Hyperion</td>\n",
              "    </tr>\n",
              "    <tr>\n",
              "      <th>20003</th>\n",
              "      <td>TRAIN_020003</td>\n",
              "      <td>USER_02076</td>\n",
              "      <td>BOOK_102434</td>\n",
              "      <td>8</td>\n",
              "      <td>63</td>\n",
              "      <td>albuquerque, new mexico, usa</td>\n",
              "      <td>The Five Love Languages: Five Love Languages</td>\n",
              "      <td>Gary Chapman</td>\n",
              "      <td>2005.0</td>\n",
              "      <td>Moody Publishers</td>\n",
              "    </tr>\n",
              "    <tr>\n",
              "      <th>23375</th>\n",
              "      <td>TRAIN_023375</td>\n",
              "      <td>USER_02575</td>\n",
              "      <td>BOOK_102434</td>\n",
              "      <td>0</td>\n",
              "      <td>28</td>\n",
              "      <td>saugus, massachusetts, usa</td>\n",
              "      <td>The Five Love Languages: Five Love Languages</td>\n",
              "      <td>Gary Chapman</td>\n",
              "      <td>2005.0</td>\n",
              "      <td>Moody Publishers</td>\n",
              "    </tr>\n",
              "    <tr>\n",
              "      <th>29045</th>\n",
              "      <td>TRAIN_029045</td>\n",
              "      <td>USER_03215</td>\n",
              "      <td>BOOK_102434</td>\n",
              "      <td>8</td>\n",
              "      <td>30</td>\n",
              "      <td>farmington hills, michigan, usa</td>\n",
              "      <td>The Five Love Languages: Five Love Languages</td>\n",
              "      <td>Gary Chapman</td>\n",
              "      <td>2005.0</td>\n",
              "      <td>Moody Publishers</td>\n",
              "    </tr>\n",
              "    <tr>\n",
              "      <th>47056</th>\n",
              "      <td>TRAIN_047056</td>\n",
              "      <td>USER_04601</td>\n",
              "      <td>BOOK_102434</td>\n",
              "      <td>0</td>\n",
              "      <td>28</td>\n",
              "      <td>duluth, minnesota, usa</td>\n",
              "      <td>The Five Love Languages: Five Love Languages</td>\n",
              "      <td>Gary Chapman</td>\n",
              "      <td>2005.0</td>\n",
              "      <td>Moody Publishers</td>\n",
              "    </tr>\n",
              "    <tr>\n",
              "      <th>...</th>\n",
              "      <td>...</td>\n",
              "      <td>...</td>\n",
              "      <td>...</td>\n",
              "      <td>...</td>\n",
              "      <td>...</td>\n",
              "      <td>...</td>\n",
              "      <td>...</td>\n",
              "      <td>...</td>\n",
              "      <td>...</td>\n",
              "      <td>...</td>\n",
              "    </tr>\n",
              "    <tr>\n",
              "      <th>833089</th>\n",
              "      <td>TRAIN_833089</td>\n",
              "      <td>USER_87556</td>\n",
              "      <td>BOOK_059042</td>\n",
              "      <td>0</td>\n",
              "      <td>28</td>\n",
              "      <td>manchester, england, united kingdom</td>\n",
              "      <td>Ninth Life of Louis Drax, The -POSTPONED</td>\n",
              "      <td>Liz Jensen</td>\n",
              "      <td>2005.0</td>\n",
              "      <td>Bloomsbury USA</td>\n",
              "    </tr>\n",
              "    <tr>\n",
              "      <th>846802</th>\n",
              "      <td>TRAIN_846802</td>\n",
              "      <td>USER_89542</td>\n",
              "      <td>BOOK_166042</td>\n",
              "      <td>0</td>\n",
              "      <td>35</td>\n",
              "      <td>middle park, victoria, australia</td>\n",
              "      <td>Red Dwarf</td>\n",
              "      <td>Grant Naylor</td>\n",
              "      <td>2005.0</td>\n",
              "      <td>Penguin Books Ltd</td>\n",
              "    </tr>\n",
              "    <tr>\n",
              "      <th>851752</th>\n",
              "      <td>TRAIN_851752</td>\n",
              "      <td>USER_90042</td>\n",
              "      <td>BOOK_231698</td>\n",
              "      <td>0</td>\n",
              "      <td>30</td>\n",
              "      <td>fairbanks, alaska, usa</td>\n",
              "      <td>Thereby Hangs a Tale</td>\n",
              "      <td>Charles E. Funk</td>\n",
              "      <td>2005.0</td>\n",
              "      <td>HarperResource</td>\n",
              "    </tr>\n",
              "    <tr>\n",
              "      <th>863588</th>\n",
              "      <td>TRAIN_863588</td>\n",
              "      <td>USER_91307</td>\n",
              "      <td>BOOK_166042</td>\n",
              "      <td>8</td>\n",
              "      <td>44</td>\n",
              "      <td>new plymouth, taranaki, new zealand</td>\n",
              "      <td>Red Dwarf</td>\n",
              "      <td>Grant Naylor</td>\n",
              "      <td>2005.0</td>\n",
              "      <td>Penguin Books Ltd</td>\n",
              "    </tr>\n",
              "    <tr>\n",
              "      <th>870888</th>\n",
              "      <td>TRAIN_870888</td>\n",
              "      <td>USER_92078</td>\n",
              "      <td>BOOK_166042</td>\n",
              "      <td>9</td>\n",
              "      <td>30</td>\n",
              "      <td>göteborg, västra götalands län, sweden</td>\n",
              "      <td>Red Dwarf</td>\n",
              "      <td>Grant Naylor</td>\n",
              "      <td>2005.0</td>\n",
              "      <td>Penguin Books Ltd</td>\n",
              "    </tr>\n",
              "  </tbody>\n",
              "</table>\n",
              "<p>114 rows × 10 columns</p>\n",
              "</div>\n",
              "      <button class=\"colab-df-convert\" onclick=\"convertToInteractive('df-5e217875-09d0-461c-a14e-502a056e54b8')\"\n",
              "              title=\"Convert this dataframe to an interactive table.\"\n",
              "              style=\"display:none;\">\n",
              "        \n",
              "  <svg xmlns=\"http://www.w3.org/2000/svg\" height=\"24px\"viewBox=\"0 0 24 24\"\n",
              "       width=\"24px\">\n",
              "    <path d=\"M0 0h24v24H0V0z\" fill=\"none\"/>\n",
              "    <path d=\"M18.56 5.44l.94 2.06.94-2.06 2.06-.94-2.06-.94-.94-2.06-.94 2.06-2.06.94zm-11 1L8.5 8.5l.94-2.06 2.06-.94-2.06-.94L8.5 2.5l-.94 2.06-2.06.94zm10 10l.94 2.06.94-2.06 2.06-.94-2.06-.94-.94-2.06-.94 2.06-2.06.94z\"/><path d=\"M17.41 7.96l-1.37-1.37c-.4-.4-.92-.59-1.43-.59-.52 0-1.04.2-1.43.59L10.3 9.45l-7.72 7.72c-.78.78-.78 2.05 0 2.83L4 21.41c.39.39.9.59 1.41.59.51 0 1.02-.2 1.41-.59l7.78-7.78 2.81-2.81c.8-.78.8-2.07 0-2.86zM5.41 20L4 18.59l7.72-7.72 1.47 1.35L5.41 20z\"/>\n",
              "  </svg>\n",
              "      </button>\n",
              "      \n",
              "  <style>\n",
              "    .colab-df-container {\n",
              "      display:flex;\n",
              "      flex-wrap:wrap;\n",
              "      gap: 12px;\n",
              "    }\n",
              "\n",
              "    .colab-df-convert {\n",
              "      background-color: #E8F0FE;\n",
              "      border: none;\n",
              "      border-radius: 50%;\n",
              "      cursor: pointer;\n",
              "      display: none;\n",
              "      fill: #1967D2;\n",
              "      height: 32px;\n",
              "      padding: 0 0 0 0;\n",
              "      width: 32px;\n",
              "    }\n",
              "\n",
              "    .colab-df-convert:hover {\n",
              "      background-color: #E2EBFA;\n",
              "      box-shadow: 0px 1px 2px rgba(60, 64, 67, 0.3), 0px 1px 3px 1px rgba(60, 64, 67, 0.15);\n",
              "      fill: #174EA6;\n",
              "    }\n",
              "\n",
              "    [theme=dark] .colab-df-convert {\n",
              "      background-color: #3B4455;\n",
              "      fill: #D2E3FC;\n",
              "    }\n",
              "\n",
              "    [theme=dark] .colab-df-convert:hover {\n",
              "      background-color: #434B5C;\n",
              "      box-shadow: 0px 1px 3px 1px rgba(0, 0, 0, 0.15);\n",
              "      filter: drop-shadow(0px 1px 2px rgba(0, 0, 0, 0.3));\n",
              "      fill: #FFFFFF;\n",
              "    }\n",
              "  </style>\n",
              "\n",
              "      <script>\n",
              "        const buttonEl =\n",
              "          document.querySelector('#df-5e217875-09d0-461c-a14e-502a056e54b8 button.colab-df-convert');\n",
              "        buttonEl.style.display =\n",
              "          google.colab.kernel.accessAllowed ? 'block' : 'none';\n",
              "\n",
              "        async function convertToInteractive(key) {\n",
              "          const element = document.querySelector('#df-5e217875-09d0-461c-a14e-502a056e54b8');\n",
              "          const dataTable =\n",
              "            await google.colab.kernel.invokeFunction('convertToInteractive',\n",
              "                                                     [key], {});\n",
              "          if (!dataTable) return;\n",
              "\n",
              "          const docLinkHtml = 'Like what you see? Visit the ' +\n",
              "            '<a target=\"_blank\" href=https://colab.research.google.com/notebooks/data_table.ipynb>data table notebook</a>'\n",
              "            + ' to learn more about interactive tables.';\n",
              "          element.innerHTML = '';\n",
              "          dataTable['output_type'] = 'display_data';\n",
              "          await google.colab.output.renderOutput(dataTable, element);\n",
              "          const docLink = document.createElement('div');\n",
              "          docLink.innerHTML = docLinkHtml;\n",
              "          element.appendChild(docLink);\n",
              "        }\n",
              "      </script>\n",
              "    </div>\n",
              "  </div>\n",
              "  "
            ],
            "text/plain": [
              "                  ID     User-ID      Book-ID  Book-Rating  Age  \\\n",
              "11726   TRAIN_011726  USER_01406  BOOK_242924            0   35   \n",
              "20003   TRAIN_020003  USER_02076  BOOK_102434            8   63   \n",
              "23375   TRAIN_023375  USER_02575  BOOK_102434            0   28   \n",
              "29045   TRAIN_029045  USER_03215  BOOK_102434            8   30   \n",
              "47056   TRAIN_047056  USER_04601  BOOK_102434            0   28   \n",
              "...              ...         ...          ...          ...  ...   \n",
              "833089  TRAIN_833089  USER_87556  BOOK_059042            0   28   \n",
              "846802  TRAIN_846802  USER_89542  BOOK_166042            0   35   \n",
              "851752  TRAIN_851752  USER_90042  BOOK_231698            0   30   \n",
              "863588  TRAIN_863588  USER_91307  BOOK_166042            8   44   \n",
              "870888  TRAIN_870888  USER_92078  BOOK_166042            9   30   \n",
              "\n",
              "                                      Location  \\\n",
              "11726          bagshot, surrey, united kingdom   \n",
              "20003             albuquerque, new mexico, usa   \n",
              "23375               saugus, massachusetts, usa   \n",
              "29045          farmington hills, michigan, usa   \n",
              "47056                   duluth, minnesota, usa   \n",
              "...                                        ...   \n",
              "833089     manchester, england, united kingdom   \n",
              "846802        middle park, victoria, australia   \n",
              "851752                  fairbanks, alaska, usa   \n",
              "863588     new plymouth, taranaki, new zealand   \n",
              "870888  göteborg, västra götalands län, sweden   \n",
              "\n",
              "                                          Book-Title      Book-Author  \\\n",
              "11726                                 PS, I Love You    Cecelia Ahern   \n",
              "20003   The Five Love Languages: Five Love Languages     Gary Chapman   \n",
              "23375   The Five Love Languages: Five Love Languages     Gary Chapman   \n",
              "29045   The Five Love Languages: Five Love Languages     Gary Chapman   \n",
              "47056   The Five Love Languages: Five Love Languages     Gary Chapman   \n",
              "...                                              ...              ...   \n",
              "833089      Ninth Life of Louis Drax, The -POSTPONED       Liz Jensen   \n",
              "846802                                     Red Dwarf     Grant Naylor   \n",
              "851752                          Thereby Hangs a Tale  Charles E. Funk   \n",
              "863588                                     Red Dwarf     Grant Naylor   \n",
              "870888                                     Red Dwarf     Grant Naylor   \n",
              "\n",
              "        Year-Of-Publication          Publisher  \n",
              "11726                2005.0           Hyperion  \n",
              "20003                2005.0   Moody Publishers  \n",
              "23375                2005.0   Moody Publishers  \n",
              "29045                2005.0   Moody Publishers  \n",
              "47056                2005.0   Moody Publishers  \n",
              "...                     ...                ...  \n",
              "833089               2005.0     Bloomsbury USA  \n",
              "846802               2005.0  Penguin Books Ltd  \n",
              "851752               2005.0     HarperResource  \n",
              "863588               2005.0  Penguin Books Ltd  \n",
              "870888               2005.0  Penguin Books Ltd  \n",
              "\n",
              "[114 rows x 10 columns]"
            ]
          },
          "execution_count": 52,
          "metadata": {},
          "output_type": "execute_result"
        }
      ],
      "source": [
        "train.loc[train['Year-Of-Publication'] == 2005, :]\n"
      ]
    },
    {
      "cell_type": "code",
      "execution_count": null,
      "metadata": {
        "id": "Hc5wZIZB91T9"
      },
      "outputs": [],
      "source": [
        "#train = train[train['Year-Of-Publication'] != -1]\n",
        "#train"
      ]
    },
    {
      "cell_type": "code",
      "execution_count": 14,
      "metadata": {
        "colab": {
          "base_uri": "https://localhost:8080/",
          "height": 300
        },
        "id": "urI7SrnD_YCk",
        "outputId": "dbbc5781-7013-4054-9fed-1c5ac84c5e6e"
      },
      "outputs": [
        {
          "output_type": "error",
          "ename": "AttributeError",
          "evalue": "ignored",
          "traceback": [
            "\u001b[0;31m---------------------------------------------------------------------------\u001b[0m",
            "\u001b[0;31mAttributeError\u001b[0m                            Traceback (most recent call last)",
            "\u001b[0;32m<ipython-input-14-3f98a9cd5b3f>\u001b[0m in \u001b[0;36m<cell line: 1>\u001b[0;34m()\u001b[0m\n\u001b[0;32m----> 1\u001b[0;31m \u001b[0mprint\u001b[0m\u001b[0;34m(\u001b[0m\u001b[0msorted\u001b[0m\u001b[0;34m(\u001b[0m\u001b[0mtrain\u001b[0m\u001b[0;34m.\u001b[0m\u001b[0munique\u001b[0m\u001b[0;34m(\u001b[0m\u001b[0;34m)\u001b[0m\u001b[0;34m)\u001b[0m\u001b[0;34m)\u001b[0m\u001b[0;34m\u001b[0m\u001b[0;34m\u001b[0m\u001b[0m\n\u001b[0m",
            "\u001b[0;32m/usr/local/lib/python3.10/dist-packages/pandas/core/generic.py\u001b[0m in \u001b[0;36m__getattr__\u001b[0;34m(self, name)\u001b[0m\n\u001b[1;32m   5900\u001b[0m         ):\n\u001b[1;32m   5901\u001b[0m             \u001b[0;32mreturn\u001b[0m \u001b[0mself\u001b[0m\u001b[0;34m[\u001b[0m\u001b[0mname\u001b[0m\u001b[0;34m]\u001b[0m\u001b[0;34m\u001b[0m\u001b[0;34m\u001b[0m\u001b[0m\n\u001b[0;32m-> 5902\u001b[0;31m         \u001b[0;32mreturn\u001b[0m \u001b[0mobject\u001b[0m\u001b[0;34m.\u001b[0m\u001b[0m__getattribute__\u001b[0m\u001b[0;34m(\u001b[0m\u001b[0mself\u001b[0m\u001b[0;34m,\u001b[0m \u001b[0mname\u001b[0m\u001b[0;34m)\u001b[0m\u001b[0;34m\u001b[0m\u001b[0;34m\u001b[0m\u001b[0m\n\u001b[0m\u001b[1;32m   5903\u001b[0m \u001b[0;34m\u001b[0m\u001b[0m\n\u001b[1;32m   5904\u001b[0m     \u001b[0;32mdef\u001b[0m \u001b[0m__setattr__\u001b[0m\u001b[0;34m(\u001b[0m\u001b[0mself\u001b[0m\u001b[0;34m,\u001b[0m \u001b[0mname\u001b[0m\u001b[0;34m:\u001b[0m \u001b[0mstr\u001b[0m\u001b[0;34m,\u001b[0m \u001b[0mvalue\u001b[0m\u001b[0;34m)\u001b[0m \u001b[0;34m->\u001b[0m \u001b[0;32mNone\u001b[0m\u001b[0;34m:\u001b[0m\u001b[0;34m\u001b[0m\u001b[0;34m\u001b[0m\u001b[0m\n",
            "\u001b[0;31mAttributeError\u001b[0m: 'DataFrame' object has no attribute 'unique'"
          ]
        }
      ],
      "source": [
        "print(sorted(train.unique()))"
      ]
    },
    {
      "cell_type": "code",
      "execution_count": 7,
      "metadata": {
        "id": "VBTBTko2APY0"
      },
      "outputs": [],
      "source": [
        "# retrieving age data between 5 to 90\n",
        "train.loc[(train['Age'] > 90) | (train['Age'] < 5)] = np.nan"
      ]
    },
    {
      "cell_type": "code",
      "execution_count": 8,
      "metadata": {
        "id": "ArrWQ2SNBD90"
      },
      "outputs": [],
      "source": [
        "train['Age'] = train['Age'].fillna(train['Age'].mean())"
      ]
    },
    {
      "cell_type": "code",
      "execution_count": 9,
      "metadata": {
        "colab": {
          "base_uri": "https://localhost:8080/"
        },
        "id": "QENuPizOcVAN",
        "outputId": "6e0022ec-63dc-48f0-fc08-38f2e578c3ec"
      },
      "outputs": [
        {
          "output_type": "execute_result",
          "data": {
            "text/plain": [
              "0"
            ]
          },
          "metadata": {},
          "execution_count": 9
        }
      ],
      "source": [
        "train['Age'].isnull().sum()"
      ]
    },
    {
      "cell_type": "code",
      "execution_count": 10,
      "metadata": {
        "id": "FEq54AbIBKz7"
      },
      "outputs": [],
      "source": [
        "train['Age'] = train['Age'].astype(int)"
      ]
    },
    {
      "cell_type": "code",
      "execution_count": 11,
      "metadata": {
        "colab": {
          "base_uri": "https://localhost:8080/"
        },
        "id": "Itl6O84kBNGU",
        "outputId": "0344607e-6909-4cef-d031-e82669a12469"
      },
      "outputs": [
        {
          "output_type": "stream",
          "name": "stdout",
          "text": [
            "[5, 6, 7, 8, 9, 10, 11, 12, 13, 14, 15, 16, 17, 18, 19, 20, 21, 22, 23, 24, 25, 26, 27, 28, 29, 30, 31, 32, 33, 34, 35, 36, 37, 38, 39, 40, 41, 42, 43, 44, 45, 46, 47, 48, 49, 50, 51, 52, 53, 54, 55, 56, 57, 58, 59, 60, 61, 62, 63, 64, 65, 66, 67, 68, 69, 70, 71, 72, 73, 74, 75, 76, 77, 78, 79, 80, 81, 82, 83, 84, 85, 86, 89, 90]\n",
            "35    251455\n",
            "33     27349\n",
            "36     26109\n",
            "29     25456\n",
            "30     23085\n",
            "       ...  \n",
            "84        34\n",
            "85        13\n",
            "6         12\n",
            "86         2\n",
            "89         2\n",
            "Name: Age, Length: 84, dtype: int64\n"
          ]
        }
      ],
      "source": [
        "print(sorted(train.Age.unique()))\n",
        "print(train.Age.value_counts())"
      ]
    },
    {
      "cell_type": "code",
      "execution_count": 12,
      "metadata": {
        "id": "KZRzF_-NYz2m"
      },
      "outputs": [],
      "source": [
        "#train = train[train['Year-Of-Publication'] >= 1980]\n",
        "train = train[train['Year-Of-Publication'] < 2005]\n"
      ]
    },
    {
      "cell_type": "code",
      "execution_count": 13,
      "metadata": {
        "colab": {
          "base_uri": "https://localhost:8080/"
        },
        "id": "PhfDnmM9CEsa",
        "outputId": "9a53ae6c-3f05-4536-a9da-b2d8253da531"
      },
      "outputs": [
        {
          "output_type": "stream",
          "name": "stdout",
          "text": [
            "(866810,)\n"
          ]
        }
      ],
      "source": [
        "print(train['Book-Rating'].shape)"
      ]
    },
    {
      "cell_type": "code",
      "execution_count": null,
      "metadata": {
        "id": "MTrIXaymCgr0"
      },
      "outputs": [],
      "source": [
        "# Collaborative Filtering Based Recommendation Systems\n",
        "# For more accurate results only consider users who have rated atleast 520 books"
      ]
    },
    {
      "cell_type": "code",
      "execution_count": null,
      "metadata": {
        "colab": {
          "base_uri": "https://localhost:8080/"
        },
        "id": "qQ5uQgv3CjTb",
        "outputId": "305691c4-90b3-4249-bd02-3c7bda8007e5"
      },
      "outputs": [
        {
          "data": {
            "text/plain": [
              "USER_56601    11141\n",
              "USER_54845     6455\n",
              "USER_52453     5813\n",
              "USER_73501     4289\n",
              "USER_03411     3453\n",
              "              ...  \n",
              "USER_45191        1\n",
              "USER_45192        1\n",
              "USER_45193        1\n",
              "USER_45195        1\n",
              "USER_92100        1\n",
              "Name: User-ID, Length: 83244, dtype: int64"
            ]
          },
          "execution_count": 14,
          "metadata": {},
          "output_type": "execute_result"
        }
      ],
      "source": [
        "counts1 = pd.value_counts(train['User-ID'])\n",
        "counts1"
      ]
    },
    {
      "cell_type": "code",
      "execution_count": null,
      "metadata": {
        "colab": {
          "base_uri": "https://localhost:8080/"
        },
        "id": "YJyil5PzIkBK",
        "outputId": "9c25fd2c-270a-4dbd-9370-7fb4a910b4bd"
      },
      "outputs": [
        {
          "data": {
            "text/plain": [
              "USER_56601    11141\n",
              "USER_54845     6455\n",
              "USER_52453     5813\n",
              "USER_73501     4289\n",
              "USER_03411     3453\n",
              "              ...  \n",
              "USER_34652      100\n",
              "USER_02386      100\n",
              "USER_45666      100\n",
              "USER_84698      100\n",
              "USER_60037      100\n",
              "Name: User-ID, Length: 1399, dtype: int64"
            ]
          },
          "execution_count": 15,
          "metadata": {},
          "output_type": "execute_result"
        }
      ],
      "source": [
        "counts1[counts1 >= 100]"
      ]
    },
    {
      "cell_type": "code",
      "execution_count": null,
      "metadata": {
        "id": "lNHddnQDCss0"
      },
      "outputs": [],
      "source": [
        "train_new = train[train['User-ID'].isin(counts1[counts1 >= 100].index)]"
      ]
    },
    {
      "cell_type": "code",
      "execution_count": null,
      "metadata": {
        "colab": {
          "base_uri": "https://localhost:8080/"
        },
        "id": "_3wbzJefCvxs",
        "outputId": "4c74741b-79d3-4bd0-de77-2af927cc9f17"
      },
      "outputs": [
        {
          "data": {
            "text/plain": [
              "(687812, 10)"
            ]
          },
          "execution_count": 48,
          "metadata": {},
          "output_type": "execute_result"
        }
      ],
      "source": [
        "train_new.shape"
      ]
    },
    {
      "cell_type": "code",
      "execution_count": null,
      "metadata": {
        "colab": {
          "base_uri": "https://localhost:8080/",
          "height": 795
        },
        "id": "i0j8KffOxMzZ",
        "outputId": "b716d3cd-6b2b-4233-bbfa-f39ba2bec130"
      },
      "outputs": [
        {
          "data": {
            "image/png": "[encoded data removed]",
            "text/plain": [
              "<Figure size 800x900 with 1 Axes>"
            ]
          },
          "metadata": {},
          "output_type": "display_data"
        }
      ],
      "source": [
        "ds = train['Book-Title'].value_counts().reset_index()\n",
        "ds.columns = ['Book-Title', 'count']\n",
        "ds = ds.sort_values('count', ascending=False).head(20)\n",
        "plt.figure(figsize=(8, 9))\n",
        "sns.barplot(data=ds, x='count', y='Book-Title')\n",
        "plt.title('Top 20 Book-Title')\n",
        "plt.xlabel('count')\n",
        "plt.ylabel('Book-Title')\n",
        "plt.show()"
      ]
    },
    {
      "cell_type": "code",
      "execution_count": null,
      "metadata": {
        "colab": {
          "base_uri": "https://localhost:8080/",
          "height": 331
        },
        "id": "4thgzwgCxYkx",
        "outputId": "2d5d33cf-0b60-4d47-a3f6-78f676de5d72"
      },
      "outputs": [
        {
          "data": {
            "image/png": "[encoded data removed]",
            "text/plain": [
              "<Figure size 2000x1700 with 20 Axes>"
            ]
          },
          "metadata": {},
          "output_type": "display_data"
        }
      ],
      "source": [
        "train.plot(subplots =True, kind = 'box', layout = (4,5), figsize = (20,17), color = 'DarkRed')\n",
        "plt.subplots_adjust(wspace = 0.3, hspace= 0.3)"
      ]
    },
    {
      "cell_type": "code",
      "execution_count": null,
      "metadata": {
        "colab": {
          "base_uri": "https://localhost:8080/",
          "height": 566
        },
        "id": "2gFGSi-Gfkx8",
        "outputId": "fe78b7ed-db34-48e9-cfec-51769f6ec981"
      },
      "outputs": [
        {
          "name": "stdout",
          "output_type": "stream",
          "text": [
            "Checking whether there is an H2O instance running at http://localhost:54321..... not found.\n",
            "Attempting to start a local H2O server...\n",
            "  Java Version: openjdk version \"11.0.18\" 2023-01-17; OpenJDK Runtime Environment (build 11.0.18+10-post-Ubuntu-0ubuntu120.04.1); OpenJDK 64-Bit Server VM (build 11.0.18+10-post-Ubuntu-0ubuntu120.04.1, mixed mode, sharing)\n",
            "  Starting server from /usr/local/lib/python3.10/dist-packages/h2o/backend/bin/h2o.jar\n",
            "  Ice root: /tmp/tmppq9ofsd9\n",
            "  JVM stdout: /tmp/tmppq9ofsd9/h2o_unknownUser_started_from_python.out\n",
            "  JVM stderr: /tmp/tmppq9ofsd9/h2o_unknownUser_started_from_python.err\n",
            "  Server is running at http://127.0.0.1:54321\n",
            "Connecting to H2O server at http://127.0.0.1:54321 ... successful.\n"
          ]
        },
        {
          "data": {
            "text/html": [
              "\n",
              "<style>\n",
              "\n",
              "#h2o-table-1.h2o-container {\n",
              "  overflow-x: auto;\n",
              "}\n",
              "#h2o-table-1 .h2o-table {\n",
              "  /* width: 100%; */\n",
              "  margin-top: 1em;\n",
              "  margin-bottom: 1em;\n",
              "}\n",
              "#h2o-table-1 .h2o-table caption {\n",
              "  white-space: nowrap;\n",
              "  caption-side: top;\n",
              "  text-align: left;\n",
              "  /* margin-left: 1em; */\n",
              "  margin: 0;\n",
              "  font-size: larger;\n",
              "}\n",
              "#h2o-table-1 .h2o-table thead {\n",
              "  white-space: nowrap; \n",
              "  position: sticky;\n",
              "  top: 0;\n",
              "  box-shadow: 0 -1px inset;\n",
              "}\n",
              "#h2o-table-1 .h2o-table tbody {\n",
              "  overflow: auto;\n",
              "}\n",
              "#h2o-table-1 .h2o-table th,\n",
              "#h2o-table-1 .h2o-table td {\n",
              "  text-align: right;\n",
              "  /* border: 1px solid; */\n",
              "}\n",
              "#h2o-table-1 .h2o-table tr:nth-child(even) {\n",
              "  /* background: #F5F5F5 */\n",
              "}\n",
              "\n",
              "</style>      \n",
              "<div id=\"h2o-table-1\" class=\"h2o-container\">\n",
              "  <table class=\"h2o-table\">\n",
              "    <caption></caption>\n",
              "    <thead></thead>\n",
              "    <tbody><tr><td>H2O_cluster_uptime:</td>\n",
              "<td>02 secs</td></tr>\n",
              "<tr><td>H2O_cluster_timezone:</td>\n",
              "<td>Etc/UTC</td></tr>\n",
              "<tr><td>H2O_data_parsing_timezone:</td>\n",
              "<td>UTC</td></tr>\n",
              "<tr><td>H2O_cluster_version:</td>\n",
              "<td>3.40.0.4</td></tr>\n",
              "<tr><td>H2O_cluster_version_age:</td>\n",
              "<td>11 days</td></tr>\n",
              "<tr><td>H2O_cluster_name:</td>\n",
              "<td>H2O_from_python_unknownUser_x6npfu</td></tr>\n",
              "<tr><td>H2O_cluster_total_nodes:</td>\n",
              "<td>1</td></tr>\n",
              "<tr><td>H2O_cluster_free_memory:</td>\n",
              "<td>3.172 Gb</td></tr>\n",
              "<tr><td>H2O_cluster_total_cores:</td>\n",
              "<td>2</td></tr>\n",
              "<tr><td>H2O_cluster_allowed_cores:</td>\n",
              "<td>2</td></tr>\n",
              "<tr><td>H2O_cluster_status:</td>\n",
              "<td>locked, healthy</td></tr>\n",
              "<tr><td>H2O_connection_url:</td>\n",
              "<td>http://127.0.0.1:54321</td></tr>\n",
              "<tr><td>H2O_connection_proxy:</td>\n",
              "<td>{\"http\": null, \"https\": null, \"colab_language_server\": \"/usr/colab/bin/language_service\"}</td></tr>\n",
              "<tr><td>H2O_internal_security:</td>\n",
              "<td>False</td></tr>\n",
              "<tr><td>Python_version:</td>\n",
              "<td>3.10.11 final</td></tr></tbody>\n",
              "  </table>\n",
              "</div>\n"
            ],
            "text/plain": [
              "--------------------------  -----------------------------------------------------------------------------------------\n",
              "H2O_cluster_uptime:         02 secs\n",
              "H2O_cluster_timezone:       Etc/UTC\n",
              "H2O_data_parsing_timezone:  UTC\n",
              "H2O_cluster_version:        3.40.0.4\n",
              "H2O_cluster_version_age:    11 days\n",
              "H2O_cluster_name:           H2O_from_python_unknownUser_x6npfu\n",
              "H2O_cluster_total_nodes:    1\n",
              "H2O_cluster_free_memory:    3.172 Gb\n",
              "H2O_cluster_total_cores:    2\n",
              "H2O_cluster_allowed_cores:  2\n",
              "H2O_cluster_status:         locked, healthy\n",
              "H2O_connection_url:         http://127.0.0.1:54321\n",
              "H2O_connection_proxy:       {\"http\": null, \"https\": null, \"colab_language_server\": \"/usr/colab/bin/language_service\"}\n",
              "H2O_internal_security:      False\n",
              "Python_version:             3.10.11 final\n",
              "--------------------------  -----------------------------------------------------------------------------------------"
            ]
          },
          "metadata": {},
          "output_type": "display_data"
        },
        {
          "name": "stdout",
          "output_type": "stream",
          "text": [
            "Parse progress: |████████████████████████████████████████████████████████████████| (done) 100%\n"
          ]
        }
      ],
      "source": [
        "h2o.init()\n",
        "h2o_data = h2o.H2OFrame(train)"
      ]
    },
    {
      "cell_type": "code",
      "execution_count": null,
      "metadata": {
        "colab": {
          "base_uri": "https://localhost:8080/"
        },
        "id": "8VYoAe60gNy9",
        "outputId": "d1f613b4-cf91-4ccd-f406-fc1182c81da8"
      },
      "outputs": [
        {
          "name": "stdout",
          "output_type": "stream",
          "text": [
            "Parse progress: |████████████████████████████████████████████████████████████████| (done) 100%\n"
          ]
        }
      ],
      "source": [
        "test = h2o.H2OFrame(test)"
      ]
    },
    {
      "cell_type": "code",
      "execution_count": null,
      "metadata": {
        "id": "swSc54cBWO-g"
      },
      "outputs": [],
      "source": [
        "x = h2o_data.columns\n",
        "y = \"Book-Rating\"\n",
        "x.remove(y)"
      ]
    },
    {
      "cell_type": "code",
      "execution_count": null,
      "metadata": {
        "colab": {
          "base_uri": "https://localhost:8080/"
        },
        "id": "-HsYJo_jWTPP",
        "outputId": "6333d467-b55d-4fbd-825d-58fefebcdf74"
      },
      "outputs": [
        {
          "name": "stdout",
          "output_type": "stream",
          "text": [
            "AutoML progress: |\n",
            "15:59:41.670: _train param, Dropping bad and constant columns: [ID]\n",
            "\n",
            "███████████████████████████████████████████████████████████████| (done) 100%\n",
            "model_id                               rmse      mse     mae    rmsle    mean_residual_deviance\n",
            "XGBoost_1_AutoML_1_20230509_155940  3.75062  14.0671  3.3071  1.09432                   14.0671\n",
            "[1 row x 6 columns]\n",
            "\n"
          ]
        }
      ],
      "source": [
        "from h2o.automl import H2OAutoML\n",
        "\n",
        "aml = H2OAutoML(\n",
        "    max_models=10,\n",
        "    seed=42,\n",
        "    max_runtime_secs=360,\n",
        "    sort_metric='RMSE'\n",
        "\n",
        ")\n",
        "\n",
        "aml.train(\n",
        "    x=x,\n",
        "    y=y,\n",
        "    training_frame=h2o_data\n",
        ")\n",
        "\n",
        "leaderboard = aml.leaderboard\n",
        "print(leaderboard.head())"
      ]
    },
    {
      "cell_type": "code",
      "execution_count": null,
      "metadata": {
        "id": "Jy5CBsi3hLZM"
      },
      "outputs": [],
      "source": [
        "model = aml.leader"
      ]
    },
    {
      "cell_type": "code",
      "execution_count": null,
      "metadata": {
        "colab": {
          "base_uri": "https://localhost:8080/"
        },
        "id": "iCgfn1M4hMRT",
        "outputId": "84c61ed4-ceb3-4db1-8598-32d2c1b38fb9"
      },
      "outputs": [
        {
          "name": "stdout",
          "output_type": "stream",
          "text": [
            "xgboost prediction progress: |███████████████████████████████████████████████████| (done) 100%\n"
          ]
        },
        {
          "name": "stderr",
          "output_type": "stream",
          "text": [
            "/usr/local/lib/python3.10/dist-packages/h2o/job.py:83: UserWarning: Test/Validation dataset column 'Book-ID' has levels not trained on: [\"BOOK_000000\", \"BOOK_000013\", \"BOOK_000014\", \"BOOK_000019\", \"BOOK_000025\", \"BOOK_000048\", \"BOOK_000053\", \"BOOK_000056\", \"BOOK_000059\", \"BOOK_000073\", ...26600 not listed..., \"BOOK_269927\", \"BOOK_269973\", \"BOOK_269983\", \"BOOK_269984\", \"BOOK_269986\", \"BOOK_270010\", \"BOOK_270021\", \"BOOK_270038\", \"BOOK_270046\", \"BOOK_270048\"]\n",
            "  warnings.warn(w)\n",
            "/usr/local/lib/python3.10/dist-packages/h2o/job.py:83: UserWarning: Test/Validation dataset column 'Book-Title' has levels not trained on: [\" Dark Justice\", \" Stories of an Imaginary Childhood\", \" Tales of Terror and Suspense\", \" The Town Cats and Other Tales\", \"\"Ain't You Glad You Joined the Republicans?\": A Short History of the Gop\", \"\"Angler's Mail\" A-Z Encyclopedia of Fishing in the British Isles\", \"\"Any Grooming Hints for Your Fans, Rollie?\" (A Doonesbury book)\", \"\"F\" Is for Fugitive : A Kinsey Millhone Mystery (Kinsey Millhone Mysteries (Audio))\", \"\"Good Housekeeping\" Creative Cookery (Good Housekeeping)\", \"\"I Am Cain\" (True crime)\", ...23199 not listed..., \"last dance,last chance&amp;other true cases (ann rule's crime files, volume 8)\", \"name the baby.\", \"net future\", \"sharks (reading discovery)\", \"thepurplebook: The Definitive Guide to Exceptional Online Shopping\", \"Ã?ko-Tricks und Bio-Schwindel: Damit uns Wirtschaft und Politik nicht mehr fÃ¼r dumm verkaufen kÃ¶nnen\", \"Ã?tude socio-Linguistique de la segmentation syntaxique du franÃ§ais parlÃ© (Ã?tudes romanes de Lund)\", \"Ã?Â?ber den Wassern schweben.\", \"Ã?Â?ber die Freiheit.\", \"Ã?Â?bermorgen.\"]\n",
            "  warnings.warn(w)\n",
            "/usr/local/lib/python3.10/dist-packages/h2o/job.py:83: UserWarning: Test/Validation dataset column 'Book-Author' has levels not trained on: [\" J. D. Landis\", \" Mimma Balia\", \"\"\"Ron\"\", \"'N Sync\", \"142 moms from all over the world\", \"A B Simpson\", \"A MunnÃ©-JordÃ \", \"A N Jeffares\", \"A. A. Sveshnikov\", \"A. Alice\", ...8932 not listed..., \"ZoÃ© ValdÃ©s\", \"Zuleikha Mayat\", \"ann rule\", \"herge\", \"johanna spyri\", \"jude deveraux\", \"margaret Sidney\", \"selected Karen Sullivan\", \"tracie j peterson\", \"van Dale\"]\n",
            "  warnings.warn(w)\n",
            "/usr/local/lib/python3.10/dist-packages/h2o/job.py:83: UserWarning: Test/Validation dataset column 'User-ID' has levels not trained on: [\"USER_00036\", \"USER_00037\", \"USER_00039\", \"USER_00063\", \"USER_00069\", \"USER_00073\", \"USER_00081\", \"USER_00086\", \"USER_00089\", \"USER_00125\", ...8826 not listed..., \"USER_91989\", \"USER_91998\", \"USER_92010\", \"USER_92012\", \"USER_92018\", \"USER_92024\", \"USER_92033\", \"USER_92035\", \"USER_92044\", \"USER_92068\"]\n",
            "  warnings.warn(w)\n",
            "/usr/local/lib/python3.10/dist-packages/h2o/job.py:83: UserWarning: Test/Validation dataset column 'Location' has levels not trained on: [\"&#321;ód&#380;, &#322;ódzkie, poland\", \"-, england, united kingdom\", \"-, north yorkshire, united kingdom\", \"0000000000000000, missouri, usa\", \"14971 deception rd., washington, usa\", \"19258 boizenburg, hamburg, germany\", \"22, australian capital territory, australia\", \"24114 kiel, schleswig-holstein, germany\", \"40882 ratingen, nordrhein-westfalen, germany\", \"41017, kentucky, usa\", ...1488 not listed..., \"yelvertoft, england, united kingdom\", \"yogyakarta, n/a, indonesia\", \"yokosuka, yokosuka, japan\", \"zalla, bizkaia, spain\", \"zeist, n/a, netherlands\", \"zumbrota, minnesota, usa\", \"zushi, n/a, japan\", \"zwingenberg, baden-wuerttemberg, germany\", \"zürich, zurich, switzerland\", \"£ódÿ, mazowsze, poland\"]\n",
            "  warnings.warn(w)\n",
            "/usr/local/lib/python3.10/dist-packages/h2o/job.py:83: UserWarning: Test/Validation dataset column 'Publisher' has levels not trained on: [\"1001 nuits\", \"2nd Avenue Publishing, Inc.\", \"3\", \"A R Hari\", \"A W Publ\", \"A. D. Clarke Publishers\", \"A. S. Barnes and Co\", \"A. Sutton Pub\", \"ACA Books, American Council for the Arts\", \"Abbey Library\", ...1183 not listed..., \"Zebra Books; Kensington Publishing Corp.\", \"Zephyr Press (AZ)\", \"Zodiac Press\", \"Zoe Co\", \"[Ambo\", \"del Monte\", \"harlequin\", \"pocket books\", \"stanyard creek publishing\", \"Ã?ditions 24 heures\"]\n",
            "  warnings.warn(w)\n"
          ]
        }
      ],
      "source": [
        "pred = model.predict(test)\n"
      ]
    },
    {
      "cell_type": "code",
      "execution_count": null,
      "metadata": {
        "colab": {
          "base_uri": "https://localhost:8080/",
          "height": 173
        },
        "id": "A1Schsw-hN2L",
        "outputId": "bdffb489-84a2-4470-a6d9-ca931d618fe9"
      },
      "outputs": [
        {
          "ename": "NameError",
          "evalue": "ignored",
          "output_type": "error",
          "traceback": [
            "\u001b[0;31m---------------------------------------------------------------------------\u001b[0m",
            "\u001b[0;31mNameError\u001b[0m                                 Traceback (most recent call last)",
            "\u001b[0;32m<ipython-input-1-524088d8a608>\u001b[0m in \u001b[0;36m<cell line: 1>\u001b[0;34m()\u001b[0m\n\u001b[0;32m----> 1\u001b[0;31m \u001b[0mpred_df\u001b[0m \u001b[0;34m=\u001b[0m \u001b[0mpd\u001b[0m\u001b[0;34m.\u001b[0m\u001b[0mDataFrame\u001b[0m\u001b[0;34m(\u001b[0m\u001b[0mpred\u001b[0m\u001b[0;34m.\u001b[0m\u001b[0mas_data_frame\u001b[0m\u001b[0;34m(\u001b[0m\u001b[0;34m)\u001b[0m\u001b[0;34m)\u001b[0m\u001b[0;34m\u001b[0m\u001b[0;34m\u001b[0m\u001b[0m\n\u001b[0m",
            "\u001b[0;31mNameError\u001b[0m: name 'pd' is not defined"
          ]
        }
      ],
      "source": [
        "pred_df = pd.DataFrame(pred.as_data_frame())\n"
      ]
    },
    {
      "cell_type": "code",
      "execution_count": null,
      "metadata": {
        "colab": {
          "base_uri": "https://localhost:8080/"
        },
        "id": "4tGtedIOhO0c",
        "outputId": "86c145d1-af22-4e06-97d1-dad4b39eb2c9"
      },
      "outputs": [
        {
          "data": {
            "text/plain": [
              "0         2.527085\n",
              "1         2.527085\n",
              "2         2.311117\n",
              "3         2.527085\n",
              "4         2.311117\n",
              "            ...   \n",
              "159616    3.316614\n",
              "159617    3.316614\n",
              "159618    2.853950\n",
              "159619    2.853950\n",
              "159620    3.316614\n",
              "Name: predict, Length: 159621, dtype: float64"
            ]
          },
          "execution_count": 23,
          "metadata": {},
          "output_type": "execute_result"
        }
      ],
      "source": [
        "pred_df['predict']"
      ]
    },
    {
      "cell_type": "code",
      "execution_count": null,
      "metadata": {
        "id": "f1kek8MGWWS3"
      },
      "outputs": [],
      "source": [
        "submit  = pd.read_csv(colab_path + '/sample_submission.csv')"
      ]
    },
    {
      "cell_type": "code",
      "execution_count": null,
      "metadata": {
        "id": "GkzS6Vtc2Fjh"
      },
      "outputs": [],
      "source": [
        "submit['Book-Rating'] = pred_df['predict']\n"
      ]
    },
    {
      "cell_type": "code",
      "execution_count": null,
      "metadata": {
        "colab": {
          "base_uri": "https://localhost:8080/"
        },
        "id": "fx3L3eIn8-J1",
        "outputId": "6bfa504a-ca4e-4750-ead3-f3232a0015cf"
      },
      "outputs": [
        {
          "data": {
            "text/plain": [
              "0         2.844789\n",
              "1         3.197025\n",
              "2         2.998634\n",
              "3         2.921699\n",
              "4         2.669293\n",
              "            ...   \n",
              "159616    4.099040\n",
              "159617    4.053930\n",
              "159618    3.652415\n",
              "159619    3.900649\n",
              "159620    4.053930\n",
              "Name: Book-Rating, Length: 159621, dtype: float64"
            ]
          },
          "execution_count": 154,
          "metadata": {},
          "output_type": "execute_result"
        }
      ],
      "source": [
        "submit['Book-Rating']"
      ]
    },
    {
      "cell_type": "code",
      "execution_count": null,
      "metadata": {
        "id": "8kJFrCBK2Geu"
      },
      "outputs": [],
      "source": [
        "submit.to_csv('./svd25.csv', index=False)"
      ]
    }
  ],
  "metadata": {
    "accelerator": "GPU",
    "colab": {
      "provenance": []
    },
    "gpuClass": "standard",
    "kernelspec": {
      "display_name": "Python 3",
      "name": "python3"
    },
    "language_info": {
      "name": "python"
    }
  },
  "nbformat": 4,
  "nbformat_minor": 0
}