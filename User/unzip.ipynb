{
  "nbformat": 4,
  "nbformat_minor": 0,
  "metadata": {
    "colab": {
      "provenance": []
    },
    "kernelspec": {
      "name": "python3",
      "display_name": "Python 3"
    },
    "language_info": {
      "name": "python"
    }
  },
  "cells": [
    {
      "cell_type": "code",
      "execution_count": 1,
      "metadata": {
        "colab": {
          "base_uri": "https://localhost:8080/"
        },
        "id": "x-HLc4DNv321",
        "outputId": "a8cf1953-ddce-456a-e87f-114b9fdbd256"
      },
      "outputs": [
        {
          "output_type": "stream",
          "name": "stdout",
          "text": [
            "Mounted at /content/drive\n"
          ]
        }
      ],
      "source": [
        "# 드라이브 마운트\n",
        "from google.colab import drive\n",
        "drive.mount('/content/drive')"
      ]
    },
    {
      "cell_type": "code",
      "source": [
        "%cd /content/drive/MyDrive/ColabNotebooks/제2회 코스포 x 데이콘 도서 추천 알고리즘 AI경진대회(채용 연계형)\n",
        "!unzip -qq \"/content/drive/MyDrive/ColabNotebooks/제2회 코스포 x 데이콘 도서 추천 알고리즘 AI경진대회(채용 연계형)/open.zip\""
      ],
      "metadata": {
        "colab": {
          "base_uri": "https://localhost:8080/"
        },
        "id": "Ze8IB648wPK8",
        "outputId": "b77489a8-b759-4edc-c501-74c377cb1318"
      },
      "execution_count": 2,
      "outputs": [
        {
          "output_type": "stream",
          "name": "stdout",
          "text": [
            "/content/drive/MyDrive/ColabNotebooks/제2회 코스포 x 데이콘 도서 추천 알고리즘 AI경진대회(채용 연계형)\n"
          ]
        }
      ]
    }
  ]
}