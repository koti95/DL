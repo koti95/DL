{
 "cells": [
  {
   "cell_type": "markdown",
   "id": "f7820830",
   "metadata": {},
   "source": [
    "# 모듈 설치"
   ]
  },
  {
   "cell_type": "code",
   "execution_count": 1,
   "id": "545e2a1f",
   "metadata": {},
   "outputs": [
    {
     "name": "stdout",
     "output_type": "stream",
     "text": [
      "Requirement already satisfied: cssselect in c:\\users\\user\\anaconda3\\lib\\site-packages (1.1.0)\n"
     ]
    }
   ],
   "source": [
    "! pip install cssselect"
   ]
  },
  {
   "cell_type": "code",
   "execution_count": 1,
   "id": "0347158d",
   "metadata": {},
   "outputs": [],
   "source": [
    "import lxml.html\n",
    "import requests\n",
    "from selenium.webdriver import Chrome"
   ]
  },
  {
   "cell_type": "code",
   "execution_count": 10,
   "id": "3574c0ca",
   "metadata": {},
   "outputs": [],
   "source": [
    "import pandas as pd"
   ]
  },
  {
   "cell_type": "markdown",
   "id": "02a16926",
   "metadata": {},
   "source": [
    "# 주소 가져오기"
   ]
  },
  {
   "cell_type": "code",
   "execution_count": 2,
   "id": "cc39cb49",
   "metadata": {},
   "outputs": [],
   "source": [
    "url = 'https://www.epeople.go.kr/nep/pttn/gnrlPttn/pttnSmlrCaseList.npaid?pageIndex={}'"
   ]
  },
  {
   "cell_type": "code",
   "execution_count": 10,
   "id": "7d63ed2e",
   "metadata": {
    "scrolled": true
   },
   "outputs": [],
   "source": [
    "title_list = []\n",
    "#browser = Chrome()\n",
    "#browser.get(url)\n",
    "for page in range(1,10001) :\n",
    "    #browser.get(url.format(page))\n",
    "    res = requests.get(url.format(page))\n",
    "    root = lxml.html.fromstring(res.text)\n",
    "    titles = root.cssselect('td.left a')\n",
    "    for i in range(len(titles)) :\n",
    "        a = titles[i].text_content() \n",
    "        title_list.append(a)"
   ]
  },
  {
   "cell_type": "code",
   "execution_count": 13,
   "id": "c3112045",
   "metadata": {},
   "outputs": [],
   "source": [
    "final = pd.DataFrame(title_list, columns=['title'])\n",
    "final.to_csv('홍.csv',encoding='utf-8')"
   ]
  },
  {
   "cell_type": "markdown",
   "id": "7dbf4e05",
   "metadata": {},
   "source": [
    "# 파일 합치기"
   ]
  },
  {
   "cell_type": "code",
   "execution_count": 3,
   "id": "8163b140",
   "metadata": {
    "scrolled": true
   },
   "outputs": [],
   "source": [
    "a = pd.read_csv('홍.csv',encoding='utf-8')\n",
    "b = pd.read_csv('유라.csv',encoding='utf-8')\n",
    "c = pd.read_csv('준수.csv',encoding='utf-8')\n",
    "d = pd.read_csv('혜은.csv',encoding='utf-8')\n",
    "e = pd.read_csv('세홍.csv',encoding='utf-8')"
   ]
  },
  {
   "cell_type": "code",
   "execution_count": 22,
   "id": "6aaa1847",
   "metadata": {},
   "outputs": [
    {
     "data": {
      "text/plain": [
       "(99990, 99990, 99990, 31409)"
      ]
     },
     "execution_count": 22,
     "metadata": {},
     "output_type": "execute_result"
    }
   ],
   "source": [
    "len(b), len(c),len(d),len(e)"
   ]
  },
  {
   "cell_type": "code",
   "execution_count": 4,
   "id": "a124feb3",
   "metadata": {},
   "outputs": [],
   "source": [
    "total = pd.concat([a,b,c,d,e])"
   ]
  },
  {
   "cell_type": "code",
   "execution_count": 5,
   "id": "1efd6bf4",
   "metadata": {},
   "outputs": [
    {
     "data": {
      "text/html": [
       "<div>\n",
       "<style scoped>\n",
       "    .dataframe tbody tr th:only-of-type {\n",
       "        vertical-align: middle;\n",
       "    }\n",
       "\n",
       "    .dataframe tbody tr th {\n",
       "        vertical-align: top;\n",
       "    }\n",
       "\n",
       "    .dataframe thead th {\n",
       "        text-align: right;\n",
       "    }\n",
       "</style>\n",
       "<table border=\"1\" class=\"dataframe\">\n",
       "  <thead>\n",
       "    <tr style=\"text-align: right;\">\n",
       "      <th></th>\n",
       "      <th>title</th>\n",
       "    </tr>\n",
       "  </thead>\n",
       "  <tbody>\n",
       "    <tr>\n",
       "      <th>0</th>\n",
       "      <td>높이 31m를 넘는 8개 층의 각층별 바닥면적이 400㎡인 경우 비상용승강기 설치대...</td>\n",
       "    </tr>\n",
       "    <tr>\n",
       "      <th>1</th>\n",
       "      <td>비상용승강기 승강장을 통한 피난계단의 출입구 가능 여부</td>\n",
       "    </tr>\n",
       "    <tr>\n",
       "      <th>2</th>\n",
       "      <td>승강기가 서지 않는 층의 승강장에 승강기문을 설치하지 않아도 되는지</td>\n",
       "    </tr>\n",
       "    <tr>\n",
       "      <th>3</th>\n",
       "      <td>소규모 들녘경영체 지원</td>\n",
       "    </tr>\n",
       "    <tr>\n",
       "      <th>4</th>\n",
       "      <td>유기농 생태마을 운영 활성화 지원</td>\n",
       "    </tr>\n",
       "    <tr>\n",
       "      <th>...</th>\n",
       "      <td>...</td>\n",
       "    </tr>\n",
       "    <tr>\n",
       "      <th>31404</th>\n",
       "      <td>예방수칙 변경</td>\n",
       "    </tr>\n",
       "    <tr>\n",
       "      <th>31405</th>\n",
       "      <td>기부체납 도로</td>\n",
       "    </tr>\n",
       "    <tr>\n",
       "      <th>31406</th>\n",
       "      <td>화성시 목동 동탄2택지 개발지구 A49블록 동탄2신도시호반베르디움 504동 동명칭변경의건</td>\n",
       "    </tr>\n",
       "    <tr>\n",
       "      <th>31407</th>\n",
       "      <td>마을 길의 파인 부분으로 인하여 통행이 상당히 불편한 상황입니다.</td>\n",
       "    </tr>\n",
       "    <tr>\n",
       "      <th>31408</th>\n",
       "      <td>혁신도시 소하천 징검다리 제초요청의 건</td>\n",
       "    </tr>\n",
       "  </tbody>\n",
       "</table>\n",
       "<p>431349 rows × 1 columns</p>\n",
       "</div>"
      ],
      "text/plain": [
       "                                                   title\n",
       "0      높이 31m를 넘는 8개 층의 각층별 바닥면적이 400㎡인 경우 비상용승강기 설치대...\n",
       "1                         비상용승강기 승강장을 통한 피난계단의 출입구 가능 여부\n",
       "2                  승강기가 서지 않는 층의 승강장에 승강기문을 설치하지 않아도 되는지\n",
       "3                                           소규모 들녘경영체 지원\n",
       "4                                     유기농 생태마을 운영 활성화 지원\n",
       "...                                                  ...\n",
       "31404                                            예방수칙 변경\n",
       "31405                                            기부체납 도로\n",
       "31406  화성시 목동 동탄2택지 개발지구 A49블록 동탄2신도시호반베르디움 504동 동명칭변경의건\n",
       "31407               마을 길의 파인 부분으로 인하여 통행이 상당히 불편한 상황입니다.\n",
       "31408                              혁신도시 소하천 징검다리 제초요청의 건\n",
       "\n",
       "[431349 rows x 1 columns]"
      ]
     },
     "execution_count": 5,
     "metadata": {},
     "output_type": "execute_result"
    }
   ],
   "source": [
    "total.iloc[:,[1]]"
   ]
  },
  {
   "cell_type": "code",
   "execution_count": 6,
   "id": "515b6d36",
   "metadata": {},
   "outputs": [],
   "source": [
    "final = total.drop_duplicates(['title'], keep='first')"
   ]
  },
  {
   "cell_type": "code",
   "execution_count": 7,
   "id": "13441314",
   "metadata": {},
   "outputs": [
    {
     "data": {
      "text/plain": [
       "133768"
      ]
     },
     "execution_count": 7,
     "metadata": {},
     "output_type": "execute_result"
    }
   ],
   "source": [
    "len(final)"
   ]
  },
  {
   "cell_type": "code",
   "execution_count": 8,
   "id": "b373bb3e",
   "metadata": {},
   "outputs": [],
   "source": [
    "final.to_csv('중복제거_real.csv',encoding='utf-8')"
   ]
  },
  {
   "cell_type": "code",
   "execution_count": null,
   "id": "4b103d77",
   "metadata": {},
   "outputs": [],
   "source": []
  },
  {
   "cell_type": "markdown",
   "id": "65024962",
   "metadata": {},
   "source": [
    "# 검색 키워드 넣어서 크롤링(feat.셀레늄)"
   ]
  },
  {
   "cell_type": "code",
   "execution_count": 2,
   "id": "aec7cbd1",
   "metadata": {},
   "outputs": [],
   "source": [
    "from selenium import webdriver"
   ]
  },
  {
   "cell_type": "code",
   "execution_count": 3,
   "id": "fb30374c",
   "metadata": {},
   "outputs": [],
   "source": [
    "url = 'https://www.epeople.go.kr/nep/pttn/gnrlPttn/pttnSmlrCaseList.npaid'"
   ]
  },
  {
   "cell_type": "code",
   "execution_count": 4,
   "id": "f96efae7",
   "metadata": {},
   "outputs": [],
   "source": [
    "browser = Chrome()\n",
    "browser.get(url)"
   ]
  },
  {
   "cell_type": "code",
   "execution_count": 5,
   "id": "e179089b",
   "metadata": {},
   "outputs": [],
   "source": [
    "element = browser.find_element_by_name('searchWord')\n",
    "element.send_keys(\"주차\") #주차/정차 바꿔주기\n",
    "element.submit()"
   ]
  },
  {
   "cell_type": "code",
   "execution_count": 6,
   "id": "38a233d5",
   "metadata": {
    "scrolled": true
   },
   "outputs": [],
   "source": [
    "#주차 > 266 > 준수오빠\n",
    "#정차 > 2063 > 홍(1~400) / 호진(401~800) / 유라(801~1200) / 혜은언니(1201~1600) / 세홍(1601~2063)"
   ]
  },
  {
   "cell_type": "code",
   "execution_count": 7,
   "id": "326dec46",
   "metadata": {},
   "outputs": [],
   "source": [
    "title_list = []\n",
    "\n",
    "for i in range(1,266+1) :\n",
    "    titles = browser.find_elements_by_css_selector('td.left a')\n",
    "    \n",
    "    for j in range(len(titles)) : \n",
    "        a = titles[j].text\n",
    "        title_list.append(a)\n",
    "        \n",
    "    next_page = browser.find_elements_by_css_selector('span.nep_p_next > a')\n",
    "    next_page[0].click()    "
   ]
  },
  {
   "cell_type": "code",
   "execution_count": 17,
   "id": "ff033da7",
   "metadata": {},
   "outputs": [],
   "source": [
    "# 10*할당된 페이지수 정도가 나오면 ㅇㅋ\n",
    "\n",
    "len(title_list)\n",
    "import pandas as pd"
   ]
  },
  {
   "cell_type": "code",
   "execution_count": 13,
   "id": "e6e354c5",
   "metadata": {},
   "outputs": [],
   "source": [
    "final = pd.DataFrame(title_list, columns=['title'])\n",
    "\n",
    "# 이름 > 자기 이름으로 바꾸세요 ^^\n",
    "final.to_csv('준수.csv',encoding='utf-8')"
   ]
  },
  {
   "cell_type": "code",
   "execution_count": null,
   "id": "d99b39a8",
   "metadata": {},
   "outputs": [],
   "source": []
  }
 ],
 "metadata": {
  "kernelspec": {
   "display_name": "Python 3",
   "language": "python",
   "name": "python3"
  },
  "language_info": {
   "codemirror_mode": {
    "name": "ipython",
    "version": 3
   },
   "file_extension": ".py",
   "mimetype": "text/x-python",
   "name": "python",
   "nbconvert_exporter": "python",
   "pygments_lexer": "ipython3",
   "version": "3.8.8"
  }
 },
 "nbformat": 4,
 "nbformat_minor": 5
}
